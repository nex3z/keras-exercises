{
 "cells": [
  {
   "cell_type": "code",
   "execution_count": 1,
   "metadata": {},
   "outputs": [
    {
     "data": {
      "image/png": "[encoded data removed]",
      "text/plain": [
       "<Figure size 432x288 with 1 Axes>"
      ]
     },
     "metadata": {
      "needs_background": "light"
     },
     "output_type": "display_data"
    }
   ],
   "source": [
    "from sklearn.datasets import make_moons\n",
    "import matplotlib.pyplot as plt\n",
    "%matplotlib inline\n",
    "\n",
    "x, y = make_moons(n_samples=500, noise=0.30, random_state=42)\n",
    "\n",
    "plt.figure()\n",
    "plt.plot(x[:, 0][y==0], x[:, 1][y==0], '+')\n",
    "plt.plot(x[:, 0][y==1], x[:, 1][y==1], 'x')\n",
    "plt.axis([-1.5, 2.5, -1, 1.5])\n",
    "plt.show()"
   ]
  },
  {
   "cell_type": "code",
   "execution_count": 2,
   "metadata": {},
   "outputs": [
    {
     "name": "stderr",
     "output_type": "stream",
     "text": [
      "Using TensorFlow backend.\n"
     ]
    },
    {
     "name": "stdout",
     "output_type": "stream",
     "text": [
      "x_train.shape = (375, 2), y_train.shape = (375, 2)\n",
      "x_test.shape = (125, 2), y_test.shape = (125, 2)\n"
     ]
    }
   ],
   "source": [
    "from keras.utils import to_categorical\n",
    "from sklearn.model_selection import train_test_split\n",
    "\n",
    "NUM_CLASSES = 2\n",
    "\n",
    "y_one_hot = to_categorical(y, NUM_CLASSES)\n",
    "x_train, x_test, y_train, y_test = train_test_split(x, y_one_hot, random_state=42)\n",
    "\n",
    "print(\"x_train.shape = {}, y_train.shape = {}\".format(x_train.shape, y_train.shape))\n",
    "print(\"x_test.shape = {}, y_test.shape = {}\".format(x_test.shape, y_test.shape))"
   ]
  },
  {
   "cell_type": "code",
   "execution_count": 3,
   "metadata": {},
   "outputs": [],
   "source": [
    "INPUT_SHAPE = (2, )\n",
    "\n",
    "BATCH_SIZE = 64\n",
    "EPOCHS = 10"
   ]
  },
  {
   "cell_type": "markdown",
   "metadata": {},
   "source": [
    "## Use built-in loss function"
   ]
  },
  {
   "cell_type": "code",
   "execution_count": 4,
   "metadata": {},
   "outputs": [
    {
     "name": "stdout",
     "output_type": "stream",
     "text": [
      "WARNING:tensorflow:From d:\\Dev\\Miniconda3\\envs\\tf\\lib\\site-packages\\tensorflow\\python\\framework\\op_def_library.py:263: colocate_with (from tensorflow.python.framework.ops) is deprecated and will be removed in a future version.\n",
      "Instructions for updating:\n",
      "Colocations handled automatically by placer.\n",
      "_________________________________________________________________\n",
      "Layer (type)                 Output Shape              Param #   \n",
      "=================================================================\n",
      "input_1 (InputLayer)         (None, 2)                 0         \n",
      "_________________________________________________________________\n",
      "dense_1 (Dense)              (None, 128)               384       \n",
      "_________________________________________________________________\n",
      "dense_2 (Dense)              (None, 2)                 258       \n",
      "=================================================================\n",
      "Total params: 642\n",
      "Trainable params: 642\n",
      "Non-trainable params: 0\n",
      "_________________________________________________________________\n"
     ]
    }
   ],
   "source": [
    "import keras\n",
    "from keras.models import Model\n",
    "from keras.layers import Input, Dense\n",
    "from keras.losses import categorical_crossentropy\n",
    "from keras.optimizers import Adadelta\n",
    "\n",
    "inputs = Input(shape=INPUT_SHAPE)\n",
    "x = Dense(128, activation='relu')(inputs)\n",
    "predications = Dense(NUM_CLASSES, activation='sigmoid')(x)\n",
    "\n",
    "model = Model(inputs=inputs, outputs=predications)\n",
    "model.compile(loss=categorical_crossentropy,optimizer=Adadelta(), metrics=['accuracy'])\n",
    "\n",
    "model.summary()"
   ]
  },
  {
   "cell_type": "code",
   "execution_count": 5,
   "metadata": {},
   "outputs": [
    {
     "name": "stdout",
     "output_type": "stream",
     "text": [
      "WARNING:tensorflow:From d:\\Dev\\Miniconda3\\envs\\tf\\lib\\site-packages\\tensorflow\\python\\ops\\math_ops.py:3066: to_int32 (from tensorflow.python.ops.math_ops) is deprecated and will be removed in a future version.\n",
      "Instructions for updating:\n",
      "Use tf.cast instead.\n",
      "Train on 375 samples, validate on 125 samples\n",
      "Epoch 1/10\n",
      "375/375 [==============================] - 2s 4ms/step - loss: 0.6977 - acc: 0.4187 - val_loss: 0.6744 - val_acc: 0.7440\n",
      "Epoch 2/10\n",
      "375/375 [==============================] - 0s 61us/step - loss: 0.6613 - acc: 0.7493 - val_loss: 0.6380 - val_acc: 0.7760\n",
      "Epoch 3/10\n",
      "375/375 [==============================] - 0s 61us/step - loss: 0.6249 - acc: 0.7733 - val_loss: 0.5996 - val_acc: 0.7920\n",
      "Epoch 4/10\n",
      "375/375 [==============================] - 0s 53us/step - loss: 0.5866 - acc: 0.7893 - val_loss: 0.5581 - val_acc: 0.8160\n",
      "Epoch 5/10\n",
      "375/375 [==============================] - 0s 64us/step - loss: 0.5450 - acc: 0.7947 - val_loss: 0.5145 - val_acc: 0.8240\n",
      "Epoch 6/10\n",
      "375/375 [==============================] - 0s 61us/step - loss: 0.5025 - acc: 0.7920 - val_loss: 0.4705 - val_acc: 0.8320\n",
      "Epoch 7/10\n",
      "375/375 [==============================] - 0s 61us/step - loss: 0.4617 - acc: 0.8080 - val_loss: 0.4313 - val_acc: 0.8320\n",
      "Epoch 8/10\n",
      "375/375 [==============================] - 0s 56us/step - loss: 0.4266 - acc: 0.8187 - val_loss: 0.4005 - val_acc: 0.8400\n",
      "Epoch 9/10\n",
      "375/375 [==============================] - 0s 64us/step - loss: 0.3987 - acc: 0.8267 - val_loss: 0.3780 - val_acc: 0.8400\n",
      "Epoch 10/10\n",
      "375/375 [==============================] - 0s 59us/step - loss: 0.3776 - acc: 0.8267 - val_loss: 0.3632 - val_acc: 0.8400\n"
     ]
    }
   ],
   "source": [
    "history = model.fit(x_train, y_train, batch_size=BATCH_SIZE, epochs=EPOCHS, \n",
    "                    verbose=1, validation_data=(x_test, y_test))"
   ]
  },
  {
   "cell_type": "code",
   "execution_count": 6,
   "metadata": {},
   "outputs": [
    {
     "name": "stdout",
     "output_type": "stream",
     "text": [
      "125/125 [==============================] - 0s 56us/step\n",
      "loss = 0.3632161581516266, acc = 0.840000006198883\n"
     ]
    }
   ],
   "source": [
    "loss, acc= model.evaluate(x_test, y_test)\n",
    "print(\"loss = {}, acc = {}\".format(loss, acc))"
   ]
  },
  {
   "cell_type": "markdown",
   "metadata": {},
   "source": [
    "## Custom loss function"
   ]
  },
  {
   "cell_type": "code",
   "execution_count": 7,
   "metadata": {},
   "outputs": [
    {
     "name": "stdout",
     "output_type": "stream",
     "text": [
      "y_sum = \n",
      "[[1.]\n",
      " [1.]\n",
      " [1.]\n",
      " [1.]]\n",
      "y_scale = \n",
      "[[0.1  0.9 ]\n",
      " [0.9  0.1 ]\n",
      " [0.8  0.2 ]\n",
      " [0.35 0.65]]\n",
      "y_log = \n",
      "[[-2.30258509 -0.10536052]\n",
      " [-0.10536052 -2.30258509]\n",
      " [-0.22314355 -1.60943791]\n",
      " [-1.04982212 -0.43078292]]\n",
      "cross_entropy = \n",
      "0.21616187468057912\n"
     ]
    }
   ],
   "source": [
    "import numpy as np\n",
    "\n",
    "y = np.array([[0, 1], [1, 0], [1, 0], [0, 1]])\n",
    "y_hat = np.array([[.1, .9], [.9, .1], [.8, .2], [.35, .65]])\n",
    "\n",
    "y_sum = np.sum(y_hat, axis=1, keepdims=True)\n",
    "print(\"y_sum = \\n{}\".format(y_sum))\n",
    "\n",
    "y_scale  = y_hat / y_sum\n",
    "print(\"y_scale = \\n{}\".format(y_scale))\n",
    "\n",
    "y_log = np.log(y_scale)\n",
    "print(\"y_log = \\n{}\".format(y_log))\n",
    "\n",
    "cross_entropy = -np.sum(y * y_log) / y.shape[0]\n",
    "print(\"cross_entropy = \\n{}\".format(cross_entropy))"
   ]
  },
  {
   "cell_type": "code",
   "execution_count": 8,
   "metadata": {},
   "outputs": [
    {
     "data": {
      "text/plain": [
       "0.21616187468057912"
      ]
     },
     "execution_count": 8,
     "metadata": {},
     "output_type": "execute_result"
    }
   ],
   "source": [
    "from sklearn.metrics import log_loss\n",
    "\n",
    "log_loss(np.argmax(y, axis=1),  [[.1, .9], [.9, .1], [.8, .2], [.35, .65]])"
   ]
  },
  {
   "cell_type": "code",
   "execution_count": 9,
   "metadata": {},
   "outputs": [
    {
     "name": "stdout",
     "output_type": "stream",
     "text": [
      "y_sum = \n",
      "[[1.]\n",
      " [1.]\n",
      " [1.]\n",
      " [1.]]\n",
      "y_scale = \n",
      "[[0.1  0.9 ]\n",
      " [0.9  0.1 ]\n",
      " [0.8  0.2 ]\n",
      " [0.35 0.65]]\n",
      "y_log = \n",
      "[[-2.30258509 -0.10536052]\n",
      " [-0.10536052 -2.30258509]\n",
      " [-0.22314355 -1.60943791]\n",
      " [-1.04982212 -0.43078292]]\n",
      "cross_entropy = 0.21616187468057912\n"
     ]
    }
   ],
   "source": [
    "import keras.backend as K\n",
    "\n",
    "y = K.constant([[0, 1], [1, 0], [1, 0], [0, 1]], dtype='float64')\n",
    "y_hat = K.constant([[.1, .9], [.9, .1], [.8, .2], [.35, .65]],  dtype='float64')\n",
    "\n",
    "y_sum = K.sum(y_hat, axis=1, keepdims=True)\n",
    "print(\"y_sum = \\n{}\".format(K.eval(y_sum)))\n",
    "\n",
    "y_scale  = y_hat / y_sum\n",
    "print(\"y_scale = \\n{}\".format(K.eval(y_scale)))\n",
    "\n",
    "y_log = K.log(y_scale)\n",
    "print(\"y_log = \\n{}\".format(K.eval(y_log)))\n",
    "\n",
    "cross_entropy = -K.sum(y * y_log) / K.cast(K.shape(y)[0], 'float64')\n",
    "print(\"cross_entropy = {}\".format(K.eval(cross_entropy)))"
   ]
  },
  {
   "cell_type": "code",
   "execution_count": 10,
   "metadata": {},
   "outputs": [],
   "source": [
    "import keras.backend as K\n",
    "\n",
    "def custom_loss(y, y_hat):\n",
    "    y_hat = y_hat / K.sum(y_hat, 1, True)\n",
    "    return -K.sum(y * K.log(y_hat)) / K.cast(K.shape(y)[0], 'float32')"
   ]
  },
  {
   "cell_type": "code",
   "execution_count": 11,
   "metadata": {},
   "outputs": [],
   "source": [
    "inputs = Input(shape=INPUT_SHAPE)\n",
    "x = Dense(128, activation='relu')(inputs)\n",
    "predications = Dense(NUM_CLASSES, activation='sigmoid')(x)\n",
    "\n",
    "model = Model(inputs=inputs, outputs=predications)\n",
    "model.compile(loss=custom_loss, \n",
    "              optimizer=keras.optimizers.Adadelta(), \n",
    "              metrics=['accuracy'])"
   ]
  },
  {
   "cell_type": "code",
   "execution_count": 12,
   "metadata": {},
   "outputs": [
    {
     "name": "stdout",
     "output_type": "stream",
     "text": [
      "Train on 375 samples, validate on 125 samples\n",
      "Epoch 1/10\n",
      "375/375 [==============================] - 0s 664us/step - loss: 0.6504 - acc: 0.7573 - val_loss: 0.6279 - val_acc: 0.7920\n",
      "Epoch 2/10\n",
      "375/375 [==============================] - 0s 56us/step - loss: 0.6198 - acc: 0.7707 - val_loss: 0.5977 - val_acc: 0.8240\n",
      "Epoch 3/10\n",
      "375/375 [==============================] - 0s 56us/step - loss: 0.5882 - acc: 0.7973 - val_loss: 0.5654 - val_acc: 0.8320\n",
      "Epoch 4/10\n",
      "375/375 [==============================] - 0s 56us/step - loss: 0.5554 - acc: 0.8000 - val_loss: 0.5314 - val_acc: 0.8320\n",
      "Epoch 5/10\n",
      "375/375 [==============================] - 0s 56us/step - loss: 0.5207 - acc: 0.8027 - val_loss: 0.4956 - val_acc: 0.8320\n",
      "Epoch 6/10\n",
      "375/375 [==============================] - 0s 53us/step - loss: 0.4855 - acc: 0.8187 - val_loss: 0.4607 - val_acc: 0.8320\n",
      "Epoch 7/10\n",
      "375/375 [==============================] - 0s 53us/step - loss: 0.4517 - acc: 0.8240 - val_loss: 0.4280 - val_acc: 0.8400\n",
      "Epoch 8/10\n",
      "375/375 [==============================] - 0s 56us/step - loss: 0.4216 - acc: 0.8293 - val_loss: 0.4005 - val_acc: 0.8400\n",
      "Epoch 9/10\n",
      "375/375 [==============================] - 0s 56us/step - loss: 0.3965 - acc: 0.8267 - val_loss: 0.3807 - val_acc: 0.8400\n",
      "Epoch 10/10\n",
      "375/375 [==============================] - 0s 53us/step - loss: 0.3775 - acc: 0.8293 - val_loss: 0.3664 - val_acc: 0.8400\n"
     ]
    }
   ],
   "source": [
    "history = model.fit(x_train, y_train, batch_size=BATCH_SIZE, epochs=EPOCHS, \n",
    "                    verbose=1, validation_data=(x_test, y_test))"
   ]
  },
  {
   "cell_type": "code",
   "execution_count": 13,
   "metadata": {},
   "outputs": [
    {
     "name": "stdout",
     "output_type": "stream",
     "text": [
      "125/125 [==============================] - 0s 56us/step\n",
      "loss = 0.36641453886032105, acc = 0.840000006198883\n"
     ]
    }
   ],
   "source": [
    "loss, acc= model.evaluate(x_test, y_test)\n",
    "print(\"loss = {}, acc = {}\".format(loss, acc))"
   ]
  }
 ],
 "metadata": {
  "kernelspec": {
   "display_name": "Python 3",
   "language": "python",
   "name": "python3"
  },
  "language_info": {
   "codemirror_mode": {
    "name": "ipython",
    "version": 3
   },
   "file_extension": ".py",
   "mimetype": "text/x-python",
   "name": "python",
   "nbconvert_exporter": "python",
   "pygments_lexer": "ipython3",
   "version": "3.7.3"
  }
 },
 "nbformat": 4,
 "nbformat_minor": 2
}

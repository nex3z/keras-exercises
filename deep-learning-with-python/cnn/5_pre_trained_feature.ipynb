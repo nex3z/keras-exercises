{
  "nbformat": 4,
  "nbformat_minor": 0,
  "metadata": {
    "colab": {
      "name": "5_pre_trained_feature.ipynb",
      "version": "0.3.2",
      "provenance": [],
      "collapsed_sections": []
    },
    "language_info": {
      "codemirror_mode": {
        "name": "ipython",
        "version": 3
      },
      "file_extension": ".py",
      "mimetype": "text/x-python",
      "name": "python",
      "nbconvert_exporter": "python",
      "pygments_lexer": "ipython3",
      "version": "3.6.8"
    },
    "kernelspec": {
      "name": "python3",
      "display_name": "Python 3"
    },
    "accelerator": "GPU"
  },
  "cells": [
    {
      "metadata": {
        "id": "KMAGN1E94J5T",
        "colab_type": "code",
        "colab": {
          "base_uri": "https://localhost:8080/",
          "height": 34
        },
        "outputId": "e72afa11-7fd1-4edc-edd1-2d580d546cd2"
      },
      "cell_type": "code",
      "source": [
        "import math\n",
        "import numpy as np\n",
        "from keras.applications import VGG16\n",
        "from keras.applications.vgg16 import preprocess_input\n",
        "from keras.preprocessing.image import ImageDataGenerator\n",
        "from keras.models import Sequential\n",
        "from keras.layers import Dense, Dropout\n",
        "from keras.optimizers import RMSprop\n",
        "from plot_util import plot_history"
      ],
      "execution_count": 1,
      "outputs": [
        {
          "output_type": "stream",
          "text": [
            "Using TensorFlow backend.\n"
          ],
          "name": "stderr"
        }
      ]
    },
    {
      "metadata": {
        "id": "rZ5tk1TY4J5Z",
        "colab_type": "code",
        "colab": {}
      },
      "cell_type": "code",
      "source": [
        "TRAIN_DIR = './data/dogs-vs-cats-small/train'\n",
        "VAL_DIR = './data/dogs-vs-cats-small/validation'\n",
        "BATCH_SIZE = 20"
      ],
      "execution_count": 0,
      "outputs": []
    },
    {
      "metadata": {
        "id": "qgc0n-hT4J5c",
        "colab_type": "code",
        "colab": {
          "base_uri": "https://localhost:8080/",
          "height": 122
        },
        "outputId": "1054ceea-40fc-416f-b13f-5c2bf1fae4d0"
      },
      "cell_type": "code",
      "source": [
        "conv_base = VGG16(weights='imagenet', include_top=False, input_shape=(150, 150, 3))"
      ],
      "execution_count": 3,
      "outputs": [
        {
          "output_type": "stream",
          "text": [
            "WARNING:tensorflow:From /usr/local/lib/python3.6/dist-packages/tensorflow/python/framework/op_def_library.py:263: colocate_with (from tensorflow.python.framework.ops) is deprecated and will be removed in a future version.\n",
            "Instructions for updating:\n",
            "Colocations handled automatically by placer.\n",
            "Downloading data from https://github.com/fchollet/deep-learning-models/releases/download/v0.1/vgg16_weights_tf_dim_ordering_tf_kernels_notop.h5\n",
            "58892288/58889256 [==============================] - 1s 0us/step\n"
          ],
          "name": "stdout"
        }
      ]
    },
    {
      "metadata": {
        "id": "0jdZg4P34J5g",
        "colab_type": "code",
        "colab": {
          "base_uri": "https://localhost:8080/",
          "height": 782
        },
        "outputId": "48b6c42f-ee99-4d01-d393-2058e848b902"
      },
      "cell_type": "code",
      "source": [
        "conv_base.summary()"
      ],
      "execution_count": 4,
      "outputs": [
        {
          "output_type": "stream",
          "text": [
            "_________________________________________________________________\n",
            "Layer (type)                 Output Shape              Param #   \n",
            "=================================================================\n",
            "input_1 (InputLayer)         (None, 150, 150, 3)       0         \n",
            "_________________________________________________________________\n",
            "block1_conv1 (Conv2D)        (None, 150, 150, 64)      1792      \n",
            "_________________________________________________________________\n",
            "block1_conv2 (Conv2D)        (None, 150, 150, 64)      36928     \n",
            "_________________________________________________________________\n",
            "block1_pool (MaxPooling2D)   (None, 75, 75, 64)        0         \n",
            "_________________________________________________________________\n",
            "block2_conv1 (Conv2D)        (None, 75, 75, 128)       73856     \n",
            "_________________________________________________________________\n",
            "block2_conv2 (Conv2D)        (None, 75, 75, 128)       147584    \n",
            "_________________________________________________________________\n",
            "block2_pool (MaxPooling2D)   (None, 37, 37, 128)       0         \n",
            "_________________________________________________________________\n",
            "block3_conv1 (Conv2D)        (None, 37, 37, 256)       295168    \n",
            "_________________________________________________________________\n",
            "block3_conv2 (Conv2D)        (None, 37, 37, 256)       590080    \n",
            "_________________________________________________________________\n",
            "block3_conv3 (Conv2D)        (None, 37, 37, 256)       590080    \n",
            "_________________________________________________________________\n",
            "block3_pool (MaxPooling2D)   (None, 18, 18, 256)       0         \n",
            "_________________________________________________________________\n",
            "block4_conv1 (Conv2D)        (None, 18, 18, 512)       1180160   \n",
            "_________________________________________________________________\n",
            "block4_conv2 (Conv2D)        (None, 18, 18, 512)       2359808   \n",
            "_________________________________________________________________\n",
            "block4_conv3 (Conv2D)        (None, 18, 18, 512)       2359808   \n",
            "_________________________________________________________________\n",
            "block4_pool (MaxPooling2D)   (None, 9, 9, 512)         0         \n",
            "_________________________________________________________________\n",
            "block5_conv1 (Conv2D)        (None, 9, 9, 512)         2359808   \n",
            "_________________________________________________________________\n",
            "block5_conv2 (Conv2D)        (None, 9, 9, 512)         2359808   \n",
            "_________________________________________________________________\n",
            "block5_conv3 (Conv2D)        (None, 9, 9, 512)         2359808   \n",
            "_________________________________________________________________\n",
            "block5_pool (MaxPooling2D)   (None, 4, 4, 512)         0         \n",
            "=================================================================\n",
            "Total params: 14,714,688\n",
            "Trainable params: 14,714,688\n",
            "Non-trainable params: 0\n",
            "_________________________________________________________________\n"
          ],
          "name": "stdout"
        }
      ]
    },
    {
      "metadata": {
        "id": "Njtd6M8O4J5j",
        "colab_type": "code",
        "colab": {}
      },
      "cell_type": "code",
      "source": [
        "data_gen = ImageDataGenerator(preprocessing_function=preprocess_input)\n",
        "\n",
        "def extract_feature(data_dir, num_sample):\n",
        "    features = np.zeros((num_sample, 4 , 4, 512))\n",
        "    labels = np.zeros((num_sample))\n",
        "    data_iter = data_gen.flow_from_directory(\n",
        "        data_dir, target_size=(150, 150), batch_size=BATCH_SIZE, class_mode='binary')\n",
        "    num_batch = math.ceil(num_sample / BATCH_SIZE)\n",
        "    print('Extracting {} batches.'.format(num_batch))\n",
        "    for i in range(num_batch):\n",
        "        batch_input, batch_label = next(data_iter)\n",
        "        batch_features = conv_base.predict(batch_input)\n",
        "        features[i * BATCH_SIZE : (i + 1) * BATCH_SIZE] = batch_features\n",
        "        labels[i * BATCH_SIZE : (i + 1) * BATCH_SIZE] = batch_label\n",
        "    return features, labels"
      ],
      "execution_count": 0,
      "outputs": []
    },
    {
      "metadata": {
        "id": "UbTwWqaW4J5m",
        "colab_type": "code",
        "colab": {
          "base_uri": "https://localhost:8080/",
          "height": 170
        },
        "outputId": "8d3a4a8e-e0dc-47f0-f0f0-96bcaecc30b4"
      },
      "cell_type": "code",
      "source": [
        "train_features, train_labels = extract_feature(TRAIN_DIR, 2000)\n",
        "val_features, val_labels = extract_feature(VAL_DIR, 1000)\n",
        "test_features, test_labels = extract_feature(VAL_DIR, 1000)\n",
        "print(\"train_features.shape = {}\\nval_features.shape = {}\\ntest_features.shape = {}\"\n",
        "      .format(train_features.shape, val_features.shape, test_features.shape))"
      ],
      "execution_count": 6,
      "outputs": [
        {
          "output_type": "stream",
          "text": [
            "Found 2000 images belonging to 2 classes.\n",
            "Extracting 100 batches.\n",
            "Found 1000 images belonging to 2 classes.\n",
            "Extracting 50 batches.\n",
            "Found 1000 images belonging to 2 classes.\n",
            "Extracting 50 batches.\n",
            "train_features.shape = (2000, 4, 4, 512)\n",
            "val_features.shape = (1000, 4, 4, 512)\n",
            "test_features.shape = (1000, 4, 4, 512)\n"
          ],
          "name": "stdout"
        }
      ]
    },
    {
      "metadata": {
        "id": "iBhqVe0n4J5q",
        "colab_type": "code",
        "colab": {
          "base_uri": "https://localhost:8080/",
          "height": 68
        },
        "outputId": "4081341b-f69c-402b-bdc7-66a3f8e7938b"
      },
      "cell_type": "code",
      "source": [
        "def flatten(features):\n",
        "    n, h, w, c = features.shape\n",
        "    return features.reshape(n, h * w * c)\n",
        "\n",
        "train_features_flatten = flatten(train_features)\n",
        "val_features_flatten = flatten(val_features)\n",
        "test_features_flatten = flatten(test_features)\n",
        "print(\"train_features_flatten.shape = {}\\nval_features_flatten.shape = {}\\ntest_features_flatten.shape = {}\"\n",
        "      .format(train_features_flatten.shape, val_features_flatten.shape, test_features_flatten.shape))"
      ],
      "execution_count": 7,
      "outputs": [
        {
          "output_type": "stream",
          "text": [
            "train_features_flatten.shape = (2000, 8192)\n",
            "val_features_flatten.shape = (1000, 8192)\n",
            "test_features_flatten.shape = (1000, 8192)\n"
          ],
          "name": "stdout"
        }
      ]
    },
    {
      "metadata": {
        "id": "AoAGotOs4J5v",
        "colab_type": "code",
        "colab": {
          "base_uri": "https://localhost:8080/",
          "height": 88
        },
        "outputId": "c6ae90d1-8934-44b5-cf49-462715f7c567"
      },
      "cell_type": "code",
      "source": [
        "model = Sequential()\n",
        "model.add(Dense(256, activation='relu', input_dim=8192))\n",
        "model.add(Dropout(rate=0.5))\n",
        "model.add(Dense(1, activation='sigmoid'))\n",
        "\n",
        "model.compile(optimizer=RMSprop(lr=2e-5), loss='binary_crossentropy', metrics=['acc'])"
      ],
      "execution_count": 8,
      "outputs": [
        {
          "output_type": "stream",
          "text": [
            "WARNING:tensorflow:From /usr/local/lib/python3.6/dist-packages/keras/backend/tensorflow_backend.py:3445: calling dropout (from tensorflow.python.ops.nn_ops) with keep_prob is deprecated and will be removed in a future version.\n",
            "Instructions for updating:\n",
            "Please use `rate` instead of `keep_prob`. Rate should be set to `rate = 1 - keep_prob`.\n"
          ],
          "name": "stdout"
        }
      ]
    },
    {
      "metadata": {
        "id": "3FHE6ShW4J5y",
        "colab_type": "code",
        "colab": {
          "base_uri": "https://localhost:8080/",
          "height": 1125
        },
        "outputId": "ebf40798-d5b7-4292-b8d1-1601fdd4ceb5"
      },
      "cell_type": "code",
      "source": [
        "history = model.fit(train_features_flatten, train_labels, epochs=30, batch_size=20,\n",
        "                    validation_data=(val_features_flatten, val_labels), verbose=2)"
      ],
      "execution_count": 9,
      "outputs": [
        {
          "output_type": "stream",
          "text": [
            "WARNING:tensorflow:From /usr/local/lib/python3.6/dist-packages/tensorflow/python/ops/math_ops.py:3066: to_int32 (from tensorflow.python.ops.math_ops) is deprecated and will be removed in a future version.\n",
            "Instructions for updating:\n",
            "Use tf.cast instead.\n",
            "Train on 2000 samples, validate on 1000 samples\n",
            "Epoch 1/30\n",
            " - 1s - loss: 3.0675 - acc: 0.7385 - val_loss: 0.7750 - val_acc: 0.9110\n",
            "Epoch 2/30\n",
            " - 1s - loss: 1.4621 - acc: 0.8660 - val_loss: 0.5637 - val_acc: 0.9370\n",
            "Epoch 3/30\n",
            " - 1s - loss: 1.1981 - acc: 0.8920 - val_loss: 0.5339 - val_acc: 0.9430\n",
            "Epoch 4/30\n",
            " - 1s - loss: 0.7671 - acc: 0.9260 - val_loss: 0.4140 - val_acc: 0.9570\n",
            "Epoch 5/30\n",
            " - 1s - loss: 0.7502 - acc: 0.9330 - val_loss: 0.4287 - val_acc: 0.9500\n",
            "Epoch 6/30\n",
            " - 1s - loss: 0.6883 - acc: 0.9370 - val_loss: 0.3944 - val_acc: 0.9560\n",
            "Epoch 7/30\n",
            " - 1s - loss: 0.5603 - acc: 0.9490 - val_loss: 0.3656 - val_acc: 0.9590\n",
            "Epoch 8/30\n",
            " - 1s - loss: 0.4245 - acc: 0.9595 - val_loss: 0.3470 - val_acc: 0.9590\n",
            "Epoch 9/30\n",
            " - 1s - loss: 0.4303 - acc: 0.9570 - val_loss: 0.3252 - val_acc: 0.9650\n",
            "Epoch 10/30\n",
            " - 1s - loss: 0.3629 - acc: 0.9655 - val_loss: 0.3234 - val_acc: 0.9630\n",
            "Epoch 11/30\n",
            " - 1s - loss: 0.3198 - acc: 0.9655 - val_loss: 0.3388 - val_acc: 0.9640\n",
            "Epoch 12/30\n",
            " - 1s - loss: 0.3309 - acc: 0.9660 - val_loss: 0.3129 - val_acc: 0.9660\n",
            "Epoch 13/30\n",
            " - 1s - loss: 0.3308 - acc: 0.9665 - val_loss: 0.3058 - val_acc: 0.9650\n",
            "Epoch 14/30\n",
            " - 1s - loss: 0.2605 - acc: 0.9750 - val_loss: 0.2982 - val_acc: 0.9650\n",
            "Epoch 15/30\n",
            " - 1s - loss: 0.2202 - acc: 0.9760 - val_loss: 0.3108 - val_acc: 0.9640\n",
            "Epoch 16/30\n",
            " - 1s - loss: 0.1818 - acc: 0.9770 - val_loss: 0.2976 - val_acc: 0.9650\n",
            "Epoch 17/30\n",
            " - 1s - loss: 0.1781 - acc: 0.9810 - val_loss: 0.2780 - val_acc: 0.9680\n",
            "Epoch 18/30\n",
            " - 1s - loss: 0.1543 - acc: 0.9825 - val_loss: 0.3133 - val_acc: 0.9610\n",
            "Epoch 19/30\n",
            " - 1s - loss: 0.1667 - acc: 0.9825 - val_loss: 0.2685 - val_acc: 0.9680\n",
            "Epoch 20/30\n",
            " - 1s - loss: 0.1388 - acc: 0.9845 - val_loss: 0.2925 - val_acc: 0.9660\n",
            "Epoch 21/30\n",
            " - 1s - loss: 0.1504 - acc: 0.9840 - val_loss: 0.3026 - val_acc: 0.9660\n",
            "Epoch 22/30\n",
            " - 1s - loss: 0.1030 - acc: 0.9845 - val_loss: 0.2859 - val_acc: 0.9670\n",
            "Epoch 23/30\n",
            " - 1s - loss: 0.1367 - acc: 0.9855 - val_loss: 0.2831 - val_acc: 0.9670\n",
            "Epoch 24/30\n",
            " - 1s - loss: 0.0948 - acc: 0.9880 - val_loss: 0.2627 - val_acc: 0.9690\n",
            "Epoch 25/30\n",
            " - 1s - loss: 0.1002 - acc: 0.9905 - val_loss: 0.2674 - val_acc: 0.9690\n",
            "Epoch 26/30\n",
            " - 1s - loss: 0.1048 - acc: 0.9890 - val_loss: 0.2587 - val_acc: 0.9700\n",
            "Epoch 27/30\n",
            " - 1s - loss: 0.0724 - acc: 0.9925 - val_loss: 0.2652 - val_acc: 0.9680\n",
            "Epoch 28/30\n",
            " - 1s - loss: 0.0923 - acc: 0.9920 - val_loss: 0.2623 - val_acc: 0.9700\n",
            "Epoch 29/30\n",
            " - 1s - loss: 0.0889 - acc: 0.9900 - val_loss: 0.2667 - val_acc: 0.9690\n",
            "Epoch 30/30\n",
            " - 1s - loss: 0.0519 - acc: 0.9930 - val_loss: 0.2752 - val_acc: 0.9690\n"
          ],
          "name": "stdout"
        }
      ]
    },
    {
      "metadata": {
        "id": "JXoGCErr4J53",
        "colab_type": "code",
        "colab": {
          "base_uri": "https://localhost:8080/",
          "height": 549
        },
        "outputId": "ffcf024d-dfd7-419f-cd7c-94b00c26d2bd"
      },
      "cell_type": "code",
      "source": [
        "plot_history(history, metrics=('acc', 'loss'))"
      ],
      "execution_count": 10,
      "outputs": [
        {
          "output_type": "display_data",
          "data": {
            "image/png": "[encoded data removed]",
            "text/plain": [
              "<Figure size 432x288 with 1 Axes>"
            ]
          },
          "metadata": {
            "tags": []
          }
        },
        {
          "output_type": "display_data",
          "data": {
            "image/png": "[encoded data removed]",
            "text/plain": [
              "<Figure size 432x288 with 1 Axes>"
            ]
          },
          "metadata": {
            "tags": []
          }
        }
      ]
    }
  ]
}
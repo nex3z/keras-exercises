{
  "nbformat": 4,
  "nbformat_minor": 0,
  "metadata": {
    "colab": {
      "name": "6_pre_trained_feature_extraction_with_data_augmentation.ipynb",
      "version": "0.3.2",
      "provenance": [],
      "collapsed_sections": []
    },
    "kernelspec": {
      "name": "python3",
      "display_name": "Python 3"
    },
    "accelerator": "GPU"
  },
  "cells": [
    {
      "metadata": {
        "id": "zf1QzkW0NXLb",
        "colab_type": "code",
        "outputId": "25c0348b-5ae0-4e9c-99a9-f488ef49a70f",
        "colab": {
          "base_uri": "https://localhost:8080/",
          "height": 34
        }
      },
      "cell_type": "code",
      "source": [
        "from keras.applications import VGG16\n",
        "from keras.applications.vgg16 import preprocess_input\n",
        "from keras.preprocessing.image import ImageDataGenerator\n",
        "from keras.models import Sequential\n",
        "from keras.layers import Flatten, Dense\n",
        "from keras.optimizers import RMSprop\n",
        "from plot_util import plot_history"
      ],
      "execution_count": 1,
      "outputs": [
        {
          "output_type": "stream",
          "text": [
            "Using TensorFlow backend.\n"
          ],
          "name": "stderr"
        }
      ]
    },
    {
      "metadata": {
        "id": "mlOQYsOtNa1g",
        "colab_type": "code",
        "colab": {}
      },
      "cell_type": "code",
      "source": [
        "TRAIN_DIR = './data/dogs-vs-cats-small/train'\n",
        "VAL_DIR = './data/dogs-vs-cats-small/validation'"
      ],
      "execution_count": 0,
      "outputs": []
    },
    {
      "metadata": {
        "id": "FB6xVxttNcLa",
        "colab_type": "code",
        "outputId": "b8e8bbed-9cdf-4135-e59d-d5e3af57203e",
        "colab": {
          "base_uri": "https://localhost:8080/",
          "height": 88
        }
      },
      "cell_type": "code",
      "source": [
        "conv_base = VGG16(weights='imagenet', include_top=False, input_shape=(150, 150, 3))"
      ],
      "execution_count": 3,
      "outputs": [
        {
          "output_type": "stream",
          "text": [
            "WARNING:tensorflow:From /usr/local/lib/python3.6/dist-packages/tensorflow/python/framework/op_def_library.py:263: colocate_with (from tensorflow.python.framework.ops) is deprecated and will be removed in a future version.\n",
            "Instructions for updating:\n",
            "Colocations handled automatically by placer.\n"
          ],
          "name": "stdout"
        }
      ]
    },
    {
      "metadata": {
        "id": "9wS3HC5FNdro",
        "colab_type": "code",
        "colab": {
          "base_uri": "https://localhost:8080/",
          "height": 51
        },
        "outputId": "a01165af-f40c-4366-cfc4-40307195fc7b"
      },
      "cell_type": "code",
      "source": [
        "model = Sequential()\n",
        "model.add(conv_base)\n",
        "model.add(Flatten())\n",
        "model.add(Dense(256, activation='relu'))\n",
        "model.add(Dense(1, activation='sigmoid'))\n",
        "\n",
        "print(\"Number of trainable weights before forzen: {}\".format(len(model.trainable_weights)))\n",
        "conv_base.trainable = False\n",
        "print(\"Number of trainable weights after forzen: {}\".format(len(model.trainable_weights)))\n",
        "\n",
        "model.compile(loss='binary_crossentropy', optimizer=RMSprop(lr=2e-5), metrics=['acc'])"
      ],
      "execution_count": 4,
      "outputs": [
        {
          "output_type": "stream",
          "text": [
            "Number of trainable weights before forzen: 30\n",
            "Number of trainable weights after forzen: 4\n"
          ],
          "name": "stdout"
        }
      ]
    },
    {
      "metadata": {
        "id": "Xkp5sQ7u31pd",
        "colab_type": "code",
        "colab": {
          "base_uri": "https://localhost:8080/",
          "height": 272
        },
        "outputId": "b3b8241d-d399-4c68-c4de-974ead2d84d2"
      },
      "cell_type": "code",
      "source": [
        "model.summary()"
      ],
      "execution_count": 5,
      "outputs": [
        {
          "output_type": "stream",
          "text": [
            "_________________________________________________________________\n",
            "Layer (type)                 Output Shape              Param #   \n",
            "=================================================================\n",
            "vgg16 (Model)                (None, 4, 4, 512)         14714688  \n",
            "_________________________________________________________________\n",
            "flatten_1 (Flatten)          (None, 8192)              0         \n",
            "_________________________________________________________________\n",
            "dense_1 (Dense)              (None, 256)               2097408   \n",
            "_________________________________________________________________\n",
            "dense_2 (Dense)              (None, 1)                 257       \n",
            "=================================================================\n",
            "Total params: 16,812,353\n",
            "Trainable params: 2,097,665\n",
            "Non-trainable params: 14,714,688\n",
            "_________________________________________________________________\n"
          ],
          "name": "stdout"
        }
      ]
    },
    {
      "metadata": {
        "id": "CalXjVDVN8Lt",
        "colab_type": "code",
        "outputId": "5a1c111a-332c-4ce3-f2f9-c98e9436d77b",
        "colab": {
          "base_uri": "https://localhost:8080/",
          "height": 51
        }
      },
      "cell_type": "code",
      "source": [
        "train_gen = ImageDataGenerator(\n",
        "    preprocessing_function=preprocess_input,\n",
        "    rotation_range=40,\n",
        "    width_shift_range=0.2,\n",
        "    height_shift_range=0.2,\n",
        "    shear_range=0.2,\n",
        "    zoom_range=0.2,\n",
        "    horizontal_flip=True,\n",
        "    fill_mode='nearest'\n",
        ")\n",
        "train_iter = train_gen.flow_from_directory(\n",
        "    TRAIN_DIR, target_size=(150, 150), batch_size=20, class_mode='binary')\n",
        "\n",
        "val_gen = ImageDataGenerator(preprocessing_function=preprocess_input)\n",
        "val_iter = val_gen.flow_from_directory(\n",
        "    VAL_DIR, target_size=(150, 150), batch_size=20, class_mode='binary')"
      ],
      "execution_count": 6,
      "outputs": [
        {
          "output_type": "stream",
          "text": [
            "Found 2000 images belonging to 2 classes.\n",
            "Found 1000 images belonging to 2 classes.\n"
          ],
          "name": "stdout"
        }
      ]
    },
    {
      "metadata": {
        "id": "KK-XDl_uN8Ji",
        "colab_type": "code",
        "colab": {
          "base_uri": "https://localhost:8080/",
          "height": 1108
        },
        "outputId": "7a8d1b34-9614-4cc1-8af7-bcbbaf752aab"
      },
      "cell_type": "code",
      "source": [
        "history = model.fit_generator(\n",
        "    train_iter, steps_per_epoch=100, epochs=30, \n",
        "    validation_data=val_iter, validation_steps=50,\n",
        "    verbose=2\n",
        ")"
      ],
      "execution_count": 7,
      "outputs": [
        {
          "output_type": "stream",
          "text": [
            "WARNING:tensorflow:From /usr/local/lib/python3.6/dist-packages/tensorflow/python/ops/math_ops.py:3066: to_int32 (from tensorflow.python.ops.math_ops) is deprecated and will be removed in a future version.\n",
            "Instructions for updating:\n",
            "Use tf.cast instead.\n",
            "Epoch 1/30\n",
            " - 21s - loss: 2.0244 - acc: 0.7530 - val_loss: 0.8277 - val_acc: 0.8950\n",
            "Epoch 2/30\n",
            " - 17s - loss: 0.9218 - acc: 0.8750 - val_loss: 0.5552 - val_acc: 0.9380\n",
            "Epoch 3/30\n",
            " - 17s - loss: 0.7294 - acc: 0.8965 - val_loss: 0.4166 - val_acc: 0.9490\n",
            "Epoch 4/30\n",
            " - 17s - loss: 0.6731 - acc: 0.9095 - val_loss: 0.4817 - val_acc: 0.9500\n",
            "Epoch 5/30\n",
            " - 17s - loss: 0.5476 - acc: 0.9250 - val_loss: 0.4320 - val_acc: 0.9500\n",
            "Epoch 6/30\n",
            " - 17s - loss: 0.5448 - acc: 0.9280 - val_loss: 0.3963 - val_acc: 0.9550\n",
            "Epoch 7/30\n",
            " - 17s - loss: 0.4773 - acc: 0.9310 - val_loss: 0.3711 - val_acc: 0.9560\n",
            "Epoch 8/30\n",
            " - 18s - loss: 0.4277 - acc: 0.9375 - val_loss: 0.3661 - val_acc: 0.9590\n",
            "Epoch 9/30\n",
            " - 17s - loss: 0.4251 - acc: 0.9405 - val_loss: 0.3072 - val_acc: 0.9650\n",
            "Epoch 10/30\n",
            " - 18s - loss: 0.4217 - acc: 0.9410 - val_loss: 0.3448 - val_acc: 0.9580\n",
            "Epoch 11/30\n",
            " - 16s - loss: 0.3667 - acc: 0.9410 - val_loss: 0.4302 - val_acc: 0.9510\n",
            "Epoch 12/30\n",
            " - 16s - loss: 0.3250 - acc: 0.9425 - val_loss: 0.3654 - val_acc: 0.9570\n",
            "Epoch 13/30\n",
            " - 18s - loss: 0.3954 - acc: 0.9395 - val_loss: 0.3510 - val_acc: 0.9590\n",
            "Epoch 14/30\n",
            " - 17s - loss: 0.3342 - acc: 0.9535 - val_loss: 0.3973 - val_acc: 0.9540\n",
            "Epoch 15/30\n",
            " - 17s - loss: 0.3890 - acc: 0.9435 - val_loss: 0.3442 - val_acc: 0.9620\n",
            "Epoch 16/30\n",
            " - 17s - loss: 0.3391 - acc: 0.9465 - val_loss: 0.3257 - val_acc: 0.9610\n",
            "Epoch 17/30\n",
            " - 17s - loss: 0.2922 - acc: 0.9515 - val_loss: 0.3212 - val_acc: 0.9600\n",
            "Epoch 18/30\n",
            " - 18s - loss: 0.2854 - acc: 0.9535 - val_loss: 0.3060 - val_acc: 0.9640\n",
            "Epoch 19/30\n",
            " - 16s - loss: 0.2722 - acc: 0.9580 - val_loss: 0.3305 - val_acc: 0.9630\n",
            "Epoch 20/30\n",
            " - 16s - loss: 0.3227 - acc: 0.9480 - val_loss: 0.3064 - val_acc: 0.9650\n",
            "Epoch 21/30\n",
            " - 17s - loss: 0.2554 - acc: 0.9590 - val_loss: 0.2921 - val_acc: 0.9610\n",
            "Epoch 22/30\n",
            " - 17s - loss: 0.2743 - acc: 0.9595 - val_loss: 0.2854 - val_acc: 0.9720\n",
            "Epoch 23/30\n",
            " - 18s - loss: 0.2912 - acc: 0.9560 - val_loss: 0.2993 - val_acc: 0.9660\n",
            "Epoch 24/30\n",
            " - 17s - loss: 0.3076 - acc: 0.9535 - val_loss: 0.2909 - val_acc: 0.9690\n",
            "Epoch 25/30\n",
            " - 16s - loss: 0.2106 - acc: 0.9690 - val_loss: 0.2951 - val_acc: 0.9680\n",
            "Epoch 26/30\n",
            " - 16s - loss: 0.2348 - acc: 0.9605 - val_loss: 0.2787 - val_acc: 0.9680\n",
            "Epoch 27/30\n",
            " - 18s - loss: 0.2304 - acc: 0.9595 - val_loss: 0.2636 - val_acc: 0.9710\n",
            "Epoch 28/30\n",
            " - 18s - loss: 0.2335 - acc: 0.9615 - val_loss: 0.2755 - val_acc: 0.9730\n",
            "Epoch 29/30\n",
            " - 17s - loss: 0.2148 - acc: 0.9605 - val_loss: 0.2817 - val_acc: 0.9710\n",
            "Epoch 30/30\n",
            " - 17s - loss: 0.2084 - acc: 0.9665 - val_loss: 0.2517 - val_acc: 0.9710\n"
          ],
          "name": "stdout"
        }
      ]
    },
    {
      "metadata": {
        "id": "7oqbYP7byxhL",
        "colab_type": "code",
        "colab": {
          "base_uri": "https://localhost:8080/",
          "height": 549
        },
        "outputId": "c64cc7d7-6f6a-493f-a445-82a089859b9f"
      },
      "cell_type": "code",
      "source": [
        "plot_history(history, metrics=('acc', 'loss'))"
      ],
      "execution_count": 8,
      "outputs": [
        {
          "output_type": "display_data",
          "data": {
            "image/png": "[encoded data removed]",
            "text/plain": [
              "<Figure size 432x288 with 1 Axes>"
            ]
          },
          "metadata": {
            "tags": []
          }
        },
        {
          "output_type": "display_data",
          "data": {
            "image/png": "[encoded data removed]",
            "text/plain": [
              "<Figure size 432x288 with 1 Axes>"
            ]
          },
          "metadata": {
            "tags": []
          }
        }
      ]
    }
  ]
}
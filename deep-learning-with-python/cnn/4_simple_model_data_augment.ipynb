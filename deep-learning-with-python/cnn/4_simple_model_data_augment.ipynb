{
  "nbformat": 4,
  "nbformat_minor": 0,
  "metadata": {
    "colab": {
      "name": "4_simple_model_data_augment.ipynb",
      "version": "0.3.2",
      "provenance": [],
      "collapsed_sections": []
    },
    "language_info": {
      "codemirror_mode": {
        "name": "ipython",
        "version": 3
      },
      "file_extension": ".py",
      "mimetype": "text/x-python",
      "name": "python",
      "nbconvert_exporter": "python",
      "pygments_lexer": "ipython3",
      "version": "3.6.8"
    },
    "kernelspec": {
      "name": "python3",
      "display_name": "Python 3"
    },
    "accelerator": "GPU"
  },
  "cells": [
    {
      "metadata": {
        "id": "J1SmL9tC3uys",
        "colab_type": "code",
        "outputId": "e4af219e-8eba-40e9-caee-a57825c6a795",
        "colab": {
          "base_uri": "https://localhost:8080/",
          "height": 34
        }
      },
      "cell_type": "code",
      "source": [
        "from keras.models import Sequential\n",
        "from keras.layers import Conv2D, MaxPooling2D, Flatten, Dropout, Dense\n",
        "from keras.optimizers import RMSprop\n",
        "from keras.preprocessing.image import ImageDataGenerator\n",
        "from plot_util import plot_history"
      ],
      "execution_count": 1,
      "outputs": [
        {
          "output_type": "stream",
          "text": [
            "Using TensorFlow backend.\n"
          ],
          "name": "stderr"
        }
      ]
    },
    {
      "metadata": {
        "id": "Fxy0HOqQ3uyy",
        "colab_type": "code",
        "colab": {}
      },
      "cell_type": "code",
      "source": [
        "TRAIN_DIR = './data/dogs-vs-cats-small/train'\n",
        "VAL_DIR = './data/dogs-vs-cats-small/validation'"
      ],
      "execution_count": 0,
      "outputs": []
    },
    {
      "metadata": {
        "id": "1QDoN0oA3uy2",
        "colab_type": "code",
        "outputId": "0a66e8fc-8d49-4c4b-b615-ed73ba2ef3c1",
        "colab": {
          "base_uri": "https://localhost:8080/",
          "height": 139
        }
      },
      "cell_type": "code",
      "source": [
        "model = Sequential()\n",
        "\n",
        "model.add(Conv2D(32, (3, 3), activation='relu', input_shape=(150, 150, 3)))\n",
        "model.add(MaxPooling2D((2, 2)))\n",
        "model.add(Conv2D(64, (3, 3), activation='relu'))\n",
        "model.add(MaxPooling2D((2, 2)))\n",
        "model.add(Conv2D(128, (3, 3), activation='relu'))\n",
        "model.add(MaxPooling2D((2, 2)))\n",
        "model.add(Conv2D(128, (3 ,3), activation='relu'))\n",
        "model.add(MaxPooling2D((2, 2)))\n",
        "model.add(Flatten())\n",
        "model.add(Dropout(rate=0.5))\n",
        "model.add(Dense(512, activation='relu'))\n",
        "model.add(Dense(1, activation='sigmoid'))\n",
        "\n",
        "model.compile(loss='binary_crossentropy', optimizer=RMSprop(lr=1e-4), metrics=['acc'])"
      ],
      "execution_count": 3,
      "outputs": [
        {
          "output_type": "stream",
          "text": [
            "WARNING:tensorflow:From /usr/local/lib/python3.6/dist-packages/tensorflow/python/framework/op_def_library.py:263: colocate_with (from tensorflow.python.framework.ops) is deprecated and will be removed in a future version.\n",
            "Instructions for updating:\n",
            "Colocations handled automatically by placer.\n",
            "WARNING:tensorflow:From /usr/local/lib/python3.6/dist-packages/keras/backend/tensorflow_backend.py:3445: calling dropout (from tensorflow.python.ops.nn_ops) with keep_prob is deprecated and will be removed in a future version.\n",
            "Instructions for updating:\n",
            "Please use `rate` instead of `keep_prob`. Rate should be set to `rate = 1 - keep_prob`.\n"
          ],
          "name": "stdout"
        }
      ]
    },
    {
      "metadata": {
        "id": "r475tznJ3uy7",
        "colab_type": "code",
        "outputId": "ec66e60a-c95e-4c38-8076-10bf1a742181",
        "colab": {
          "base_uri": "https://localhost:8080/",
          "height": 544
        }
      },
      "cell_type": "code",
      "source": [
        "model.summary()"
      ],
      "execution_count": 4,
      "outputs": [
        {
          "output_type": "stream",
          "text": [
            "_________________________________________________________________\n",
            "Layer (type)                 Output Shape              Param #   \n",
            "=================================================================\n",
            "conv2d_1 (Conv2D)            (None, 148, 148, 32)      896       \n",
            "_________________________________________________________________\n",
            "max_pooling2d_1 (MaxPooling2 (None, 74, 74, 32)        0         \n",
            "_________________________________________________________________\n",
            "conv2d_2 (Conv2D)            (None, 72, 72, 64)        18496     \n",
            "_________________________________________________________________\n",
            "max_pooling2d_2 (MaxPooling2 (None, 36, 36, 64)        0         \n",
            "_________________________________________________________________\n",
            "conv2d_3 (Conv2D)            (None, 34, 34, 128)       73856     \n",
            "_________________________________________________________________\n",
            "max_pooling2d_3 (MaxPooling2 (None, 17, 17, 128)       0         \n",
            "_________________________________________________________________\n",
            "conv2d_4 (Conv2D)            (None, 15, 15, 128)       147584    \n",
            "_________________________________________________________________\n",
            "max_pooling2d_4 (MaxPooling2 (None, 7, 7, 128)         0         \n",
            "_________________________________________________________________\n",
            "flatten_1 (Flatten)          (None, 6272)              0         \n",
            "_________________________________________________________________\n",
            "dropout_1 (Dropout)          (None, 6272)              0         \n",
            "_________________________________________________________________\n",
            "dense_1 (Dense)              (None, 512)               3211776   \n",
            "_________________________________________________________________\n",
            "dense_2 (Dense)              (None, 1)                 513       \n",
            "=================================================================\n",
            "Total params: 3,453,121\n",
            "Trainable params: 3,453,121\n",
            "Non-trainable params: 0\n",
            "_________________________________________________________________\n"
          ],
          "name": "stdout"
        }
      ]
    },
    {
      "metadata": {
        "id": "TIbQJGft3uy-",
        "colab_type": "code",
        "outputId": "0c317533-96b1-4e30-ac82-f7d775c17617",
        "colab": {
          "base_uri": "https://localhost:8080/",
          "height": 51
        }
      },
      "cell_type": "code",
      "source": [
        "train_gen = ImageDataGenerator(\n",
        "    rescale=1./255,\n",
        "    rotation_range=40,\n",
        "    width_shift_range=0.2,\n",
        "    height_shift_range=0.2,\n",
        "    shear_range=0.2,\n",
        "    zoom_range=0.2,\n",
        "    horizontal_flip=True\n",
        ")\n",
        "train_iter = train_gen.flow_from_directory(TRAIN_DIR, target_size=(150, 150), batch_size=32, class_mode='binary')\n",
        "\n",
        "val_gen = ImageDataGenerator(rescale=1./255)\n",
        "val_iter = val_gen.flow_from_directory(VAL_DIR, target_size=(150, 150), batch_size=20, class_mode='binary')"
      ],
      "execution_count": 5,
      "outputs": [
        {
          "output_type": "stream",
          "text": [
            "Found 2000 images belonging to 2 classes.\n",
            "Found 1000 images belonging to 2 classes.\n"
          ],
          "name": "stdout"
        }
      ]
    },
    {
      "metadata": {
        "id": "kM8s0Tgn3uzC",
        "colab_type": "code",
        "outputId": "e53824ff-fc6f-406d-9719-d59aee94636f",
        "colab": {
          "base_uri": "https://localhost:8080/",
          "height": 3471
        }
      },
      "cell_type": "code",
      "source": [
        "history = model.fit_generator(\n",
        "    train_iter, steps_per_epoch=100, epochs=100,\n",
        "    validation_data=val_iter, validation_steps=50, \n",
        "    verbose=2\n",
        ")"
      ],
      "execution_count": 6,
      "outputs": [
        {
          "output_type": "stream",
          "text": [
            "WARNING:tensorflow:From /usr/local/lib/python3.6/dist-packages/tensorflow/python/ops/math_ops.py:3066: to_int32 (from tensorflow.python.ops.math_ops) is deprecated and will be removed in a future version.\n",
            "Instructions for updating:\n",
            "Use tf.cast instead.\n",
            "Epoch 1/100\n",
            " - 34s - loss: 0.6934 - acc: 0.5191 - val_loss: 0.7244 - val_acc: 0.5000\n",
            "Epoch 2/100\n",
            " - 29s - loss: 0.6860 - acc: 0.5435 - val_loss: 0.6731 - val_acc: 0.5800\n",
            "Epoch 3/100\n",
            " - 29s - loss: 0.6748 - acc: 0.5781 - val_loss: 0.6574 - val_acc: 0.5980\n",
            "Epoch 4/100\n",
            " - 29s - loss: 0.6643 - acc: 0.6003 - val_loss: 0.6414 - val_acc: 0.6190\n",
            "Epoch 5/100\n",
            " - 29s - loss: 0.6561 - acc: 0.6037 - val_loss: 0.6273 - val_acc: 0.6240\n",
            "Epoch 6/100\n",
            " - 29s - loss: 0.6382 - acc: 0.6253 - val_loss: 0.6304 - val_acc: 0.6280\n",
            "Epoch 7/100\n",
            " - 29s - loss: 0.6212 - acc: 0.6494 - val_loss: 0.5935 - val_acc: 0.6730\n",
            "Epoch 8/100\n",
            " - 29s - loss: 0.6041 - acc: 0.6606 - val_loss: 0.5652 - val_acc: 0.7100\n",
            "Epoch 9/100\n",
            " - 29s - loss: 0.5999 - acc: 0.6687 - val_loss: 0.5543 - val_acc: 0.7020\n",
            "Epoch 10/100\n",
            " - 29s - loss: 0.5945 - acc: 0.6800 - val_loss: 0.5486 - val_acc: 0.7040\n",
            "Epoch 11/100\n",
            " - 29s - loss: 0.5894 - acc: 0.6828 - val_loss: 0.5402 - val_acc: 0.7130\n",
            "Epoch 12/100\n",
            " - 29s - loss: 0.5781 - acc: 0.6894 - val_loss: 0.5397 - val_acc: 0.7130\n",
            "Epoch 13/100\n",
            " - 29s - loss: 0.5747 - acc: 0.6947 - val_loss: 0.5374 - val_acc: 0.7170\n",
            "Epoch 14/100\n",
            " - 29s - loss: 0.5592 - acc: 0.7100 - val_loss: 0.5266 - val_acc: 0.7320\n",
            "Epoch 15/100\n",
            " - 29s - loss: 0.5723 - acc: 0.6953 - val_loss: 0.5466 - val_acc: 0.7060\n",
            "Epoch 16/100\n",
            " - 29s - loss: 0.5570 - acc: 0.7013 - val_loss: 0.5358 - val_acc: 0.7210\n",
            "Epoch 17/100\n",
            " - 29s - loss: 0.5621 - acc: 0.7031 - val_loss: 0.5405 - val_acc: 0.7120\n",
            "Epoch 18/100\n",
            " - 29s - loss: 0.5445 - acc: 0.7144 - val_loss: 0.5304 - val_acc: 0.7100\n",
            "Epoch 19/100\n",
            " - 29s - loss: 0.5528 - acc: 0.7191 - val_loss: 0.5257 - val_acc: 0.7240\n",
            "Epoch 20/100\n",
            " - 29s - loss: 0.5306 - acc: 0.7334 - val_loss: 0.5350 - val_acc: 0.7230\n",
            "Epoch 21/100\n",
            " - 28s - loss: 0.5417 - acc: 0.7294 - val_loss: 0.5486 - val_acc: 0.7090\n",
            "Epoch 22/100\n",
            " - 29s - loss: 0.5312 - acc: 0.7306 - val_loss: 0.4990 - val_acc: 0.7500\n",
            "Epoch 23/100\n",
            " - 29s - loss: 0.5229 - acc: 0.7431 - val_loss: 0.5018 - val_acc: 0.7570\n",
            "Epoch 24/100\n",
            " - 29s - loss: 0.5244 - acc: 0.7328 - val_loss: 0.5109 - val_acc: 0.7420\n",
            "Epoch 25/100\n",
            " - 29s - loss: 0.5221 - acc: 0.7425 - val_loss: 0.5001 - val_acc: 0.7520\n",
            "Epoch 26/100\n",
            " - 29s - loss: 0.5333 - acc: 0.7275 - val_loss: 0.5378 - val_acc: 0.7200\n",
            "Epoch 27/100\n",
            " - 29s - loss: 0.5220 - acc: 0.7384 - val_loss: 0.5255 - val_acc: 0.7250\n",
            "Epoch 28/100\n",
            " - 30s - loss: 0.5084 - acc: 0.7497 - val_loss: 0.5590 - val_acc: 0.7120\n",
            "Epoch 29/100\n",
            " - 29s - loss: 0.4991 - acc: 0.7534 - val_loss: 0.5062 - val_acc: 0.7550\n",
            "Epoch 30/100\n",
            " - 29s - loss: 0.5070 - acc: 0.7491 - val_loss: 0.4752 - val_acc: 0.7620\n",
            "Epoch 31/100\n",
            " - 29s - loss: 0.4951 - acc: 0.7556 - val_loss: 0.5081 - val_acc: 0.7500\n",
            "Epoch 32/100\n",
            " - 29s - loss: 0.5000 - acc: 0.7597 - val_loss: 0.4891 - val_acc: 0.7580\n",
            "Epoch 33/100\n",
            " - 29s - loss: 0.4969 - acc: 0.7541 - val_loss: 0.4828 - val_acc: 0.7720\n",
            "Epoch 34/100\n",
            " - 29s - loss: 0.4945 - acc: 0.7591 - val_loss: 0.5531 - val_acc: 0.7130\n",
            "Epoch 35/100\n",
            " - 28s - loss: 0.4786 - acc: 0.7719 - val_loss: 0.5302 - val_acc: 0.7210\n",
            "Epoch 36/100\n",
            " - 29s - loss: 0.4954 - acc: 0.7591 - val_loss: 0.4530 - val_acc: 0.7860\n",
            "Epoch 37/100\n",
            " - 29s - loss: 0.4746 - acc: 0.7778 - val_loss: 0.5323 - val_acc: 0.7450\n",
            "Epoch 38/100\n",
            " - 28s - loss: 0.4875 - acc: 0.7628 - val_loss: 0.4997 - val_acc: 0.7640\n",
            "Epoch 39/100\n",
            " - 29s - loss: 0.4663 - acc: 0.7738 - val_loss: 0.4770 - val_acc: 0.7700\n",
            "Epoch 40/100\n",
            " - 29s - loss: 0.4639 - acc: 0.7797 - val_loss: 0.4633 - val_acc: 0.7820\n",
            "Epoch 41/100\n",
            " - 29s - loss: 0.4717 - acc: 0.7747 - val_loss: 0.4600 - val_acc: 0.7900\n",
            "Epoch 42/100\n",
            " - 29s - loss: 0.4652 - acc: 0.7619 - val_loss: 0.5723 - val_acc: 0.7270\n",
            "Epoch 43/100\n",
            " - 29s - loss: 0.4651 - acc: 0.7844 - val_loss: 0.4634 - val_acc: 0.7810\n",
            "Epoch 44/100\n",
            " - 29s - loss: 0.4619 - acc: 0.7763 - val_loss: 0.4965 - val_acc: 0.7600\n",
            "Epoch 45/100\n",
            " - 29s - loss: 0.4509 - acc: 0.7831 - val_loss: 0.4859 - val_acc: 0.7700\n",
            "Epoch 46/100\n",
            " - 29s - loss: 0.4589 - acc: 0.7744 - val_loss: 0.5021 - val_acc: 0.7660\n",
            "Epoch 47/100\n",
            "Epoch 48/100\n",
            " - 29s - loss: 0.4473 - acc: 0.7816 - val_loss: 0.4417 - val_acc: 0.7930\n",
            "Epoch 49/100\n",
            " - 28s - loss: 0.4401 - acc: 0.7941 - val_loss: 0.5259 - val_acc: 0.7430\n",
            "Epoch 50/100\n",
            " - 29s - loss: 0.4481 - acc: 0.7866 - val_loss: 0.4461 - val_acc: 0.7980\n",
            "Epoch 51/100\n",
            " - 28s - loss: 0.4368 - acc: 0.8006 - val_loss: 0.4619 - val_acc: 0.7880\n",
            "Epoch 52/100\n",
            " - 29s - loss: 0.4343 - acc: 0.7922 - val_loss: 0.5231 - val_acc: 0.7550\n",
            "Epoch 53/100\n",
            " - 29s - loss: 0.4513 - acc: 0.7856 - val_loss: 0.4707 - val_acc: 0.7750\n",
            "Epoch 54/100\n",
            " - 29s - loss: 0.4318 - acc: 0.7987 - val_loss: 0.4795 - val_acc: 0.7670\n",
            "Epoch 55/100\n",
            " - 29s - loss: 0.4349 - acc: 0.7987 - val_loss: 0.4535 - val_acc: 0.7970\n",
            "Epoch 56/100\n",
            " - 29s - loss: 0.4362 - acc: 0.7947 - val_loss: 0.4257 - val_acc: 0.8020\n",
            "Epoch 57/100\n",
            " - 28s - loss: 0.4310 - acc: 0.7959 - val_loss: 0.4723 - val_acc: 0.7740\n",
            "Epoch 58/100\n",
            " - 29s - loss: 0.4272 - acc: 0.8006 - val_loss: 0.4348 - val_acc: 0.8030\n",
            "Epoch 59/100\n",
            " - 28s - loss: 0.4277 - acc: 0.8087 - val_loss: 0.4429 - val_acc: 0.8040\n",
            "Epoch 60/100\n",
            " - 28s - loss: 0.4247 - acc: 0.8125 - val_loss: 0.4455 - val_acc: 0.7940\n",
            "Epoch 61/100\n",
            " - 29s - loss: 0.4230 - acc: 0.8041 - val_loss: 0.4464 - val_acc: 0.8040\n",
            "Epoch 62/100\n",
            " - 28s - loss: 0.4201 - acc: 0.7994 - val_loss: 0.5864 - val_acc: 0.7580\n",
            "Epoch 63/100\n",
            " - 29s - loss: 0.4097 - acc: 0.8119 - val_loss: 0.4391 - val_acc: 0.8040\n",
            "Epoch 64/100\n",
            " - 28s - loss: 0.4328 - acc: 0.8012 - val_loss: 0.4447 - val_acc: 0.7910\n",
            "Epoch 65/100\n",
            " - 28s - loss: 0.4121 - acc: 0.8047 - val_loss: 0.4461 - val_acc: 0.7900\n",
            "Epoch 66/100\n",
            " - 29s - loss: 0.4037 - acc: 0.8106 - val_loss: 0.4556 - val_acc: 0.7990\n",
            "Epoch 67/100\n",
            " - 29s - loss: 0.3928 - acc: 0.8159 - val_loss: 0.4555 - val_acc: 0.8050\n",
            "Epoch 68/100\n",
            " - 29s - loss: 0.3901 - acc: 0.8222 - val_loss: 0.5299 - val_acc: 0.7720\n",
            "Epoch 69/100\n",
            " - 29s - loss: 0.4013 - acc: 0.8191 - val_loss: 0.5272 - val_acc: 0.7680\n",
            "Epoch 70/100\n",
            " - 29s - loss: 0.3947 - acc: 0.8244 - val_loss: 0.4565 - val_acc: 0.8000\n",
            "Epoch 71/100\n",
            " - 30s - loss: 0.3963 - acc: 0.8206 - val_loss: 0.4271 - val_acc: 0.8120\n",
            "Epoch 72/100\n",
            " - 29s - loss: 0.3924 - acc: 0.8219 - val_loss: 0.4657 - val_acc: 0.8020\n",
            "Epoch 73/100\n",
            " - 29s - loss: 0.3968 - acc: 0.8163 - val_loss: 0.4940 - val_acc: 0.7840\n",
            "Epoch 74/100\n",
            " - 29s - loss: 0.3812 - acc: 0.8275 - val_loss: 0.4091 - val_acc: 0.8180\n",
            "Epoch 75/100\n",
            " - 28s - loss: 0.3889 - acc: 0.8269 - val_loss: 0.4368 - val_acc: 0.8160\n",
            "Epoch 76/100\n",
            " - 29s - loss: 0.3902 - acc: 0.8281 - val_loss: 0.4408 - val_acc: 0.8070\n",
            "Epoch 77/100\n",
            " - 29s - loss: 0.3913 - acc: 0.8222 - val_loss: 0.4606 - val_acc: 0.7980\n",
            "Epoch 78/100\n",
            " - 29s - loss: 0.3730 - acc: 0.8369 - val_loss: 0.4549 - val_acc: 0.8050\n",
            "Epoch 79/100\n",
            " - 29s - loss: 0.3781 - acc: 0.8272 - val_loss: 0.5986 - val_acc: 0.7670\n",
            "Epoch 80/100\n",
            " - 29s - loss: 0.3713 - acc: 0.8334 - val_loss: 0.4538 - val_acc: 0.8110\n",
            "Epoch 81/100\n",
            " - 29s - loss: 0.3762 - acc: 0.8312 - val_loss: 0.4955 - val_acc: 0.7860\n",
            "Epoch 82/100\n",
            " - 29s - loss: 0.3813 - acc: 0.8281 - val_loss: 0.4010 - val_acc: 0.8260\n",
            "Epoch 83/100\n",
            " - 29s - loss: 0.3716 - acc: 0.8328 - val_loss: 0.4707 - val_acc: 0.7980\n",
            "Epoch 84/100\n",
            " - 29s - loss: 0.3598 - acc: 0.8391 - val_loss: 0.4184 - val_acc: 0.8230\n",
            "Epoch 85/100\n",
            " - 29s - loss: 0.3712 - acc: 0.8337 - val_loss: 0.4466 - val_acc: 0.8130\n",
            "Epoch 86/100\n",
            " - 29s - loss: 0.3719 - acc: 0.8275 - val_loss: 0.4832 - val_acc: 0.8100\n",
            "Epoch 87/100\n",
            " - 29s - loss: 0.3567 - acc: 0.8350 - val_loss: 0.4678 - val_acc: 0.8070\n",
            "Epoch 88/100\n",
            " - 29s - loss: 0.3663 - acc: 0.8419 - val_loss: 0.4676 - val_acc: 0.8050\n",
            "Epoch 89/100\n",
            " - 29s - loss: 0.3648 - acc: 0.8366 - val_loss: 0.4509 - val_acc: 0.8120\n",
            "Epoch 90/100\n",
            " - 29s - loss: 0.3476 - acc: 0.8469 - val_loss: 0.4107 - val_acc: 0.8170\n",
            "Epoch 91/100\n",
            " - 28s - loss: 0.3467 - acc: 0.8481 - val_loss: 0.4248 - val_acc: 0.8230\n",
            "Epoch 92/100\n",
            " - 29s - loss: 0.3526 - acc: 0.8394 - val_loss: 0.4810 - val_acc: 0.8190\n",
            "Epoch 93/100\n",
            " - 29s - loss: 0.3476 - acc: 0.8497 - val_loss: 0.4657 - val_acc: 0.8070\n",
            "Epoch 94/100\n",
            " - 29s - loss: 0.3528 - acc: 0.8391 - val_loss: 0.4591 - val_acc: 0.8080\n",
            "Epoch 95/100\n",
            " - 29s - loss: 0.3407 - acc: 0.8484 - val_loss: 0.4269 - val_acc: 0.8210\n",
            "Epoch 96/100\n",
            " - 29s - loss: 0.3599 - acc: 0.8328 - val_loss: 0.4366 - val_acc: 0.8180\n",
            "Epoch 97/100\n",
            " - 28s - loss: 0.3389 - acc: 0.8544 - val_loss: 0.4700 - val_acc: 0.8170\n",
            "Epoch 98/100\n",
            " - 29s - loss: 0.3337 - acc: 0.8559 - val_loss: 0.4512 - val_acc: 0.8220\n",
            "Epoch 99/100\n",
            " - 29s - loss: 0.3448 - acc: 0.8478 - val_loss: 0.4155 - val_acc: 0.8360\n",
            "Epoch 100/100\n",
            " - 29s - loss: 0.3395 - acc: 0.8472 - val_loss: 0.4346 - val_acc: 0.8270\n"
          ],
          "name": "stdout"
        }
      ]
    },
    {
      "metadata": {
        "id": "vChg7T_v3uzJ",
        "colab_type": "code",
        "colab": {}
      },
      "cell_type": "code",
      "source": [
        "model.save('4_simple_model_data_augment.h5')"
      ],
      "execution_count": 0,
      "outputs": []
    },
    {
      "metadata": {
        "id": "cbF-Tvy83uzL",
        "colab_type": "code",
        "colab": {
          "base_uri": "https://localhost:8080/",
          "height": 549
        },
        "outputId": "cb6f4049-1674-44eb-a27b-e9b7606c935a"
      },
      "cell_type": "code",
      "source": [
        "plot_history(history, metrics=('acc', 'loss'))"
      ],
      "execution_count": 8,
      "outputs": [
        {
          "output_type": "display_data",
          "data": {
            "image/png": "[encoded data removed]",
            "text/plain": [
              "<Figure size 432x288 with 1 Axes>"
            ]
          },
          "metadata": {
            "tags": []
          }
        },
        {
          "output_type": "display_data",
          "data": {
            "image/png": "[encoded data removed]",
            "text/plain": [
              "<Figure size 432x288 with 1 Axes>"
            ]
          },
          "metadata": {
            "tags": []
          }
        }
      ]
    }
  ]
}
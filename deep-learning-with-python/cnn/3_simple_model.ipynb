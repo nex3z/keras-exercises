{
  "nbformat": 4,
  "nbformat_minor": 0,
  "metadata": {
    "colab": {
      "name": "3_simple_model.ipynb",
      "version": "0.3.2",
      "provenance": [],
      "collapsed_sections": []
    },
    "language_info": {
      "codemirror_mode": {
        "name": "ipython",
        "version": 3
      },
      "file_extension": ".py",
      "mimetype": "text/x-python",
      "name": "python",
      "nbconvert_exporter": "python",
      "pygments_lexer": "ipython3",
      "version": "3.6.8"
    },
    "kernelspec": {
      "name": "python3",
      "display_name": "Python 3"
    },
    "accelerator": "GPU"
  },
  "cells": [
    {
      "metadata": {
        "id": "Z3h522lT2ASg",
        "colab_type": "code",
        "colab": {
          "base_uri": "https://localhost:8080/",
          "height": 34
        },
        "outputId": "fe1dc0dd-c99f-46f5-867b-2eba2ab957ce"
      },
      "cell_type": "code",
      "source": [
        "from keras.models import Sequential\n",
        "from keras.layers import Conv2D, MaxPooling2D, Flatten, Dense\n",
        "from keras.optimizers import RMSprop\n",
        "from keras.preprocessing.image import ImageDataGenerator\n",
        "from plot_util import plot_history"
      ],
      "execution_count": 1,
      "outputs": [
        {
          "output_type": "stream",
          "text": [
            "Using TensorFlow backend.\n"
          ],
          "name": "stderr"
        }
      ]
    },
    {
      "metadata": {
        "id": "WsNx4Das2ASm",
        "colab_type": "code",
        "colab": {}
      },
      "cell_type": "code",
      "source": [
        "TRAIN_DIR = './data/dogs-vs-cats-small/train'\n",
        "VAL_DIR = './data/dogs-vs-cats-small/validation'"
      ],
      "execution_count": 0,
      "outputs": []
    },
    {
      "metadata": {
        "id": "B5R618CV2ASp",
        "colab_type": "code",
        "colab": {
          "base_uri": "https://localhost:8080/",
          "height": 88
        },
        "outputId": "382cd0c8-5e05-4e99-b307-cb09660d720c"
      },
      "cell_type": "code",
      "source": [
        "model = Sequential()\n",
        "\n",
        "model.add(Conv2D(32, (3, 3), activation='relu', input_shape=(150, 150, 3)))\n",
        "model.add(MaxPooling2D((2, 2)))\n",
        "model.add(Conv2D(64, (3, 3), activation='relu'))\n",
        "model.add(MaxPooling2D((2, 2)))\n",
        "model.add(Conv2D(128, (3, 3), activation='relu'))\n",
        "model.add(MaxPooling2D((2, 2)))\n",
        "model.add(Conv2D(128, (3 ,3), activation='relu'))\n",
        "model.add(MaxPooling2D((2, 2)))\n",
        "model.add(Flatten())\n",
        "model.add(Dense(512, activation='relu'))\n",
        "model.add(Dense(1, activation='sigmoid'))\n",
        "\n",
        "model.compile(loss='binary_crossentropy', optimizer=RMSprop(lr=1e-4), metrics=['acc'])"
      ],
      "execution_count": 3,
      "outputs": [
        {
          "output_type": "stream",
          "text": [
            "WARNING:tensorflow:From /usr/local/lib/python3.6/dist-packages/tensorflow/python/framework/op_def_library.py:263: colocate_with (from tensorflow.python.framework.ops) is deprecated and will be removed in a future version.\n",
            "Instructions for updating:\n",
            "Colocations handled automatically by placer.\n"
          ],
          "name": "stdout"
        }
      ]
    },
    {
      "metadata": {
        "id": "MAjVOcuU2ASt",
        "colab_type": "code",
        "colab": {
          "base_uri": "https://localhost:8080/",
          "height": 510
        },
        "outputId": "53342030-c7fc-4406-e9e4-43553ef5b482"
      },
      "cell_type": "code",
      "source": [
        "model.summary()"
      ],
      "execution_count": 4,
      "outputs": [
        {
          "output_type": "stream",
          "text": [
            "_________________________________________________________________\n",
            "Layer (type)                 Output Shape              Param #   \n",
            "=================================================================\n",
            "conv2d_1 (Conv2D)            (None, 148, 148, 32)      896       \n",
            "_________________________________________________________________\n",
            "max_pooling2d_1 (MaxPooling2 (None, 74, 74, 32)        0         \n",
            "_________________________________________________________________\n",
            "conv2d_2 (Conv2D)            (None, 72, 72, 64)        18496     \n",
            "_________________________________________________________________\n",
            "max_pooling2d_2 (MaxPooling2 (None, 36, 36, 64)        0         \n",
            "_________________________________________________________________\n",
            "conv2d_3 (Conv2D)            (None, 34, 34, 128)       73856     \n",
            "_________________________________________________________________\n",
            "max_pooling2d_3 (MaxPooling2 (None, 17, 17, 128)       0         \n",
            "_________________________________________________________________\n",
            "conv2d_4 (Conv2D)            (None, 15, 15, 128)       147584    \n",
            "_________________________________________________________________\n",
            "max_pooling2d_4 (MaxPooling2 (None, 7, 7, 128)         0         \n",
            "_________________________________________________________________\n",
            "flatten_1 (Flatten)          (None, 6272)              0         \n",
            "_________________________________________________________________\n",
            "dense_1 (Dense)              (None, 512)               3211776   \n",
            "_________________________________________________________________\n",
            "dense_2 (Dense)              (None, 1)                 513       \n",
            "=================================================================\n",
            "Total params: 3,453,121\n",
            "Trainable params: 3,453,121\n",
            "Non-trainable params: 0\n",
            "_________________________________________________________________\n"
          ],
          "name": "stdout"
        }
      ]
    },
    {
      "metadata": {
        "id": "8bw9UNy82ASw",
        "colab_type": "code",
        "colab": {
          "base_uri": "https://localhost:8080/",
          "height": 51
        },
        "outputId": "d4332df8-6ea3-411e-f48b-622325fbbc82"
      },
      "cell_type": "code",
      "source": [
        "train_gen = ImageDataGenerator(rescale=1./255)\n",
        "train_iter = train_gen.flow_from_directory(TRAIN_DIR, target_size=(150, 150), batch_size=20, class_mode='binary')\n",
        "\n",
        "val_gen = ImageDataGenerator(rescale=1./255)\n",
        "val_iter = val_gen.flow_from_directory(VAL_DIR, target_size=(150, 150), batch_size=20, class_mode='binary')"
      ],
      "execution_count": 5,
      "outputs": [
        {
          "output_type": "stream",
          "text": [
            "Found 2000 images belonging to 2 classes.\n",
            "Found 1000 images belonging to 2 classes.\n"
          ],
          "name": "stdout"
        }
      ]
    },
    {
      "metadata": {
        "id": "tp_Y2NLx2AS0",
        "colab_type": "code",
        "colab": {
          "base_uri": "https://localhost:8080/",
          "height": 1108
        },
        "outputId": "e33c63e4-ed57-4b12-e424-868c0bbae300"
      },
      "cell_type": "code",
      "source": [
        "history = model.fit_generator(train_iter, steps_per_epoch=100, epochs=30,\n",
        "                              validation_data=val_iter, validation_steps=50, verbose=2)"
      ],
      "execution_count": 6,
      "outputs": [
        {
          "output_type": "stream",
          "text": [
            "WARNING:tensorflow:From /usr/local/lib/python3.6/dist-packages/tensorflow/python/ops/math_ops.py:3066: to_int32 (from tensorflow.python.ops.math_ops) is deprecated and will be removed in a future version.\n",
            "Instructions for updating:\n",
            "Use tf.cast instead.\n",
            "Epoch 1/30\n",
            " - 13s - loss: 0.6890 - acc: 0.5325 - val_loss: 0.6801 - val_acc: 0.5030\n",
            "Epoch 2/30\n",
            " - 10s - loss: 0.6477 - acc: 0.6230 - val_loss: 0.6311 - val_acc: 0.6440\n",
            "Epoch 3/30\n",
            " - 10s - loss: 0.5909 - acc: 0.6790 - val_loss: 0.6176 - val_acc: 0.6450\n",
            "Epoch 4/30\n",
            " - 10s - loss: 0.5550 - acc: 0.7170 - val_loss: 0.6359 - val_acc: 0.6310\n",
            "Epoch 5/30\n",
            " - 10s - loss: 0.5377 - acc: 0.7280 - val_loss: 0.6095 - val_acc: 0.6680\n",
            "Epoch 6/30\n",
            " - 10s - loss: 0.5122 - acc: 0.7475 - val_loss: 0.5776 - val_acc: 0.6940\n",
            "Epoch 7/30\n",
            " - 10s - loss: 0.4875 - acc: 0.7585 - val_loss: 0.5795 - val_acc: 0.6860\n",
            "Epoch 8/30\n",
            " - 10s - loss: 0.4683 - acc: 0.7765 - val_loss: 0.5786 - val_acc: 0.7000\n",
            "Epoch 9/30\n",
            " - 10s - loss: 0.4484 - acc: 0.7845 - val_loss: 0.5847 - val_acc: 0.6950\n",
            "Epoch 10/30\n",
            " - 10s - loss: 0.4103 - acc: 0.8205 - val_loss: 0.6573 - val_acc: 0.6920\n",
            "Epoch 11/30\n",
            " - 10s - loss: 0.3881 - acc: 0.8300 - val_loss: 0.5658 - val_acc: 0.7190\n",
            "Epoch 12/30\n",
            " - 10s - loss: 0.3697 - acc: 0.8385 - val_loss: 0.5658 - val_acc: 0.7260\n",
            "Epoch 13/30\n",
            " - 10s - loss: 0.3477 - acc: 0.8540 - val_loss: 0.5451 - val_acc: 0.7320\n",
            "Epoch 14/30\n",
            " - 10s - loss: 0.3265 - acc: 0.8675 - val_loss: 0.5772 - val_acc: 0.7180\n",
            "Epoch 15/30\n",
            " - 10s - loss: 0.2987 - acc: 0.8765 - val_loss: 0.5981 - val_acc: 0.7250\n",
            "Epoch 16/30\n",
            " - 10s - loss: 0.2782 - acc: 0.8835 - val_loss: 0.6383 - val_acc: 0.7150\n",
            "Epoch 17/30\n",
            " - 10s - loss: 0.2601 - acc: 0.8970 - val_loss: 0.6355 - val_acc: 0.7280\n",
            "Epoch 18/30\n",
            " - 10s - loss: 0.2373 - acc: 0.9100 - val_loss: 0.5988 - val_acc: 0.7310\n",
            "Epoch 19/30\n",
            " - 10s - loss: 0.2113 - acc: 0.9290 - val_loss: 0.6607 - val_acc: 0.7340\n",
            "Epoch 20/30\n",
            " - 10s - loss: 0.1974 - acc: 0.9275 - val_loss: 0.6180 - val_acc: 0.7330\n",
            "Epoch 21/30\n",
            " - 10s - loss: 0.1789 - acc: 0.9350 - val_loss: 0.6681 - val_acc: 0.7260\n",
            "Epoch 22/30\n",
            " - 10s - loss: 0.1584 - acc: 0.9445 - val_loss: 0.6950 - val_acc: 0.7270\n",
            "Epoch 23/30\n",
            " - 10s - loss: 0.1408 - acc: 0.9530 - val_loss: 0.7106 - val_acc: 0.7230\n",
            "Epoch 24/30\n",
            " - 10s - loss: 0.1273 - acc: 0.9565 - val_loss: 0.7330 - val_acc: 0.7270\n",
            "Epoch 25/30\n",
            " - 10s - loss: 0.1174 - acc: 0.9570 - val_loss: 0.8118 - val_acc: 0.7230\n",
            "Epoch 26/30\n",
            " - 10s - loss: 0.1043 - acc: 0.9685 - val_loss: 0.7629 - val_acc: 0.7310\n",
            "Epoch 27/30\n",
            " - 10s - loss: 0.0866 - acc: 0.9720 - val_loss: 0.8598 - val_acc: 0.7220\n",
            "Epoch 28/30\n",
            " - 10s - loss: 0.0710 - acc: 0.9795 - val_loss: 0.8810 - val_acc: 0.7290\n",
            "Epoch 29/30\n",
            " - 10s - loss: 0.0632 - acc: 0.9830 - val_loss: 0.8816 - val_acc: 0.7320\n",
            "Epoch 30/30\n",
            " - 10s - loss: 0.0566 - acc: 0.9845 - val_loss: 0.9651 - val_acc: 0.7260\n"
          ],
          "name": "stdout"
        }
      ]
    },
    {
      "metadata": {
        "id": "ckeofcbm2AS4",
        "colab_type": "code",
        "colab": {
          "base_uri": "https://localhost:8080/",
          "height": 549
        },
        "outputId": "88ecf2e9-4560-4420-d4ff-71ea6cf2b73d"
      },
      "cell_type": "code",
      "source": [
        "plot_history(history, metrics=('acc', 'loss'))"
      ],
      "execution_count": 7,
      "outputs": [
        {
          "output_type": "display_data",
          "data": {
            "image/png": "[encoded data removed]",
            "text/plain": [
              "<Figure size 432x288 with 1 Axes>"
            ]
          },
          "metadata": {
            "tags": []
          }
        },
        {
          "output_type": "display_data",
          "data": {
            "image/png": "[encoded data removed]",
            "text/plain": [
              "<Figure size 432x288 with 1 Axes>"
            ]
          },
          "metadata": {
            "tags": []
          }
        }
      ]
    }
  ]
}
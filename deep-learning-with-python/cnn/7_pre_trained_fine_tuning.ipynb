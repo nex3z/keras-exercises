{
  "nbformat": 4,
  "nbformat_minor": 0,
  "metadata": {
    "colab": {
      "name": "7_pre_trained_fine_tuning.ipynb",
      "version": "0.3.2",
      "provenance": [],
      "collapsed_sections": []
    },
    "kernelspec": {
      "name": "python3",
      "display_name": "Python 3"
    },
    "accelerator": "GPU"
  },
  "cells": [
    {
      "metadata": {
        "id": "ov7Teh53T5Aa",
        "colab_type": "code",
        "outputId": "a681823a-6133-4b28-b1ce-291116ffa89b",
        "colab": {
          "base_uri": "https://localhost:8080/",
          "height": 34
        }
      },
      "cell_type": "code",
      "source": [
        "from keras.applications import VGG16\n",
        "from keras.applications.vgg16 import preprocess_input\n",
        "from keras.preprocessing.image import ImageDataGenerator\n",
        "from keras.models import Sequential\n",
        "from keras.layers import Flatten, Dense\n",
        "from keras.optimizers import RMSprop\n",
        "from plot_util import plot_history"
      ],
      "execution_count": 1,
      "outputs": [
        {
          "output_type": "stream",
          "text": [
            "Using TensorFlow backend.\n"
          ],
          "name": "stderr"
        }
      ]
    },
    {
      "metadata": {
        "id": "A33-QZ0aUBBx",
        "colab_type": "code",
        "colab": {}
      },
      "cell_type": "code",
      "source": [
        "TRAIN_DIR = './data/dogs-vs-cats-small/train'\n",
        "VAL_DIR = './data/dogs-vs-cats-small/validation'\n",
        "TEST_DIR = './data/dogs-vs-cats-small/test'"
      ],
      "execution_count": 0,
      "outputs": []
    },
    {
      "metadata": {
        "id": "x5Q8pJfiUDwg",
        "colab_type": "code",
        "outputId": "b7ff1f69-04a9-4a1d-8153-3a7b3f484789",
        "colab": {
          "base_uri": "https://localhost:8080/",
          "height": 88
        }
      },
      "cell_type": "code",
      "source": [
        "conv_base = VGG16(weights='imagenet', include_top=False, input_shape=(150, 150, 3))"
      ],
      "execution_count": 3,
      "outputs": [
        {
          "output_type": "stream",
          "text": [
            "WARNING:tensorflow:From /usr/local/lib/python3.6/dist-packages/tensorflow/python/framework/op_def_library.py:263: colocate_with (from tensorflow.python.framework.ops) is deprecated and will be removed in a future version.\n",
            "Instructions for updating:\n",
            "Colocations handled automatically by placer.\n"
          ],
          "name": "stdout"
        }
      ]
    },
    {
      "metadata": {
        "id": "M7j23reMYJ4O",
        "colab_type": "code",
        "colab": {
          "base_uri": "https://localhost:8080/",
          "height": 51
        },
        "outputId": "641a4dad-ebff-4bc7-cadc-02d026baa701"
      },
      "cell_type": "code",
      "source": [
        "model = Sequential()\n",
        "model.add(conv_base)\n",
        "model.add(Flatten())\n",
        "model.add(Dense(256, activation='relu'))\n",
        "model.add(Dense(1, activation='sigmoid'))\n",
        "\n",
        "print(\"Number of trainable weights in model before forzen: {}\".format(len(model.trainable_weights)))\n",
        "conv_base.trainable = False\n",
        "print(\"Number of trainable weights in model after forzen: {}\".format(len(model.trainable_weights)))\n",
        "\n",
        "model.compile(loss='binary_crossentropy', optimizer=RMSprop(lr=2e-5), metrics=['acc'])"
      ],
      "execution_count": 4,
      "outputs": [
        {
          "output_type": "stream",
          "text": [
            "Number of trainable weights in model before forzen: 30\n",
            "Number of trainable weights in model after forzen: 4\n"
          ],
          "name": "stdout"
        }
      ]
    },
    {
      "metadata": {
        "id": "GTAA_h1BYMrg",
        "colab_type": "code",
        "outputId": "d7e0a7c5-a02e-461b-ff13-1f33b207487c",
        "colab": {
          "base_uri": "https://localhost:8080/",
          "height": 51
        }
      },
      "cell_type": "code",
      "source": [
        "train_gen = ImageDataGenerator(\n",
        "    preprocessing_function=preprocess_input,\n",
        "    rotation_range=40,\n",
        "    width_shift_range=0.2,\n",
        "    height_shift_range=0.2,\n",
        "    shear_range=0.2,\n",
        "    zoom_range=0.2,\n",
        "    horizontal_flip=True,\n",
        "    fill_mode='nearest'\n",
        ")\n",
        "train_iter = train_gen.flow_from_directory(TRAIN_DIR, target_size=(150, 150), batch_size=20, class_mode='binary')\n",
        "\n",
        "val_gen = ImageDataGenerator(preprocessing_function=preprocess_input)\n",
        "val_iter = val_gen.flow_from_directory(VAL_DIR, target_size=(150, 150), batch_size=20, class_mode='binary')"
      ],
      "execution_count": 5,
      "outputs": [
        {
          "output_type": "stream",
          "text": [
            "Found 2000 images belonging to 2 classes.\n",
            "Found 1000 images belonging to 2 classes.\n"
          ],
          "name": "stdout"
        }
      ]
    },
    {
      "metadata": {
        "id": "kcPmPJBOYQeR",
        "colab_type": "code",
        "outputId": "f418a692-9c68-4ac2-f6c6-2ddf1c83a461",
        "colab": {
          "base_uri": "https://localhost:8080/",
          "height": 1108
        }
      },
      "cell_type": "code",
      "source": [
        "history_feature_extraction = model.fit_generator(\n",
        "    train_iter, steps_per_epoch=100, epochs=30, \n",
        "    validation_data=val_iter, validation_steps=50,\n",
        "    verbose=2\n",
        ")"
      ],
      "execution_count": 6,
      "outputs": [
        {
          "output_type": "stream",
          "text": [
            "WARNING:tensorflow:From /usr/local/lib/python3.6/dist-packages/tensorflow/python/ops/math_ops.py:3066: to_int32 (from tensorflow.python.ops.math_ops) is deprecated and will be removed in a future version.\n",
            "Instructions for updating:\n",
            "Use tf.cast instead.\n",
            "Epoch 1/30\n",
            " - 21s - loss: 2.0186 - acc: 0.7535 - val_loss: 0.7319 - val_acc: 0.9110\n",
            "Epoch 2/30\n",
            " - 17s - loss: 0.9909 - acc: 0.8690 - val_loss: 0.5062 - val_acc: 0.9370\n",
            "Epoch 3/30\n",
            " - 17s - loss: 0.7127 - acc: 0.8960 - val_loss: 0.4581 - val_acc: 0.9470\n",
            "Epoch 4/30\n",
            " - 18s - loss: 0.6565 - acc: 0.9105 - val_loss: 0.3789 - val_acc: 0.9530\n",
            "Epoch 5/30\n",
            " - 17s - loss: 0.5571 - acc: 0.9180 - val_loss: 0.3359 - val_acc: 0.9610\n",
            "Epoch 6/30\n",
            " - 17s - loss: 0.6001 - acc: 0.9235 - val_loss: 0.3255 - val_acc: 0.9600\n",
            "Epoch 7/30\n",
            " - 17s - loss: 0.6073 - acc: 0.9225 - val_loss: 0.3423 - val_acc: 0.9580\n",
            "Epoch 8/30\n",
            " - 17s - loss: 0.4227 - acc: 0.9390 - val_loss: 0.3354 - val_acc: 0.9590\n",
            "Epoch 9/30\n",
            " - 17s - loss: 0.5152 - acc: 0.9285 - val_loss: 0.3103 - val_acc: 0.9620\n",
            "Epoch 10/30\n",
            " - 17s - loss: 0.4215 - acc: 0.9405 - val_loss: 0.2895 - val_acc: 0.9710\n",
            "Epoch 11/30\n",
            " - 16s - loss: 0.4158 - acc: 0.9395 - val_loss: 0.3098 - val_acc: 0.9680\n",
            "Epoch 12/30\n",
            " - 17s - loss: 0.3905 - acc: 0.9405 - val_loss: 0.2886 - val_acc: 0.9700\n",
            "Epoch 13/30\n",
            " - 18s - loss: 0.3789 - acc: 0.9455 - val_loss: 0.2876 - val_acc: 0.9670\n",
            "Epoch 14/30\n",
            " - 19s - loss: 0.3981 - acc: 0.9410 - val_loss: 0.2961 - val_acc: 0.9660\n",
            "Epoch 15/30\n",
            " - 17s - loss: 0.3354 - acc: 0.9490 - val_loss: 0.2703 - val_acc: 0.9690\n",
            "Epoch 16/30\n",
            " - 17s - loss: 0.3461 - acc: 0.9520 - val_loss: 0.2909 - val_acc: 0.9720\n",
            "Epoch 17/30\n",
            " - 17s - loss: 0.3213 - acc: 0.9505 - val_loss: 0.2772 - val_acc: 0.9690\n",
            "Epoch 18/30\n",
            " - 18s - loss: 0.3238 - acc: 0.9495 - val_loss: 0.2821 - val_acc: 0.9690\n",
            "Epoch 19/30\n",
            " - 17s - loss: 0.3200 - acc: 0.9510 - val_loss: 0.2793 - val_acc: 0.9670\n",
            "Epoch 20/30\n",
            " - 17s - loss: 0.3108 - acc: 0.9485 - val_loss: 0.2681 - val_acc: 0.9700\n",
            "Epoch 21/30\n",
            " - 16s - loss: 0.2815 - acc: 0.9575 - val_loss: 0.3163 - val_acc: 0.9660\n",
            "Epoch 22/30\n",
            " - 17s - loss: 0.2229 - acc: 0.9635 - val_loss: 0.2731 - val_acc: 0.9700\n",
            "Epoch 23/30\n",
            " - 18s - loss: 0.2207 - acc: 0.9645 - val_loss: 0.2566 - val_acc: 0.9740\n",
            "Epoch 24/30\n",
            " - 17s - loss: 0.3108 - acc: 0.9565 - val_loss: 0.2744 - val_acc: 0.9700\n",
            "Epoch 25/30\n",
            " - 17s - loss: 0.2574 - acc: 0.9610 - val_loss: 0.2660 - val_acc: 0.9720\n",
            "Epoch 26/30\n",
            " - 17s - loss: 0.2100 - acc: 0.9645 - val_loss: 0.2989 - val_acc: 0.9680\n",
            "Epoch 27/30\n",
            " - 17s - loss: 0.2397 - acc: 0.9610 - val_loss: 0.2609 - val_acc: 0.9750\n",
            "Epoch 28/30\n",
            " - 17s - loss: 0.2254 - acc: 0.9585 - val_loss: 0.2911 - val_acc: 0.9690\n",
            "Epoch 29/30\n",
            " - 17s - loss: 0.2106 - acc: 0.9635 - val_loss: 0.2962 - val_acc: 0.9670\n",
            "Epoch 30/30\n",
            " - 17s - loss: 0.2150 - acc: 0.9645 - val_loss: 0.2854 - val_acc: 0.9710\n"
          ],
          "name": "stdout"
        }
      ]
    },
    {
      "metadata": {
        "id": "bCJ8oyajYe1F",
        "colab_type": "code",
        "outputId": "fd0e9e6a-2ccf-4a53-de1a-58b0da3b8d82",
        "colab": {
          "base_uri": "https://localhost:8080/",
          "height": 782
        }
      },
      "cell_type": "code",
      "source": [
        "conv_base.summary()"
      ],
      "execution_count": 7,
      "outputs": [
        {
          "output_type": "stream",
          "text": [
            "_________________________________________________________________\n",
            "Layer (type)                 Output Shape              Param #   \n",
            "=================================================================\n",
            "input_1 (InputLayer)         (None, 150, 150, 3)       0         \n",
            "_________________________________________________________________\n",
            "block1_conv1 (Conv2D)        (None, 150, 150, 64)      1792      \n",
            "_________________________________________________________________\n",
            "block1_conv2 (Conv2D)        (None, 150, 150, 64)      36928     \n",
            "_________________________________________________________________\n",
            "block1_pool (MaxPooling2D)   (None, 75, 75, 64)        0         \n",
            "_________________________________________________________________\n",
            "block2_conv1 (Conv2D)        (None, 75, 75, 128)       73856     \n",
            "_________________________________________________________________\n",
            "block2_conv2 (Conv2D)        (None, 75, 75, 128)       147584    \n",
            "_________________________________________________________________\n",
            "block2_pool (MaxPooling2D)   (None, 37, 37, 128)       0         \n",
            "_________________________________________________________________\n",
            "block3_conv1 (Conv2D)        (None, 37, 37, 256)       295168    \n",
            "_________________________________________________________________\n",
            "block3_conv2 (Conv2D)        (None, 37, 37, 256)       590080    \n",
            "_________________________________________________________________\n",
            "block3_conv3 (Conv2D)        (None, 37, 37, 256)       590080    \n",
            "_________________________________________________________________\n",
            "block3_pool (MaxPooling2D)   (None, 18, 18, 256)       0         \n",
            "_________________________________________________________________\n",
            "block4_conv1 (Conv2D)        (None, 18, 18, 512)       1180160   \n",
            "_________________________________________________________________\n",
            "block4_conv2 (Conv2D)        (None, 18, 18, 512)       2359808   \n",
            "_________________________________________________________________\n",
            "block4_conv3 (Conv2D)        (None, 18, 18, 512)       2359808   \n",
            "_________________________________________________________________\n",
            "block4_pool (MaxPooling2D)   (None, 9, 9, 512)         0         \n",
            "_________________________________________________________________\n",
            "block5_conv1 (Conv2D)        (None, 9, 9, 512)         2359808   \n",
            "_________________________________________________________________\n",
            "block5_conv2 (Conv2D)        (None, 9, 9, 512)         2359808   \n",
            "_________________________________________________________________\n",
            "block5_conv3 (Conv2D)        (None, 9, 9, 512)         2359808   \n",
            "_________________________________________________________________\n",
            "block5_pool (MaxPooling2D)   (None, 4, 4, 512)         0         \n",
            "=================================================================\n",
            "Total params: 14,714,688\n",
            "Trainable params: 0\n",
            "Non-trainable params: 14,714,688\n",
            "_________________________________________________________________\n"
          ],
          "name": "stdout"
        }
      ]
    },
    {
      "metadata": {
        "id": "J_VJWIhCUDzK",
        "colab_type": "code",
        "outputId": "579858ba-60f2-47da-be14-1c7f1478ac35",
        "colab": {
          "base_uri": "https://localhost:8080/",
          "height": 51
        }
      },
      "cell_type": "code",
      "source": [
        "conv_base.trainable = True\n",
        "print(\"Number of trainable weights in conv_base before forzen: {}\".format(len(conv_base.trainable_weights)))\n",
        "\n",
        "trainable = False\n",
        "for layer in conv_base.layers:\n",
        "    if layer.name == 'block5_conv1':\n",
        "        trainable = True\n",
        "    layer.trainable = trainable\n",
        "\n",
        "print(\"Number of trainable weights in conv_base after forzen: {}\".format(len(conv_base.trainable_weights)))"
      ],
      "execution_count": 8,
      "outputs": [
        {
          "output_type": "stream",
          "text": [
            "Number of trainable weights in conv_base before forzen: 26\n",
            "Number of trainable weights in conv_base after forzen: 6\n"
          ],
          "name": "stdout"
        }
      ]
    },
    {
      "metadata": {
        "id": "n0VzKjcF7uFL",
        "colab_type": "code",
        "colab": {}
      },
      "cell_type": "code",
      "source": [
        "model.compile(loss='binary_crossentropy', optimizer=RMSprop(lr=1e-5), metrics=['acc'])"
      ],
      "execution_count": 0,
      "outputs": []
    },
    {
      "metadata": {
        "id": "q6GssGN1VBoe",
        "colab_type": "code",
        "outputId": "70cc39e8-28ae-40da-9aff-f0fa7e4039e1",
        "colab": {
          "base_uri": "https://localhost:8080/",
          "height": 1037
        }
      },
      "cell_type": "code",
      "source": [
        "history_fine_tuning = model.fit_generator(\n",
        "    train_iter, steps_per_epoch=100, epochs=30, \n",
        "    validation_data=val_iter, validation_steps=50,\n",
        "    verbose=2\n",
        ")"
      ],
      "execution_count": 10,
      "outputs": [
        {
          "output_type": "stream",
          "text": [
            "Epoch 1/30\n",
            " - 19s - loss: 0.2783 - acc: 0.9600 - val_loss: 0.2475 - val_acc: 0.9710\n",
            "Epoch 2/30\n",
            " - 19s - loss: 0.2612 - acc: 0.9600 - val_loss: 0.2520 - val_acc: 0.9710\n",
            "Epoch 3/30\n",
            " - 17s - loss: 0.2039 - acc: 0.9640 - val_loss: 0.2619 - val_acc: 0.9720\n",
            "Epoch 4/30\n",
            " - 17s - loss: 0.1543 - acc: 0.9700 - val_loss: 0.2598 - val_acc: 0.9670\n",
            "Epoch 5/30\n",
            " - 17s - loss: 0.1815 - acc: 0.9670 - val_loss: 0.2899 - val_acc: 0.9690\n",
            "Epoch 6/30\n",
            " - 17s - loss: 0.1409 - acc: 0.9700 - val_loss: 0.3132 - val_acc: 0.9670\n",
            "Epoch 7/30\n",
            " - 18s - loss: 0.1402 - acc: 0.9705 - val_loss: 0.2434 - val_acc: 0.9710\n",
            "Epoch 8/30\n",
            " - 17s - loss: 0.1506 - acc: 0.9710 - val_loss: 0.2862 - val_acc: 0.9700\n",
            "Epoch 9/30\n",
            " - 17s - loss: 0.1464 - acc: 0.9720 - val_loss: 0.2677 - val_acc: 0.9670\n",
            "Epoch 10/30\n",
            " - 17s - loss: 0.1254 - acc: 0.9735 - val_loss: 0.2381 - val_acc: 0.9670\n",
            "Epoch 11/30\n",
            " - 19s - loss: 0.1048 - acc: 0.9770 - val_loss: 0.1797 - val_acc: 0.9720\n",
            "Epoch 12/30\n",
            " - 17s - loss: 0.0876 - acc: 0.9760 - val_loss: 0.2733 - val_acc: 0.9610\n",
            "Epoch 13/30\n",
            " - 18s - loss: 0.1050 - acc: 0.9770 - val_loss: 0.1964 - val_acc: 0.9670\n",
            "Epoch 14/30\n",
            " - 17s - loss: 0.1482 - acc: 0.9735 - val_loss: 0.2574 - val_acc: 0.9700\n",
            "Epoch 15/30\n",
            " - 17s - loss: 0.1242 - acc: 0.9770 - val_loss: 0.2351 - val_acc: 0.9740\n",
            "Epoch 16/30\n",
            " - 19s - loss: 0.0739 - acc: 0.9820 - val_loss: 0.2646 - val_acc: 0.9710\n",
            "Epoch 17/30\n",
            " - 17s - loss: 0.0993 - acc: 0.9810 - val_loss: 0.2802 - val_acc: 0.9660\n",
            "Epoch 18/30\n",
            " - 17s - loss: 0.0546 - acc: 0.9890 - val_loss: 0.2771 - val_acc: 0.9690\n",
            "Epoch 19/30\n",
            " - 17s - loss: 0.0906 - acc: 0.9775 - val_loss: 0.2520 - val_acc: 0.9700\n",
            "Epoch 20/30\n",
            " - 20s - loss: 0.0804 - acc: 0.9805 - val_loss: 0.2494 - val_acc: 0.9670\n",
            "Epoch 21/30\n",
            " - 17s - loss: 0.0776 - acc: 0.9815 - val_loss: 0.2611 - val_acc: 0.9700\n",
            "Epoch 22/30\n",
            " - 17s - loss: 0.0754 - acc: 0.9785 - val_loss: 0.3357 - val_acc: 0.9620\n",
            "Epoch 23/30\n",
            " - 17s - loss: 0.0537 - acc: 0.9885 - val_loss: 0.2582 - val_acc: 0.9700\n",
            "Epoch 24/30\n",
            " - 17s - loss: 0.0360 - acc: 0.9885 - val_loss: 0.2436 - val_acc: 0.9710\n",
            "Epoch 25/30\n",
            " - 18s - loss: 0.0645 - acc: 0.9890 - val_loss: 0.2598 - val_acc: 0.9680\n",
            "Epoch 26/30\n",
            " - 17s - loss: 0.0590 - acc: 0.9900 - val_loss: 0.2299 - val_acc: 0.9700\n",
            "Epoch 27/30\n",
            " - 17s - loss: 0.0633 - acc: 0.9840 - val_loss: 0.2347 - val_acc: 0.9730\n",
            "Epoch 28/30\n",
            " - 17s - loss: 0.0438 - acc: 0.9865 - val_loss: 0.2267 - val_acc: 0.9710\n",
            "Epoch 29/30\n",
            " - 18s - loss: 0.0768 - acc: 0.9850 - val_loss: 0.1939 - val_acc: 0.9710\n",
            "Epoch 30/30\n",
            " - 19s - loss: 0.0563 - acc: 0.9820 - val_loss: 0.2735 - val_acc: 0.9660\n"
          ],
          "name": "stdout"
        }
      ]
    },
    {
      "metadata": {
        "id": "iXXqsk5GVBqc",
        "colab_type": "code",
        "colab": {
          "base_uri": "https://localhost:8080/",
          "height": 549
        },
        "outputId": "a2354870-8bc3-462e-dfb9-0e9d261ce683"
      },
      "cell_type": "code",
      "source": [
        "plot_history(history_fine_tuning, metrics=('acc', 'loss'))"
      ],
      "execution_count": 12,
      "outputs": [
        {
          "output_type": "display_data",
          "data": {
            "image/png": "[encoded data removed]",
            "text/plain": [
              "<Figure size 432x288 with 1 Axes>"
            ]
          },
          "metadata": {
            "tags": []
          }
        },
        {
          "output_type": "display_data",
          "data": {
            "image/png": "[encoded data removed]",
            "text/plain": [
              "<Figure size 432x288 with 1 Axes>"
            ]
          },
          "metadata": {
            "tags": []
          }
        }
      ]
    },
    {
      "metadata": {
        "id": "AhTmsZyVbW9H",
        "colab_type": "code",
        "outputId": "1637200e-a4f2-45a1-effb-a9b58c89849b",
        "colab": {
          "base_uri": "https://localhost:8080/",
          "height": 51
        }
      },
      "cell_type": "code",
      "source": [
        "test_gen = ImageDataGenerator(preprocessing_function=preprocess_input)\n",
        "test_iter = test_gen.flow_from_directory(TEST_DIR, target_size=(150, 150), batch_size=20, class_mode='binary')\n",
        "test_loss, test_acc = model.evaluate_generator(test_iter, steps=50)\n",
        "print(\"test_loss = {}, test_acc = {}\".format(test_loss, test_acc))"
      ],
      "execution_count": 13,
      "outputs": [
        {
          "output_type": "stream",
          "text": [
            "Found 1000 images belonging to 2 classes.\n",
            "test_loss = 0.2668267612508174, test_acc = 0.9659999942779541\n"
          ],
          "name": "stdout"
        }
      ]
    },
    {
      "metadata": {
        "id": "zruLGOrLcftP",
        "colab_type": "code",
        "colab": {}
      },
      "cell_type": "code",
      "source": [
        "model.save('7_pre_trained_fine_tuning.h5')"
      ],
      "execution_count": 0,
      "outputs": []
    }
  ]
}
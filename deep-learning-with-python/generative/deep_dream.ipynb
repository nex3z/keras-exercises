{
 "cells": [
  {
   "cell_type": "code",
   "execution_count": 1,
   "metadata": {},
   "outputs": [
    {
     "name": "stderr",
     "output_type": "stream",
     "text": [
      "Using TensorFlow backend.\n"
     ]
    },
    {
     "name": "stdout",
     "output_type": "stream",
     "text": [
      "WARNING:tensorflow:From d:\\Dev\\Miniconda3\\envs\\tf\\lib\\site-packages\\tensorflow\\python\\framework\\op_def_library.py:263: colocate_with (from tensorflow.python.framework.ops) is deprecated and will be removed in a future version.\n",
      "Instructions for updating:\n",
      "Colocations handled automatically by placer.\n"
     ]
    }
   ],
   "source": [
    "from keras import backend as K\n",
    "from keras.applications import inception_v3\n",
    "\n",
    "K.set_learning_phase(0)\n",
    "model = inception_v3.InceptionV3(weights='imagenet', include_top=False)"
   ]
  },
  {
   "cell_type": "code",
   "execution_count": 2,
   "metadata": {},
   "outputs": [
    {
     "name": "stdout",
     "output_type": "stream",
     "text": [
      "WARNING:tensorflow:Variable += will be deprecated. Use variable.assign_add if you want assignment to the variable value or 'x = x + y' if you want a new python Tensor object.\n"
     ]
    }
   ],
   "source": [
    "layer_dict = dict([(layer.name, layer) for layer in model.layers])\n",
    "\n",
    "layer_contributions = {\n",
    "    'mixed2': 0.2,\n",
    "    'mixed3': 3.,\n",
    "    'mixed4': 2.,\n",
    "    'mixed5': 1.5,\n",
    "}\n",
    "\n",
    "loss = K.variable(0)\n",
    "for layer_name in layer_contributions:\n",
    "    activation = layer_dict[layer_name].output\n",
    "    scaling = K.prod(K.cast(K.shape(activation), 'float32'))\n",
    "    coeff = layer_contributions[layer_name]\n",
    "    loss += coeff * K.sum(K.square(activation[:, 2: -2, 2: -2, :])) / scaling"
   ]
  },
  {
   "cell_type": "code",
   "execution_count": 3,
   "metadata": {},
   "outputs": [],
   "source": [
    "dream = model.input\n",
    "grads = K.gradients(loss, dream)[0]\n",
    "grads /= K.maximum(K.mean(K.abs(grads)), 1e-7)\n",
    "\n",
    "outputs = [loss, grads]\n",
    "fetch_loss_and_grads = K.function([dream], outputs)\n",
    "\n",
    "\n",
    "def eval_loss_and_grads(x):\n",
    "    outs = fetch_loss_and_grads([x])\n",
    "    loss_value = outs[0]\n",
    "    grad_values = outs[1]\n",
    "    return loss_value, grad_values\n",
    "\n",
    "def gradient_ascent(x, iterations, step, max_loss=None):\n",
    "    for i in range(iterations):\n",
    "        loss_value, grad_values = eval_loss_and_grads(x)\n",
    "        if max_loss is not None and loss_value > max_loss:\n",
    "            break\n",
    "        print('...Loss value at', i, ':', loss_value)\n",
    "        x += step * grad_values\n",
    "    return x"
   ]
  },
  {
   "cell_type": "code",
   "execution_count": 4,
   "metadata": {},
   "outputs": [],
   "source": [
    "IMAGE_PATH = \"./input_image.jpg\"\n",
    "NUM_OCTAVE = 3\n",
    "OCTAVE_SCALE = 1.4\n",
    "NUM_ITERATION = 20\n",
    "GRADIENT_STEP = 0.01\n",
    "MAX_LOSS = 10"
   ]
  },
  {
   "cell_type": "code",
   "execution_count": 5,
   "metadata": {},
   "outputs": [],
   "source": [
    "import scipy\n",
    "import numpy as np\n",
    "import matplotlib.pyplot as plt\n",
    "from keras.preprocessing import image\n",
    "\n",
    "def load_image_data(image_path):\n",
    "    img = image.load_img(IMAGE_PATH)\n",
    "    image_data = image.img_to_array(img)\n",
    "    image_data = np.expand_dims(image_data, axis=0)\n",
    "    image_data = inception_v3.preprocess_input(image_data)\n",
    "    return image_data\n",
    "\n",
    "def show_image_data(image_data):\n",
    "    if len(image_data.shape) > 3:\n",
    "        image_data = np.squeeze(image_data, axis=0)\n",
    "    plt.imshow(image_data)\n",
    "    plt.axis('off')\n",
    "    \n",
    "def resize_image_data(image_data, size):\n",
    "    image_data = np.copy(image_data)\n",
    "    factors = (1, float(size[0])/image_data.shape[1], float(size[1])/image_data.shape[2], 1)\n",
    "    return scipy.ndimage.zoom(image_data, factors, order=1)\n",
    "\n",
    "def deprocess_image_data(image_data):\n",
    "    image_data = np.copy(image_data)\n",
    "    if K.image_data_format() == 'channels_first':\n",
    "        image_data = image_data.reshape((3, image_data.shape[2], image_data.shape[3]))\n",
    "        image_data = image_data.transpose((1, 2, 0))\n",
    "    else:\n",
    "        image_data = image_data.reshape((image_data.shape[1], image_data.shape[2], 3))\n",
    "    image_data /= 2.\n",
    "    image_data += 0.5\n",
    "    image_data *= 255.\n",
    "    image_data = np.clip(image_data, 0, 255).astype('uint8')\n",
    "    return image_data\n",
    "\n",
    "def save_image_data(image_data, output_path):\n",
    "    img = deprocess_image_data(image_data)\n",
    "    scipy.misc.imsave(output_path, img)\n",
    "    \n",
    "def compute_resize_loss(image_data, from_size, to_size):\n",
    "    loss_image_data = resize_image_data(image_data, from_size)\n",
    "    loss_image_data = resize_image_data(loss_image_data, to_size)\n",
    "    full_image_data = resize_image_data(image_data, to_size)\n",
    "    return full_image_data - loss_image_data"
   ]
  },
  {
   "cell_type": "code",
   "execution_count": 6,
   "metadata": {},
   "outputs": [
    {
     "name": "stdout",
     "output_type": "stream",
     "text": [
      "original_shape = [ 801 1200]\n",
      "successive_shapes = [array([408, 612]), array([572, 857]), array([ 801, 1200])]\n",
      "shrunked_image_data.shape = (1, 408, 612, 3)\n"
     ]
    }
   ],
   "source": [
    "original_image_data = load_image_data(IMAGE_PATH)\n",
    "\n",
    "original_shape = np.array(original_image_data.shape[1:3])\n",
    "print(\"original_shape = {}\".format(original_shape))\n",
    "successive_shapes = [(original_shape / (OCTAVE_SCALE ** i)).astype(int) for i in reversed(range(NUM_OCTAVE))]\n",
    "print(\"successive_shapes = {}\".format(successive_shapes))\n",
    "\n",
    "dream_image_data = np.copy(original_image_data)\n",
    "shrunked_image_data = resize_image_data(original_image_data, successive_shapes[0])\n",
    "print(\"shrunked_image_data.shape = {}\".format(shrunked_image_data.shape))"
   ]
  },
  {
   "cell_type": "code",
   "execution_count": 7,
   "metadata": {},
   "outputs": [
    {
     "name": "stdout",
     "output_type": "stream",
     "text": [
      "...Loss value at 0 : 1.5979091\n",
      "...Loss value at 1 : 2.0978403\n",
      "...Loss value at 2 : 2.817465\n",
      "...Loss value at 3 : 3.616597\n",
      "...Loss value at 4 : 4.4243116\n",
      "...Loss value at 5 : 5.2047286\n",
      "...Loss value at 6 : 5.9306455\n",
      "...Loss value at 7 : 6.6556473\n",
      "...Loss value at 8 : 7.311224\n",
      "...Loss value at 9 : 7.998535\n",
      "...Loss value at 10 : 8.639427\n",
      "...Loss value at 11 : 9.241897\n",
      "...Loss value at 12 : 9.833142\n"
     ]
    },
    {
     "name": "stderr",
     "output_type": "stream",
     "text": [
      "d:\\Dev\\Miniconda3\\envs\\tf\\lib\\site-packages\\ipykernel_launcher.py:39: DeprecationWarning: `imsave` is deprecated!\n",
      "`imsave` is deprecated in SciPy 1.0.0, and will be removed in 1.2.0.\n",
      "Use ``imageio.imwrite`` instead.\n"
     ]
    },
    {
     "name": "stdout",
     "output_type": "stream",
     "text": [
      "...Loss value at 0 : 3.2120316\n",
      "...Loss value at 1 : 4.525763\n",
      "...Loss value at 2 : 5.6131287\n",
      "...Loss value at 3 : 6.5748224\n",
      "...Loss value at 4 : 7.482852\n",
      "...Loss value at 5 : 8.339045\n",
      "...Loss value at 6 : 9.135899\n",
      "...Loss value at 7 : 9.883201\n"
     ]
    },
    {
     "name": "stderr",
     "output_type": "stream",
     "text": [
      "d:\\Dev\\Miniconda3\\envs\\tf\\lib\\site-packages\\scipy\\ndimage\\interpolation.py:605: UserWarning: From scipy 0.13.0, the output shape of zoom() is calculated with round() instead of int() - for these inputs the size of the returned array has changed.\n",
      "  \"the returned array has changed.\", UserWarning)\n"
     ]
    },
    {
     "name": "stdout",
     "output_type": "stream",
     "text": [
      "...Loss value at 0 : 3.2564037\n",
      "...Loss value at 1 : 4.5050454\n",
      "...Loss value at 2 : 5.5751963\n",
      "...Loss value at 3 : 6.5531178\n",
      "...Loss value at 4 : 7.4827113\n",
      "...Loss value at 5 : 8.357246\n",
      "...Loss value at 6 : 9.192659\n",
      "...Loss value at 7 : 9.977142\n"
     ]
    }
   ],
   "source": [
    "for i, shape in enumerate(successive_shapes):\n",
    "    dream_image_data = resize_image_data(dream_image_data, shape)\n",
    "    dream_image_data = gradient_ascent(dream_image_data, NUM_ITERATION, GRADIENT_STEP, MAX_LOSS)\n",
    "    if i > 0:\n",
    "        resize_loss = compute_resize_loss(original_image_data, successive_shapes[i-1], shape)\n",
    "        dream_image_data += resize_loss\n",
    "    save_image_data(dream_image_data, \"dream_{}x{}.png\".format(shape[0], shape[1]))"
   ]
  }
 ],
 "metadata": {
  "kernelspec": {
   "display_name": "Python 3",
   "language": "python",
   "name": "python3"
  },
  "language_info": {
   "codemirror_mode": {
    "name": "ipython",
    "version": 3
   },
   "file_extension": ".py",
   "mimetype": "text/x-python",
   "name": "python",
   "nbconvert_exporter": "python",
   "pygments_lexer": "ipython3",
   "version": "3.7.3"
  }
 },
 "nbformat": 4,
 "nbformat_minor": 4
}

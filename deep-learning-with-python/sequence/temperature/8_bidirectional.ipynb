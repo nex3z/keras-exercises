{
 "cells": [
  {
   "cell_type": "code",
   "execution_count": 0,
   "metadata": {
    "colab": {
     "base_uri": "https://localhost:8080/",
     "height": 34
    },
    "colab_type": "code",
    "id": "tX6rLCW5RK8c",
    "outputId": "27263206-928e-4404-b741-65d73d7e115c"
   },
   "outputs": [
    {
     "name": "stderr",
     "output_type": "stream",
     "text": [
      "Using TensorFlow backend.\n"
     ]
    }
   ],
   "source": [
    "from keras.models import Sequential\n",
    "from keras.layers import Bidirectional, GRU, Dense\n",
    "from JenaClimate import JenaClimate\n",
    "from plot_util import plot_history"
   ]
  },
  {
   "cell_type": "code",
   "execution_count": 0,
   "metadata": {
    "colab": {},
    "colab_type": "code",
    "id": "10LHmv4FfxOP"
   },
   "outputs": [],
   "source": [
    "jena_climate = JenaClimate()\n",
    "train_gen, val_gen, test_gen = jena_climate.build_generator()"
   ]
  },
  {
   "cell_type": "code",
   "execution_count": 0,
   "metadata": {
    "colab": {
     "base_uri": "https://localhost:8080/",
     "height": 88
    },
    "colab_type": "code",
    "id": "VF1RqWVtRTpQ",
    "outputId": "8b2fe211-96b6-488c-b4ba-5fbd6846e5a5"
   },
   "outputs": [
    {
     "name": "stdout",
     "output_type": "stream",
     "text": [
      "WARNING:tensorflow:From /usr/local/lib/python3.6/dist-packages/tensorflow/python/framework/op_def_library.py:263: colocate_with (from tensorflow.python.framework.ops) is deprecated and will be removed in a future version.\n",
      "Instructions for updating:\n",
      "Colocations handled automatically by placer.\n"
     ]
    }
   ],
   "source": [
    "model = Sequential()\n",
    "model.add(Bidirectional(GRU(32), input_shape=(None, 14)))\n",
    "model.add(Dense(1))\n",
    "\n",
    "model.compile(optimizer='rmsprop', loss='mae')"
   ]
  },
  {
   "cell_type": "code",
   "execution_count": 0,
   "metadata": {
    "colab": {
     "base_uri": "https://localhost:8080/",
     "height": 768
    },
    "colab_type": "code",
    "id": "Sr0H-wLlfula",
    "outputId": "5bbf5f88-6fc0-4b56-d4c4-e1d254793b11"
   },
   "outputs": [
    {
     "name": "stdout",
     "output_type": "stream",
     "text": [
      "WARNING:tensorflow:From /usr/local/lib/python3.6/dist-packages/tensorflow/python/ops/math_ops.py:3066: to_int32 (from tensorflow.python.ops.math_ops) is deprecated and will be removed in a future version.\n",
      "Instructions for updating:\n",
      "Use tf.cast instead.\n",
      "Epoch 1/20\n",
      "500/500 [==============================] - 307s 614ms/step - loss: 0.2913 - val_loss: 0.2721\n",
      "Epoch 2/20\n",
      "500/500 [==============================] - 304s 608ms/step - loss: 0.2724 - val_loss: 0.2696\n",
      "Epoch 3/20\n",
      "500/500 [==============================] - 303s 605ms/step - loss: 0.2663 - val_loss: 0.2705\n",
      "Epoch 4/20\n",
      "500/500 [==============================] - 301s 602ms/step - loss: 0.2604 - val_loss: 0.2767\n",
      "Epoch 5/20\n",
      "500/500 [==============================] - 302s 605ms/step - loss: 0.2520 - val_loss: 0.2692\n",
      "Epoch 6/20\n",
      "500/500 [==============================] - 302s 604ms/step - loss: 0.2474 - val_loss: 0.2715\n",
      "Epoch 7/20\n",
      "500/500 [==============================] - 303s 605ms/step - loss: 0.2413 - val_loss: 0.2739\n",
      "Epoch 8/20\n",
      "500/500 [==============================] - 305s 610ms/step - loss: 0.2341 - val_loss: 0.2785\n",
      "Epoch 9/20\n",
      "500/500 [==============================] - 306s 612ms/step - loss: 0.2283 - val_loss: 0.2830\n",
      "Epoch 10/20\n",
      "500/500 [==============================] - 301s 603ms/step - loss: 0.2222 - val_loss: 0.2867\n",
      "Epoch 11/20\n",
      "500/500 [==============================] - 304s 607ms/step - loss: 0.2165 - val_loss: 0.2939\n",
      "Epoch 12/20\n",
      "500/500 [==============================] - 304s 607ms/step - loss: 0.2106 - val_loss: 0.2958\n",
      "Epoch 13/20\n",
      "500/500 [==============================] - 309s 618ms/step - loss: 0.2043 - val_loss: 0.2980\n",
      "Epoch 14/20\n",
      "500/500 [==============================] - 301s 603ms/step - loss: 0.1991 - val_loss: 0.3011\n",
      "Epoch 15/20\n",
      "500/500 [==============================] - 303s 606ms/step - loss: 0.1945 - val_loss: 0.3041\n",
      "Epoch 16/20\n",
      "500/500 [==============================] - 303s 606ms/step - loss: 0.1901 - val_loss: 0.3099\n",
      "Epoch 17/20\n",
      "500/500 [==============================] - 304s 609ms/step - loss: 0.1870 - val_loss: 0.3111\n",
      "Epoch 18/20\n",
      "500/500 [==============================] - 303s 605ms/step - loss: 0.1825 - val_loss: 0.3141\n",
      "Epoch 19/20\n",
      "500/500 [==============================] - 302s 604ms/step - loss: 0.1787 - val_loss: 0.3112\n",
      "Epoch 20/20\n",
      "500/500 [==============================] - 304s 609ms/step - loss: 0.1769 - val_loss: 0.3162\n"
     ]
    }
   ],
   "source": [
    "history = model.fit_generator(\n",
    "    train_gen, steps_per_epoch=500, epochs=20, \n",
    "    validation_data=val_gen, validation_steps=jena_climate.val_steps\n",
    ")"
   ]
  },
  {
   "cell_type": "code",
   "execution_count": 0,
   "metadata": {
    "colab": {
     "base_uri": "https://localhost:8080/",
     "height": 283
    },
    "colab_type": "code",
    "id": "l5qAGqAZf-eh",
    "outputId": "0ff6c9e6-bfa0-40c8-cbbb-06b41ded313e"
   },
   "outputs": [
    {
     "data": {
      "image/png": "[encoded data removed]",
      "text/plain": [
       "<Figure size 432x288 with 1 Axes>"
      ]
     },
     "metadata": {
      "tags": []
     },
     "output_type": "display_data"
    }
   ],
   "source": [
    "plot_history(history, metrics=['loss'])"
   ]
  }
 ],
 "metadata": {
  "accelerator": "GPU",
  "colab": {
   "collapsed_sections": [],
   "name": "8_bidirectional.ipynb",
   "provenance": [],
   "version": "0.3.2"
  },
  "kernelspec": {
   "display_name": "Python 3",
   "language": "python",
   "name": "python3"
  },
  "language_info": {
   "codemirror_mode": {
    "name": "ipython",
    "version": 3
   },
   "file_extension": ".py",
   "mimetype": "text/x-python",
   "name": "python",
   "nbconvert_exporter": "python",
   "pygments_lexer": "ipython3",
   "version": "3.6.8"
  }
 },
 "nbformat": 4,
 "nbformat_minor": 1
}

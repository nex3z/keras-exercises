{
  "nbformat": 4,
  "nbformat_minor": 0,
  "metadata": {
    "colab": {
      "name": "7_stacked_gru.ipynb",
      "version": "0.3.2",
      "provenance": [],
      "collapsed_sections": []
    },
    "language_info": {
      "codemirror_mode": {
        "name": "ipython",
        "version": 3
      },
      "file_extension": ".py",
      "mimetype": "text/x-python",
      "name": "python",
      "nbconvert_exporter": "python",
      "pygments_lexer": "ipython3",
      "version": "3.6.8"
    },
    "kernelspec": {
      "display_name": "Python 3",
      "language": "python",
      "name": "python3"
    },
    "accelerator": "GPU"
  },
  "cells": [
    {
      "metadata": {
        "colab_type": "code",
        "id": "kYWmNmlaFk0B",
        "outputId": "81d5ac37-2b28-4e8e-f405-d222e330ebee",
        "colab": {
          "base_uri": "https://localhost:8080/",
          "height": 34
        }
      },
      "cell_type": "code",
      "source": [
        "from keras.models import Sequential\n",
        "from keras.layers import GRU, Dense\n",
        "from JenaClimate import JenaClimate\n",
        "from plot_util import plot_history"
      ],
      "execution_count": 0,
      "outputs": [
        {
          "output_type": "stream",
          "text": [
            "Using TensorFlow backend.\n"
          ],
          "name": "stderr"
        }
      ]
    },
    {
      "metadata": {
        "colab_type": "code",
        "id": "9E3VALOFKPc1",
        "colab": {}
      },
      "cell_type": "code",
      "source": [
        "jena_climate = JenaClimate()\n",
        "train_gen, val_gen, test_gen = jena_climate.build_generator()"
      ],
      "execution_count": 0,
      "outputs": []
    },
    {
      "metadata": {
        "colab_type": "code",
        "id": "Pg5zdIiFItgo",
        "outputId": "4a570db8-4cb7-4ea9-cb16-e6278da38f6b",
        "colab": {
          "base_uri": "https://localhost:8080/",
          "height": 139
        }
      },
      "cell_type": "code",
      "source": [
        "model = Sequential()\n",
        "model.add(GRU(32, dropout=0.1, recurrent_dropout=0.5, return_sequences=True, input_shape=(None, 14)))\n",
        "model.add(GRU(64, activation='relu', dropout=0.1, recurrent_dropout=0.5))\n",
        "model.add(Dense(1))\n",
        "\n",
        "model.compile(optimizer='rmsprop', loss='mae')"
      ],
      "execution_count": 0,
      "outputs": [
        {
          "output_type": "stream",
          "text": [
            "WARNING:tensorflow:From /usr/local/lib/python3.6/dist-packages/tensorflow/python/framework/op_def_library.py:263: colocate_with (from tensorflow.python.framework.ops) is deprecated and will be removed in a future version.\n",
            "Instructions for updating:\n",
            "Colocations handled automatically by placer.\n",
            "WARNING:tensorflow:From /usr/local/lib/python3.6/dist-packages/keras/backend/tensorflow_backend.py:3445: calling dropout (from tensorflow.python.ops.nn_ops) with keep_prob is deprecated and will be removed in a future version.\n",
            "Instructions for updating:\n",
            "Please use `rate` instead of `keep_prob`. Rate should be set to `rate = 1 - keep_prob`.\n"
          ],
          "name": "stdout"
        }
      ]
    },
    {
      "metadata": {
        "colab_type": "code",
        "id": "sNY77X5XJK5q",
        "outputId": "8d020309-1ba6-4a31-f02a-13f10ec066e1",
        "colab": {
          "base_uri": "https://localhost:8080/",
          "height": 768
        }
      },
      "cell_type": "code",
      "source": [
        "history = model.fit_generator(\n",
        "    train_gen, steps_per_epoch=500, epochs=20, \n",
        "    validation_data=val_gen, validation_steps=jena_climate.val_steps\n",
        ")"
      ],
      "execution_count": 0,
      "outputs": [
        {
          "output_type": "stream",
          "text": [
            "WARNING:tensorflow:From /usr/local/lib/python3.6/dist-packages/tensorflow/python/ops/math_ops.py:3066: to_int32 (from tensorflow.python.ops.math_ops) is deprecated and will be removed in a future version.\n",
            "Instructions for updating:\n",
            "Use tf.cast instead.\n",
            "Epoch 1/20\n",
            "500/500 [==============================] - 359s 718ms/step - loss: 0.3356 - val_loss: 0.2784\n",
            "Epoch 2/20\n",
            "500/500 [==============================] - 356s 711ms/step - loss: 0.3159 - val_loss: 0.2724\n",
            "Epoch 3/20\n",
            "500/500 [==============================] - 354s 707ms/step - loss: 0.3065 - val_loss: 0.2692\n",
            "Epoch 4/20\n",
            "500/500 [==============================] - 354s 709ms/step - loss: 0.2998 - val_loss: 0.2724\n",
            "Epoch 5/20\n",
            "500/500 [==============================] - 352s 704ms/step - loss: 0.2977 - val_loss: 0.2651\n",
            "Epoch 6/20\n",
            "500/500 [==============================] - 356s 711ms/step - loss: 0.2971 - val_loss: 0.2673\n",
            "Epoch 7/20\n",
            "500/500 [==============================] - 354s 708ms/step - loss: 0.2913 - val_loss: 0.2702\n",
            "Epoch 8/20\n",
            "500/500 [==============================] - 352s 705ms/step - loss: 0.2889 - val_loss: 0.2677\n",
            "Epoch 9/20\n",
            "500/500 [==============================] - 352s 704ms/step - loss: 0.2871 - val_loss: 0.2670\n",
            "Epoch 10/20\n",
            "500/500 [==============================] - 352s 704ms/step - loss: 0.2847 - val_loss: 0.2630\n",
            "Epoch 11/20\n",
            "500/500 [==============================] - 353s 707ms/step - loss: 0.2834 - val_loss: 0.2667\n",
            "Epoch 12/20\n",
            "500/500 [==============================] - 355s 710ms/step - loss: 0.2799 - val_loss: 0.2690\n",
            "Epoch 13/20\n",
            "500/500 [==============================] - 352s 704ms/step - loss: 0.2795 - val_loss: 0.2689\n",
            "Epoch 14/20\n",
            "500/500 [==============================] - 354s 708ms/step - loss: 0.2777 - val_loss: 0.2632\n",
            "Epoch 15/20\n",
            "500/500 [==============================] - 351s 701ms/step - loss: 0.2770 - val_loss: 0.2645\n",
            "Epoch 16/20\n",
            "500/500 [==============================] - 352s 703ms/step - loss: 0.2737 - val_loss: 0.2626\n",
            "Epoch 17/20\n",
            "500/500 [==============================] - 353s 706ms/step - loss: 0.2733 - val_loss: 0.2637\n",
            "Epoch 18/20\n",
            "500/500 [==============================] - 352s 704ms/step - loss: 0.2708 - val_loss: 0.2650\n",
            "Epoch 19/20\n",
            "500/500 [==============================] - 351s 702ms/step - loss: 0.2709 - val_loss: 0.2651\n",
            "Epoch 20/20\n",
            "500/500 [==============================] - 354s 708ms/step - loss: 0.2692 - val_loss: 0.2617\n"
          ],
          "name": "stdout"
        }
      ]
    },
    {
      "metadata": {
        "colab_type": "code",
        "id": "v9DaHPMOKemt",
        "outputId": "3c3f59b1-f7ff-4157-e43f-f0a6143bc72f",
        "colab": {
          "base_uri": "https://localhost:8080/",
          "height": 283
        }
      },
      "cell_type": "code",
      "source": [
        "plot_history(history, metrics=['loss'])"
      ],
      "execution_count": 0,
      "outputs": [
        {
          "output_type": "display_data",
          "data": {
            "image/png": "[encoded data removed]",
            "text/plain": [
              "<Figure size 432x288 with 1 Axes>"
            ]
          },
          "metadata": {
            "tags": []
          }
        }
      ]
    }
  ]
}
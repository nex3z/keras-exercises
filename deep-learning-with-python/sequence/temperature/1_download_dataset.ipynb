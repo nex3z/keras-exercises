{
 "cells": [
  {
   "cell_type": "code",
   "execution_count": null,
   "metadata": {
    "colab": {},
    "colab_type": "code",
    "id": "ccHSKIgLL2Rx"
   },
   "outputs": [],
   "source": [
    "import os, urllib.request, zipfile"
   ]
  },
  {
   "cell_type": "code",
   "execution_count": null,
   "metadata": {
    "colab": {},
    "colab_type": "code",
    "id": "9j2n7nX1L2R1"
   },
   "outputs": [],
   "source": [
    "DOWNLOAD_URL = 'https://s3.amazonaws.com/keras-datasets/jena_climate_2009_2016.csv.zip'\n",
    "DATA_DIR = './data'\n",
    "ZIP_PATH = os.path.join(DATA_DIR, os.path.basename(DOWNLOAD_URL))\n",
    "FILE_PATH = ZIP_PATH[:-4]"
   ]
  },
  {
   "cell_type": "code",
   "execution_count": null,
   "metadata": {
    "colab": {},
    "colab_type": "code",
    "id": "sXMCC3XQL2R4"
   },
   "outputs": [],
   "source": [
    "if not os.path.isfile(FILE_PATH):\n",
    "    if not os.path.isdir(DATA_DIR):\n",
    "        os.mkdir(DATA_DIR)\n",
    "\n",
    "    if not os.path.isfile(ZIP_PATH):\n",
    "        urllib.request.urlretrieve(DOWNLOAD_URL, ZIP_PATH)\n",
    "\n",
    "    zip_file = zipfile.ZipFile(ZIP_PATH, 'r')\n",
    "    zip_file.extractall(DATA_DIR)\n",
    "    zip_file.close()"
   ]
  }
 ],
 "metadata": {
  "accelerator": "GPU",
  "colab": {
   "collapsed_sections": [],
   "name": "1_build_dataset.ipynb",
   "private_outputs": true,
   "provenance": [],
   "version": "0.3.2"
  },
  "kernelspec": {
   "display_name": "Python 3",
   "language": "python",
   "name": "python3"
  },
  "language_info": {
   "codemirror_mode": {
    "name": "ipython",
    "version": 3
   },
   "file_extension": ".py",
   "mimetype": "text/x-python",
   "name": "python",
   "nbconvert_exporter": "python",
   "pygments_lexer": "ipython3",
   "version": "3.6.8"
  }
 },
 "nbformat": 4,
 "nbformat_minor": 1
}

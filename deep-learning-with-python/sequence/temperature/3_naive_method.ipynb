{
 "cells": [
  {
   "cell_type": "code",
   "execution_count": 1,
   "metadata": {
    "colab": {},
    "colab_type": "code",
    "id": "ruEG9hkLEg8Q"
   },
   "outputs": [],
   "source": [
    "import numpy as np\n",
    "from JenaClimate import JenaClimate"
   ]
  },
  {
   "cell_type": "code",
   "execution_count": 2,
   "metadata": {
    "colab": {},
    "colab_type": "code",
    "id": "JDEA4i7fEg8V"
   },
   "outputs": [],
   "source": [
    "jena_climate = JenaClimate()\n",
    "train_gen, val_gen, test_gen = jena_climate.build_generator()"
   ]
  },
  {
   "cell_type": "code",
   "execution_count": 3,
   "metadata": {
    "colab": {},
    "colab_type": "code",
    "id": "QshpairIEg8a"
   },
   "outputs": [],
   "source": [
    "batch_maes = []\n",
    "for step in range(jena_climate.val_steps):\n",
    "    samples, targets = next(val_gen)\n",
    "    preds = samples[:, -1, 1]\n",
    "    mae = np.mean(np.abs(preds - targets))\n",
    "    batch_maes.append(mae)"
   ]
  },
  {
   "cell_type": "code",
   "execution_count": 4,
   "metadata": {
    "colab": {
     "base_uri": "https://localhost:8080/",
     "height": 34
    },
    "colab_type": "code",
    "executionInfo": {
     "elapsed": 7030,
     "status": "ok",
     "timestamp": 1556440427836,
     "user": {
      "displayName": "Tx Li",
      "photoUrl": "https://lh4.googleusercontent.com/-ylRQzkZBGw4/AAAAAAAAAAI/AAAAAAAAAIc/U_cuUeU9rME/s64/photo.jpg",
      "userId": "07635813893329817116"
     },
     "user_tz": -480
    },
    "id": "f3vAbfmDEg8c",
    "outputId": "eb1dc802-cf66-4aea-f609-048e4659fb15",
    "scrolled": true
   },
   "outputs": [
    {
     "data": {
      "text/plain": [
       "0.2897530439004582"
      ]
     },
     "execution_count": 4,
     "metadata": {},
     "output_type": "execute_result"
    }
   ],
   "source": [
    "np.mean(batch_maes)"
   ]
  }
 ],
 "metadata": {
  "accelerator": "GPU",
  "colab": {
   "collapsed_sections": [],
   "name": "3_navie_method.ipynb",
   "provenance": [],
   "version": "0.3.2"
  },
  "kernelspec": {
   "display_name": "Python 3",
   "language": "python",
   "name": "python3"
  },
  "language_info": {
   "codemirror_mode": {
    "name": "ipython",
    "version": 3
   },
   "file_extension": ".py",
   "mimetype": "text/x-python",
   "name": "python",
   "nbconvert_exporter": "python",
   "pygments_lexer": "ipython3",
   "version": "3.6.8"
  }
 },
 "nbformat": 4,
 "nbformat_minor": 1
}

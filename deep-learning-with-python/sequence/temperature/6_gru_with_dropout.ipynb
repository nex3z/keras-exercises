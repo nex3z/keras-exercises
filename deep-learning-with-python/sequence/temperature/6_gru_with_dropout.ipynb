{
 "cells": [
  {
   "cell_type": "code",
   "execution_count": 1,
   "metadata": {
    "colab": {
     "base_uri": "https://localhost:8080/",
     "height": 34
    },
    "colab_type": "code",
    "executionInfo": {
     "elapsed": 3132,
     "status": "ok",
     "timestamp": 1556442279929,
     "user": {
      "displayName": "Tx Li",
      "photoUrl": "https://lh4.googleusercontent.com/-ylRQzkZBGw4/AAAAAAAAAAI/AAAAAAAAAIc/U_cuUeU9rME/s64/photo.jpg",
      "userId": "07635813893329817116"
     },
     "user_tz": -480
    },
    "id": "kYWmNmlaFk0B",
    "outputId": "0b627bb4-8633-4a73-dd88-44187f8f00ce"
   },
   "outputs": [
    {
     "name": "stderr",
     "output_type": "stream",
     "text": [
      "Using TensorFlow backend.\n"
     ]
    }
   ],
   "source": [
    "from keras.models import Sequential\n",
    "from keras.layers import GRU, Dense\n",
    "from keras.optimizers import RMSprop\n",
    "from JenaClimate import JenaClimate\n",
    "from plot_util import plot_history"
   ]
  },
  {
   "cell_type": "code",
   "execution_count": 2,
   "metadata": {
    "colab": {},
    "colab_type": "code",
    "id": "9E3VALOFKPc1"
   },
   "outputs": [],
   "source": [
    "jena_climate = JenaClimate()\n",
    "train_gen, val_gen, test_gen = jena_climate.build_generator()"
   ]
  },
  {
   "cell_type": "code",
   "execution_count": 3,
   "metadata": {
    "colab": {
     "base_uri": "https://localhost:8080/",
     "height": 139
    },
    "colab_type": "code",
    "executionInfo": {
     "elapsed": 5533,
     "status": "ok",
     "timestamp": 1556442282353,
     "user": {
      "displayName": "Tx Li",
      "photoUrl": "https://lh4.googleusercontent.com/-ylRQzkZBGw4/AAAAAAAAAAI/AAAAAAAAAIc/U_cuUeU9rME/s64/photo.jpg",
      "userId": "07635813893329817116"
     },
     "user_tz": -480
    },
    "id": "Pg5zdIiFItgo",
    "outputId": "5a0882bc-26ab-493b-dc56-a43adcb9ee19"
   },
   "outputs": [
    {
     "name": "stdout",
     "output_type": "stream",
     "text": [
      "WARNING:tensorflow:From /home/nex3z/dev/miniconda3/envs/tf/lib/python3.6/site-packages/tensorflow/python/framework/op_def_library.py:263: colocate_with (from tensorflow.python.framework.ops) is deprecated and will be removed in a future version.\n",
      "Instructions for updating:\n",
      "Colocations handled automatically by placer.\n",
      "WARNING:tensorflow:From /home/nex3z/dev/miniconda3/envs/tf/lib/python3.6/site-packages/keras/backend/tensorflow_backend.py:3445: calling dropout (from tensorflow.python.ops.nn_ops) with keep_prob is deprecated and will be removed in a future version.\n",
      "Instructions for updating:\n",
      "Please use `rate` instead of `keep_prob`. Rate should be set to `rate = 1 - keep_prob`.\n"
     ]
    }
   ],
   "source": [
    "model = Sequential()\n",
    "model.add(GRU(32, dropout=0.2, recurrent_dropout=0.2, input_shape=(None, 14)))\n",
    "model.add(Dense(1))\n",
    "\n",
    "model.compile(optimizer='rmsprop', loss='mae')"
   ]
  },
  {
   "cell_type": "code",
   "execution_count": 4,
   "metadata": {
    "colab": {
     "base_uri": "https://localhost:8080/",
     "height": 463
    },
    "colab_type": "code",
    "executionInfo": {
     "elapsed": 58428,
     "status": "error",
     "timestamp": 1556442335267,
     "user": {
      "displayName": "Tx Li",
      "photoUrl": "https://lh4.googleusercontent.com/-ylRQzkZBGw4/AAAAAAAAAAI/AAAAAAAAAIc/U_cuUeU9rME/s64/photo.jpg",
      "userId": "07635813893329817116"
     },
     "user_tz": -480
    },
    "id": "sNY77X5XJK5q",
    "outputId": "f34c0dd9-48ad-4d86-f93c-b6e733d31f30"
   },
   "outputs": [
    {
     "name": "stdout",
     "output_type": "stream",
     "text": [
      "WARNING:tensorflow:From /home/nex3z/dev/miniconda3/envs/tf/lib/python3.6/site-packages/tensorflow/python/ops/math_ops.py:3066: to_int32 (from tensorflow.python.ops.math_ops) is deprecated and will be removed in a future version.\n",
      "Instructions for updating:\n",
      "Use tf.cast instead.\n",
      "Epoch 1/20\n",
      " - 129s - loss: 0.3380 - val_loss: 0.2758\n",
      "Epoch 2/20\n",
      " - 120s - loss: 0.3169 - val_loss: 0.2715\n",
      "Epoch 3/20\n",
      " - 120s - loss: 0.3080 - val_loss: 0.2693\n",
      "Epoch 4/20\n",
      " - 120s - loss: 0.3024 - val_loss: 0.2683\n",
      "Epoch 5/20\n",
      " - 120s - loss: 0.3002 - val_loss: 0.2655\n",
      "Epoch 6/20\n",
      " - 120s - loss: 0.2982 - val_loss: 0.2716\n",
      "Epoch 7/20\n",
      " - 120s - loss: 0.2969 - val_loss: 0.2635\n",
      "Epoch 8/20\n",
      " - 120s - loss: 0.2957 - val_loss: 0.2636\n",
      "Epoch 9/20\n",
      " - 120s - loss: 0.2921 - val_loss: 0.2639\n",
      "Epoch 10/20\n",
      " - 120s - loss: 0.2911 - val_loss: 0.2715\n",
      "Epoch 11/20\n",
      " - 120s - loss: 0.2897 - val_loss: 0.2639\n",
      "Epoch 12/20\n",
      " - 120s - loss: 0.2883 - val_loss: 0.2640\n",
      "Epoch 13/20\n",
      " - 120s - loss: 0.2883 - val_loss: 0.2619\n",
      "Epoch 14/20\n",
      " - 121s - loss: 0.2850 - val_loss: 0.2693\n",
      "Epoch 15/20\n",
      " - 120s - loss: 0.2843 - val_loss: 0.2679\n",
      "Epoch 16/20\n",
      " - 120s - loss: 0.2848 - val_loss: 0.2683\n",
      "Epoch 17/20\n",
      " - 120s - loss: 0.2835 - val_loss: 0.2637\n",
      "Epoch 18/20\n",
      " - 121s - loss: 0.2840 - val_loss: 0.2631\n",
      "Epoch 19/20\n",
      " - 120s - loss: 0.2809 - val_loss: 0.2670\n",
      "Epoch 20/20\n",
      " - 120s - loss: 0.2812 - val_loss: 0.2641\n"
     ]
    }
   ],
   "source": [
    "history = model.fit_generator(\n",
    "    train_gen, steps_per_epoch=500, epochs=20, \n",
    "    validation_data=val_gen, validation_steps=jena_climate.val_steps,\n",
    "    verbose=2\n",
    ")"
   ]
  },
  {
   "cell_type": "code",
   "execution_count": 5,
   "metadata": {
    "colab": {},
    "colab_type": "code",
    "id": "v9DaHPMOKemt"
   },
   "outputs": [
    {
     "data": {
      "image/png": "[encoded data removed]",
      "text/plain": [
       "<Figure size 432x288 with 1 Axes>"
      ]
     },
     "metadata": {
      "needs_background": "light"
     },
     "output_type": "display_data"
    }
   ],
   "source": [
    "plot_history(history, metrics=['loss'])"
   ]
  }
 ],
 "metadata": {
  "accelerator": "GPU",
  "colab": {
   "collapsed_sections": [],
   "name": "6_gru_with_dropout.ipynb",
   "provenance": [
    {
     "file_id": "1cLBCgRCLcIjvHjUUdMoH7hJctFp4Odhi",
     "timestamp": 1556441955833
    }
   ],
   "version": "0.3.2"
  },
  "kernelspec": {
   "display_name": "Python 3",
   "language": "python",
   "name": "python3"
  },
  "language_info": {
   "codemirror_mode": {
    "name": "ipython",
    "version": 3
   },
   "file_extension": ".py",
   "mimetype": "text/x-python",
   "name": "python",
   "nbconvert_exporter": "python",
   "pygments_lexer": "ipython3",
   "version": "3.6.8"
  }
 },
 "nbformat": 4,
 "nbformat_minor": 1
}

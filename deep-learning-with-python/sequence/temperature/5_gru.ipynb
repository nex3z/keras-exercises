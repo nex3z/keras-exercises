{
 "cells": [
  {
   "cell_type": "code",
   "execution_count": 1,
   "metadata": {
    "colab": {
     "base_uri": "https://localhost:8080/",
     "height": 34
    },
    "colab_type": "code",
    "executionInfo": {
     "elapsed": 2205,
     "status": "ok",
     "timestamp": 1556442093514,
     "user": {
      "displayName": "Tx Li",
      "photoUrl": "https://lh4.googleusercontent.com/-ylRQzkZBGw4/AAAAAAAAAAI/AAAAAAAAAIc/U_cuUeU9rME/s64/photo.jpg",
      "userId": "07635813893329817116"
     },
     "user_tz": -480
    },
    "id": "kYWmNmlaFk0B",
    "outputId": "1ee91c03-bd0f-4293-ef9f-abd30db75b6d"
   },
   "outputs": [
    {
     "name": "stderr",
     "output_type": "stream",
     "text": [
      "Using TensorFlow backend.\n"
     ]
    }
   ],
   "source": [
    "from keras.models import Sequential\n",
    "from keras.layers import GRU, Dense\n",
    "from keras.optimizers import RMSprop\n",
    "from JenaClimate import JenaClimate\n",
    "from plot_util import plot_history"
   ]
  },
  {
   "cell_type": "code",
   "execution_count": 2,
   "metadata": {
    "colab": {},
    "colab_type": "code",
    "id": "9E3VALOFKPc1"
   },
   "outputs": [],
   "source": [
    "jena_climate = JenaClimate()\n",
    "train_gen, val_gen, test_gen = jena_climate.build_generator()"
   ]
  },
  {
   "cell_type": "code",
   "execution_count": 3,
   "metadata": {
    "colab": {
     "base_uri": "https://localhost:8080/",
     "height": 88
    },
    "colab_type": "code",
    "executionInfo": {
     "elapsed": 3209,
     "status": "ok",
     "timestamp": 1556442094632,
     "user": {
      "displayName": "Tx Li",
      "photoUrl": "https://lh4.googleusercontent.com/-ylRQzkZBGw4/AAAAAAAAAAI/AAAAAAAAAIc/U_cuUeU9rME/s64/photo.jpg",
      "userId": "07635813893329817116"
     },
     "user_tz": -480
    },
    "id": "Pg5zdIiFItgo",
    "outputId": "33197e4a-853c-4314-f30a-7586e83ddea0"
   },
   "outputs": [
    {
     "name": "stdout",
     "output_type": "stream",
     "text": [
      "WARNING:tensorflow:From /home/nex3z/dev/miniconda3/envs/tf/lib/python3.6/site-packages/tensorflow/python/framework/op_def_library.py:263: colocate_with (from tensorflow.python.framework.ops) is deprecated and will be removed in a future version.\n",
      "Instructions for updating:\n",
      "Colocations handled automatically by placer.\n"
     ]
    }
   ],
   "source": [
    "model = Sequential()\n",
    "model.add(GRU(32, input_shape=(None, 14)))\n",
    "model.add(Dense(1))\n",
    "\n",
    "model.compile(optimizer='rmsprop', loss='mae')"
   ]
  },
  {
   "cell_type": "code",
   "execution_count": 4,
   "metadata": {
    "colab": {
     "base_uri": "https://localhost:8080/",
     "height": 768
    },
    "colab_type": "code",
    "executionInfo": {
     "elapsed": 3082195,
     "status": "ok",
     "timestamp": 1556445173688,
     "user": {
      "displayName": "Tx Li",
      "photoUrl": "https://lh4.googleusercontent.com/-ylRQzkZBGw4/AAAAAAAAAAI/AAAAAAAAAIc/U_cuUeU9rME/s64/photo.jpg",
      "userId": "07635813893329817116"
     },
     "user_tz": -480
    },
    "id": "sNY77X5XJK5q",
    "outputId": "bb8773c5-d758-4fd1-985f-db4d913a00bc",
    "scrolled": false
   },
   "outputs": [
    {
     "name": "stdout",
     "output_type": "stream",
     "text": [
      "WARNING:tensorflow:From /home/nex3z/dev/miniconda3/envs/tf/lib/python3.6/site-packages/tensorflow/python/ops/math_ops.py:3066: to_int32 (from tensorflow.python.ops.math_ops) is deprecated and will be removed in a future version.\n",
      "Instructions for updating:\n",
      "Use tf.cast instead.\n",
      "Epoch 1/20\n",
      " - 100s - loss: 0.3080 - val_loss: 0.2742\n",
      "Epoch 2/20\n",
      " - 99s - loss: 0.2851 - val_loss: 0.2715\n",
      "Epoch 3/20\n",
      " - 99s - loss: 0.2760 - val_loss: 0.2629\n",
      "Epoch 4/20\n",
      " - 100s - loss: 0.2716 - val_loss: 0.2600\n",
      "Epoch 5/20\n",
      " - 99s - loss: 0.2668 - val_loss: 0.2624\n",
      "Epoch 6/20\n",
      " - 100s - loss: 0.2611 - val_loss: 0.2644\n",
      "Epoch 7/20\n",
      " - 101s - loss: 0.2567 - val_loss: 0.2652\n",
      "Epoch 8/20\n",
      " - 100s - loss: 0.2534 - val_loss: 0.2682\n",
      "Epoch 9/20\n",
      " - 100s - loss: 0.2500 - val_loss: 0.2703\n",
      "Epoch 10/20\n",
      " - 100s - loss: 0.2467 - val_loss: 0.2812\n",
      "Epoch 11/20\n",
      " - 101s - loss: 0.2391 - val_loss: 0.2716\n",
      "Epoch 12/20\n",
      " - 99s - loss: 0.2373 - val_loss: 0.2787\n",
      "Epoch 13/20\n",
      " - 99s - loss: 0.2332 - val_loss: 0.2794\n",
      "Epoch 14/20\n",
      " - 99s - loss: 0.2296 - val_loss: 0.2834\n",
      "Epoch 15/20\n",
      " - 99s - loss: 0.2274 - val_loss: 0.2917\n",
      "Epoch 16/20\n",
      " - 99s - loss: 0.2220 - val_loss: 0.2885\n",
      "Epoch 17/20\n",
      " - 99s - loss: 0.2193 - val_loss: 0.2889\n",
      "Epoch 18/20\n",
      " - 99s - loss: 0.2161 - val_loss: 0.2950\n",
      "Epoch 19/20\n",
      " - 99s - loss: 0.2142 - val_loss: 0.2989\n",
      "Epoch 20/20\n",
      " - 99s - loss: 0.2115 - val_loss: 0.2991\n"
     ]
    }
   ],
   "source": [
    "history = model.fit_generator(\n",
    "    train_gen, steps_per_epoch=500, epochs=20, \n",
    "    validation_data=val_gen, validation_steps=jena_climate.val_steps,\n",
    "    verbose=2\n",
    ")"
   ]
  },
  {
   "cell_type": "code",
   "execution_count": 5,
   "metadata": {
    "colab": {
     "base_uri": "https://localhost:8080/",
     "height": 283
    },
    "colab_type": "code",
    "executionInfo": {
     "elapsed": 3082192,
     "status": "ok",
     "timestamp": 1556445173690,
     "user": {
      "displayName": "Tx Li",
      "photoUrl": "https://lh4.googleusercontent.com/-ylRQzkZBGw4/AAAAAAAAAAI/AAAAAAAAAIc/U_cuUeU9rME/s64/photo.jpg",
      "userId": "07635813893329817116"
     },
     "user_tz": -480
    },
    "id": "v9DaHPMOKemt",
    "outputId": "5a8164a9-7e9d-4a85-d553-c062c9efe482"
   },
   "outputs": [
    {
     "data": {
      "image/png": "[encoded data removed]",
      "text/plain": [
       "<Figure size 432x288 with 1 Axes>"
      ]
     },
     "metadata": {
      "needs_background": "light"
     },
     "output_type": "display_data"
    }
   ],
   "source": [
    "plot_history(history, metrics=['loss'])"
   ]
  }
 ],
 "metadata": {
  "accelerator": "GPU",
  "colab": {
   "collapsed_sections": [],
   "name": "5_gru.ipynb",
   "provenance": [],
   "version": "0.3.2"
  },
  "kernelspec": {
   "display_name": "Python 3",
   "language": "python",
   "name": "python3"
  },
  "language_info": {
   "codemirror_mode": {
    "name": "ipython",
    "version": 3
   },
   "file_extension": ".py",
   "mimetype": "text/x-python",
   "name": "python",
   "nbconvert_exporter": "python",
   "pygments_lexer": "ipython3",
   "version": "3.6.8"
  }
 },
 "nbformat": 4,
 "nbformat_minor": 1
}

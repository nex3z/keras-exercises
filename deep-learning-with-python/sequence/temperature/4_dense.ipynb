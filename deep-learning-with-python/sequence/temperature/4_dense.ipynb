{
 "cells": [
  {
   "cell_type": "code",
   "execution_count": 1,
   "metadata": {
    "colab": {
     "base_uri": "https://localhost:8080/",
     "height": 34
    },
    "colab_type": "code",
    "executionInfo": {
     "elapsed": 2302,
     "status": "ok",
     "timestamp": 1556440511728,
     "user": {
      "displayName": "Tx Li",
      "photoUrl": "https://lh4.googleusercontent.com/-ylRQzkZBGw4/AAAAAAAAAAI/AAAAAAAAAIc/U_cuUeU9rME/s64/photo.jpg",
      "userId": "07635813893329817116"
     },
     "user_tz": -480
    },
    "id": "sU0-Q4odFCqW",
    "outputId": "bada9c8c-ce8f-43d1-9d01-3769b6f83055"
   },
   "outputs": [
    {
     "name": "stderr",
     "output_type": "stream",
     "text": [
      "Using TensorFlow backend.\n"
     ]
    }
   ],
   "source": [
    "from keras.models import Sequential\n",
    "from keras.layers import Flatten, Dense\n",
    "from keras.optimizers import RMSprop\n",
    "from JenaClimate import JenaClimate\n",
    "from plot_util import plot_history"
   ]
  },
  {
   "cell_type": "code",
   "execution_count": 2,
   "metadata": {
    "colab": {},
    "colab_type": "code",
    "id": "UuhLZIZ_FCqb"
   },
   "outputs": [],
   "source": [
    "jena_climate = JenaClimate()\n",
    "train_gen, val_gen, test_gen = jena_climate.build_generator()"
   ]
  },
  {
   "cell_type": "code",
   "execution_count": 3,
   "metadata": {
    "colab": {
     "base_uri": "https://localhost:8080/",
     "height": 88
    },
    "colab_type": "code",
    "executionInfo": {
     "elapsed": 3948,
     "status": "ok",
     "timestamp": 1556440513454,
     "user": {
      "displayName": "Tx Li",
      "photoUrl": "https://lh4.googleusercontent.com/-ylRQzkZBGw4/AAAAAAAAAAI/AAAAAAAAAIc/U_cuUeU9rME/s64/photo.jpg",
      "userId": "07635813893329817116"
     },
     "user_tz": -480
    },
    "id": "0y8fnVWqFCqd",
    "outputId": "5603e3ca-d41d-41b8-b632-5d174f758202",
    "scrolled": true
   },
   "outputs": [
    {
     "name": "stdout",
     "output_type": "stream",
     "text": [
      "WARNING:tensorflow:From /home/nex3z/dev/miniconda3/envs/tf/lib/python3.6/site-packages/tensorflow/python/framework/op_def_library.py:263: colocate_with (from tensorflow.python.framework.ops) is deprecated and will be removed in a future version.\n",
      "Instructions for updating:\n",
      "Colocations handled automatically by placer.\n"
     ]
    }
   ],
   "source": [
    "model = Sequential()\n",
    "model.add(Flatten(input_shape=(jena_climate.look_back // jena_climate.step, 14)))\n",
    "model.add(Dense(32, activation='relu'))\n",
    "model.add(Dense(1))\n",
    "\n",
    "model.compile(optimizer=RMSprop(), loss='mae')"
   ]
  },
  {
   "cell_type": "code",
   "execution_count": 4,
   "metadata": {
    "colab": {
     "base_uri": "https://localhost:8080/",
     "height": 768
    },
    "colab_type": "code",
    "executionInfo": {
     "elapsed": 214876,
     "status": "ok",
     "timestamp": 1556440724405,
     "user": {
      "displayName": "Tx Li",
      "photoUrl": "https://lh4.googleusercontent.com/-ylRQzkZBGw4/AAAAAAAAAAI/AAAAAAAAAIc/U_cuUeU9rME/s64/photo.jpg",
      "userId": "07635813893329817116"
     },
     "user_tz": -480
    },
    "id": "K8NPDKXCFCqi",
    "outputId": "3e7b27b7-b1c1-4ed5-fd91-3af448bf593a"
   },
   "outputs": [
    {
     "name": "stdout",
     "output_type": "stream",
     "text": [
      "WARNING:tensorflow:From /home/nex3z/dev/miniconda3/envs/tf/lib/python3.6/site-packages/tensorflow/python/ops/math_ops.py:3066: to_int32 (from tensorflow.python.ops.math_ops) is deprecated and will be removed in a future version.\n",
      "Instructions for updating:\n",
      "Use tf.cast instead.\n",
      "Epoch 1/20\n",
      " - 13s - loss: 1.3267 - val_loss: 0.7365\n",
      "Epoch 2/20\n",
      " - 12s - loss: 0.4364 - val_loss: 0.3174\n",
      "Epoch 3/20\n",
      " - 12s - loss: 0.2977 - val_loss: 0.3055\n",
      "Epoch 4/20\n",
      " - 12s - loss: 0.2718 - val_loss: 0.3307\n",
      "Epoch 5/20\n",
      " - 12s - loss: 0.2564 - val_loss: 0.3056\n",
      "Epoch 6/20\n",
      " - 12s - loss: 0.2471 - val_loss: 0.3226\n",
      "Epoch 7/20\n",
      " - 12s - loss: 0.2391 - val_loss: 0.3256\n",
      "Epoch 8/20\n",
      " - 12s - loss: 0.2342 - val_loss: 0.3159\n",
      "Epoch 9/20\n",
      " - 12s - loss: 0.2287 - val_loss: 0.3265\n",
      "Epoch 10/20\n",
      " - 12s - loss: 0.2233 - val_loss: 0.3211\n",
      "Epoch 11/20\n",
      " - 12s - loss: 0.2194 - val_loss: 0.3215\n",
      "Epoch 12/20\n",
      " - 12s - loss: 0.2187 - val_loss: 0.3353\n",
      "Epoch 13/20\n",
      " - 12s - loss: 0.2154 - val_loss: 0.3528\n",
      "Epoch 14/20\n",
      " - 12s - loss: 0.2143 - val_loss: 0.3291\n",
      "Epoch 15/20\n",
      " - 12s - loss: 0.2113 - val_loss: 0.3286\n",
      "Epoch 16/20\n",
      " - 12s - loss: 0.2089 - val_loss: 0.3296\n",
      "Epoch 17/20\n",
      " - 12s - loss: 0.2080 - val_loss: 0.3441\n",
      "Epoch 18/20\n",
      " - 12s - loss: 0.2049 - val_loss: 0.3463\n",
      "Epoch 19/20\n",
      " - 12s - loss: 0.2031 - val_loss: 0.3240\n",
      "Epoch 20/20\n",
      " - 12s - loss: 0.2022 - val_loss: 0.3479\n"
     ]
    }
   ],
   "source": [
    "history = model.fit_generator(\n",
    "    train_gen, steps_per_epoch=500, epochs=20, \n",
    "    validation_data=val_gen, validation_steps=jena_climate.val_steps,\n",
    "    verbose=2\n",
    ")"
   ]
  },
  {
   "cell_type": "code",
   "execution_count": 5,
   "metadata": {
    "colab": {
     "base_uri": "https://localhost:8080/",
     "height": 283
    },
    "colab_type": "code",
    "executionInfo": {
     "elapsed": 214854,
     "status": "ok",
     "timestamp": 1556440724408,
     "user": {
      "displayName": "Tx Li",
      "photoUrl": "https://lh4.googleusercontent.com/-ylRQzkZBGw4/AAAAAAAAAAI/AAAAAAAAAIc/U_cuUeU9rME/s64/photo.jpg",
      "userId": "07635813893329817116"
     },
     "user_tz": -480
    },
    "id": "H3sWVKy_FCql",
    "outputId": "628e1bf7-7c3d-4995-d48c-e3433a74d62d"
   },
   "outputs": [
    {
     "data": {
      "image/png": "[encoded data removed]",
      "text/plain": [
       "<Figure size 432x288 with 1 Axes>"
      ]
     },
     "metadata": {
      "needs_background": "light"
     },
     "output_type": "display_data"
    }
   ],
   "source": [
    "plot_history(history, metrics=['loss'])"
   ]
  }
 ],
 "metadata": {
  "accelerator": "GPU",
  "colab": {
   "collapsed_sections": [],
   "name": "4_dense.ipynb",
   "provenance": [],
   "version": "0.3.2"
  },
  "kernelspec": {
   "display_name": "Python 3",
   "language": "python",
   "name": "python3"
  },
  "language_info": {
   "codemirror_mode": {
    "name": "ipython",
    "version": 3
   },
   "file_extension": ".py",
   "mimetype": "text/x-python",
   "name": "python",
   "nbconvert_exporter": "python",
   "pygments_lexer": "ipython3",
   "version": "3.6.8"
  }
 },
 "nbformat": 4,
 "nbformat_minor": 1
}

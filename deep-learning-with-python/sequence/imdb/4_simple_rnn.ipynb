{
 "cells": [
  {
   "cell_type": "code",
   "execution_count": 1,
   "metadata": {},
   "outputs": [],
   "source": [
    "import numpy as np"
   ]
  },
  {
   "cell_type": "code",
   "execution_count": 2,
   "metadata": {},
   "outputs": [],
   "source": [
    "TIMESTEPS = 100\n",
    "INPUT_FEATURES = 32\n",
    "OUTPUT_FEATURES = 64"
   ]
  },
  {
   "cell_type": "code",
   "execution_count": 3,
   "metadata": {},
   "outputs": [],
   "source": [
    "inputs = np.random.random((TIMESTEPS, INPUT_FEATURES))\n",
    "state_t = np.zeros((OUTPUT_FEATURES))\n",
    "\n",
    "W = np.random.random((OUTPUT_FEATURES, INPUT_FEATURES))\n",
    "U = np.random.random((OUTPUT_FEATURES, OUTPUT_FEATURES))\n",
    "b = np.random.random((OUTPUT_FEATURES, ))"
   ]
  },
  {
   "cell_type": "code",
   "execution_count": 4,
   "metadata": {},
   "outputs": [
    {
     "name": "stdout",
     "output_type": "stream",
     "text": [
      "final_outpout_sequence.shape.shape = (6400,)\n",
      "len(successive_outputs) = 100\n"
     ]
    }
   ],
   "source": [
    "successive_outputs = []\n",
    "\n",
    "for input_t in inputs:\n",
    "    output_t = np.tanh(np.dot(W, input_t) + np.dot(U, state_t) + b)\n",
    "    successive_outputs.append(output_t)\n",
    "    state_t = output_t\n",
    "    \n",
    "final_outpout_sequence = np.concatenate(successive_outputs, axis=0)\n",
    "\n",
    "print(\"final_outpout_sequence.shape.shape = {}\".format(final_outpout_sequence.shape))\n",
    "print(\"len(successive_outputs) = {}\".format(len(successive_outputs)))"
   ]
  }
 ],
 "metadata": {
  "kernelspec": {
   "display_name": "Python 3",
   "language": "python",
   "name": "python3"
  },
  "language_info": {
   "codemirror_mode": {
    "name": "ipython",
    "version": 3
   },
   "file_extension": ".py",
   "mimetype": "text/x-python",
   "name": "python",
   "nbconvert_exporter": "python",
   "pygments_lexer": "ipython3",
   "version": "3.6.8"
  }
 },
 "nbformat": 4,
 "nbformat_minor": 2
}

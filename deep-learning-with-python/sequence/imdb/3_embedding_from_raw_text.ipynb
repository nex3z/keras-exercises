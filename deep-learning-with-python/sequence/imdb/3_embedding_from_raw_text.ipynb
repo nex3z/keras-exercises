{
 "cells": [
  {
   "cell_type": "code",
   "execution_count": 1,
   "metadata": {},
   "outputs": [
    {
     "name": "stderr",
     "output_type": "stream",
     "text": [
      "Using TensorFlow backend.\n"
     ]
    }
   ],
   "source": [
    "import os, urllib.request, zipfile\n",
    "import numpy as np\n",
    "from keras.preprocessing.text import Tokenizer\n",
    "from keras.preprocessing.sequence import pad_sequences\n",
    "from keras.models import Sequential\n",
    "from keras.layers import Embedding, Flatten, Dense\n",
    "from plot_util import plot_history"
   ]
  },
  {
   "cell_type": "code",
   "execution_count": 2,
   "metadata": {},
   "outputs": [],
   "source": [
    "IMDB_DIR = './data/aclImdb'\n",
    "TRAIN_DIR = os.path.join(IMDB_DIR, 'train')\n",
    "GLOVE_DIR = './data/glove.6B'\n",
    "\n",
    "MAXLEN = 100\n",
    "TRAIN_SAMPLES = 200\n",
    "VAL_SAMPLES = 10000\n",
    "MAX_WORDS = 10000\n",
    "\n",
    "EMBEDDING_DIM = 100"
   ]
  },
  {
   "cell_type": "code",
   "execution_count": 3,
   "metadata": {},
   "outputs": [],
   "source": [
    "if not os.path.isdir(IMDB_DIR):\n",
    "    IMDB_ZIP_PATH = './data/aclImdb.zip'\n",
    "    if not os.path.isfile(IMDB_ZIP_PATH):\n",
    "        urllib.request.urlretrieve ('http://s3.amazonaws.com/text-datasets/aclImdb.zip', IMDB_ZIP_PATH)\n",
    "    zip_file = zipfile.ZipFile(IMDB_ZIP_PATH, 'r')\n",
    "    zip_file.extractall('./data')\n",
    "    zip_file.close()\n",
    "    \n",
    "if not os.path.isdir(GLOVE_DIR):\n",
    "    GLOVE_ZIP_PATH = './data/glove.6B.zip'\n",
    "    if not os.path.isfile(GLOVE_ZIP_PATH):\n",
    "        urllib.request.urlretrieve ('https://nlp.stanford.edu/data/glove.6B.zip', GLOVE_ZIP_PATH)\n",
    "    zip_file = zipfile.ZipFile(GLOVE_ZIP_PATH, 'r')\n",
    "    zip_file.extractall(GLOVE_DIR)\n",
    "    zip_file.close()"
   ]
  },
  {
   "cell_type": "code",
   "execution_count": 4,
   "metadata": {},
   "outputs": [
    {
     "name": "stdout",
     "output_type": "stream",
     "text": [
      "len(texts) = 25000\n",
      "sample text: This is the worst imaginable crap. The novel by H. Rider Haggard is very entertaining and dramatic. The makers of this worthless movie don't follow it closely. Well, old novels aren't sacred and making free versions of them is fine with me if one has ideas of one's own. If all one can do is changing things and replace them with uninteresting and watered-down clichés one should stick to the original. If they had done that this film would have been at least twice as good even with worse actors and if filmed inside a studio with huts made of cardboard. BUt there's no imagination at all only tiredness. This should be bought or watched only by collectors of Victorian novels made into movies.<br /><br />Just a hint, and not a spoiler I think, to make those of you who have read the novel understand what has taken place and what you may expect if you decide to watch this on TV or - God forbid - waste money on buying this. Gagool an old baddie witch in the book and some precursor to Gollum has been turned into a nice gal!\n",
      "sample label: 0\n"
     ]
    }
   ],
   "source": [
    "labels = []\n",
    "texts = []\n",
    "\n",
    "for label in ['neg', 'pos']:\n",
    "    file_dir = os.path.join(TRAIN_DIR, label)\n",
    "    for file_name in os.listdir(file_dir):\n",
    "        if file_name.lower().endswith('.txt'):\n",
    "            file_path = os.path.join(file_dir, file_name)\n",
    "            with open(file_path) as f:\n",
    "                texts.append(f.read())\n",
    "            labels.append(0 if label == 'neg' else 1)\n",
    "\n",
    "print(\"len(texts) = {}\".format(len(texts)))\n",
    "print(\"sample text: {}\".format(texts[0]))\n",
    "print(\"sample label: {}\".format(labels[0]))"
   ]
  },
  {
   "cell_type": "code",
   "execution_count": 5,
   "metadata": {},
   "outputs": [
    {
     "name": "stdout",
     "output_type": "stream",
     "text": [
      "len(sequences) = 25000\n",
      "sample sequence = [11, 6, 1, 246, 5340, 592, 1, 664, 31, 2016, 6627, 6, 52, 438, 2, 901, 1, 1184, 4, 11, 3537, 17, 89, 790, 9, 3264, 70, 151, 2863, 710, 9654, 2, 228, 875, 2052, 4, 95, 6, 475, 16, 69, 44, 28, 45, 1005, 4, 2058, 202, 44, 29, 28, 67, 78, 6, 2537, 180, 2, 5171, 95, 16, 2497, 2, 9092, 177, 1802, 28, 141, 1226, 5, 1, 201, 44, 33, 66, 221, 12, 11, 19, 59, 25, 74, 30, 219, 1448, 14, 49, 57, 16, 430, 153, 2, 44, 811, 1001, 3, 1177, 16, 90, 4, 3432, 18, 222, 54, 1542, 30, 29, 61, 11, 141, 27, 1244, 39, 293, 61, 31, 4, 6354, 2863, 90, 80, 99, 7, 7, 40, 3, 3146, 2, 21, 3, 1357, 10, 101, 5, 94, 145, 4, 22, 34, 25, 329, 1, 664, 388, 48, 45, 620, 270, 2, 48, 22, 200, 532, 44, 22, 1194, 5, 103, 11, 20, 245, 39, 555, 434, 275, 20, 2640, 11, 32, 151, 8422, 1714, 8, 1, 271, 2, 46, 5, 45, 74, 676, 80, 3, 324, 5558]\n",
      "len(word_index) = 88582\n"
     ]
    }
   ],
   "source": [
    "tokenizer = Tokenizer(num_words=MAX_WORDS)\n",
    "tokenizer.fit_on_texts(texts)\n",
    "\n",
    "sequences = tokenizer.texts_to_sequences(texts)\n",
    "print(\"len(sequences) = {}\".format(len(sequences)))\n",
    "print(\"sample sequence = {}\".format(sequences[0]))\n",
    "\n",
    "word_index = tokenizer.word_index\n",
    "print(\"len(word_index) = {}\".format(len(word_index)))"
   ]
  },
  {
   "cell_type": "code",
   "execution_count": 6,
   "metadata": {},
   "outputs": [
    {
     "name": "stdout",
     "output_type": "stream",
     "text": [
      "data_x.shape = (25000, 100)\n",
      "data_y.shape = (25000,)\n"
     ]
    }
   ],
   "source": [
    "data_x = pad_sequences(sequences, maxlen=MAXLEN)\n",
    "data_y = np.asarray(labels)\n",
    "print(\"data_x.shape = {}\".format(data_x.shape))\n",
    "print(\"data_y.shape = {}\".format(data_y.shape))"
   ]
  },
  {
   "cell_type": "code",
   "execution_count": 7,
   "metadata": {},
   "outputs": [],
   "source": [
    "indices = np.arange(data_x.shape[0])\n",
    "np.random.shuffle(indices)\n",
    "data_x = data_x[indices]\n",
    "data_y = data_y[indices]"
   ]
  },
  {
   "cell_type": "code",
   "execution_count": 8,
   "metadata": {},
   "outputs": [
    {
     "name": "stdout",
     "output_type": "stream",
     "text": [
      "train_x.shape = (200, 100), train_y.shape = (200,)\n",
      "val_x.shape = (10000, 100), val_y.shape = (10000,)\n"
     ]
    }
   ],
   "source": [
    "train_x = data_x[:TRAIN_SAMPLES]\n",
    "train_y = data_y[:TRAIN_SAMPLES]\n",
    "val_x = data_x[TRAIN_SAMPLES:(TRAIN_SAMPLES + VAL_SAMPLES)]\n",
    "val_y = data_y[TRAIN_SAMPLES:(TRAIN_SAMPLES + VAL_SAMPLES)]\n",
    "print(\"train_x.shape = {}, train_y.shape = {}\".format(train_x.shape, train_y.shape))\n",
    "print(\"val_x.shape = {}, val_y.shape = {}\".format(val_x.shape, val_y.shape))"
   ]
  },
  {
   "cell_type": "code",
   "execution_count": 9,
   "metadata": {},
   "outputs": [
    {
     "name": "stdout",
     "output_type": "stream",
     "text": [
      "len(embeddings_index) = 400000\n",
      "embeddings_index['the'] = \n",
      "[-0.038194 -0.24487   0.72812  -0.39961   0.083172  0.043953 -0.39141\n",
      "  0.3344   -0.57545   0.087459  0.28787  -0.06731   0.30906  -0.26384\n",
      " -0.13231  -0.20757   0.33395  -0.33848  -0.31743  -0.48336   0.1464\n",
      " -0.37304   0.34577   0.052041  0.44946  -0.46971   0.02628  -0.54155\n",
      " -0.15518  -0.14107  -0.039722  0.28277   0.14393   0.23464  -0.31021\n",
      "  0.086173  0.20397   0.52624   0.17164  -0.082378 -0.71787  -0.41531\n",
      "  0.20335  -0.12763   0.41367   0.55187   0.57908  -0.33477  -0.36559\n",
      " -0.54857  -0.062892  0.26584   0.30205   0.99775  -0.80481  -3.0243\n",
      "  0.01254  -0.36942   2.2167    0.72201  -0.24978   0.92136   0.034514\n",
      "  0.46745   1.1079   -0.19358  -0.074575  0.23353  -0.052062 -0.22044\n",
      "  0.057162 -0.15806  -0.30798  -0.41625   0.37972   0.15006  -0.53212\n",
      " -0.2055   -1.2526    0.071624  0.70565   0.49744  -0.42063   0.26148\n",
      " -1.538    -0.30223  -0.073438 -0.28312   0.37104  -0.25217   0.016215\n",
      " -0.017099 -0.38984   0.87424  -0.72569  -0.51058  -0.52028  -0.1459\n",
      "  0.8278    0.27062 ]\n",
      "embeddings_index['the'].shape = (100,)\n"
     ]
    }
   ],
   "source": [
    "embeddings_index = {}\n",
    "\n",
    "with open(os.path.join(GLOVE_DIR, 'glove.6B.100d.txt')) as f:\n",
    "    for line in f:\n",
    "        values = line.split()\n",
    "        word = values[0]\n",
    "        coefs = np.asarray(values[1:], dtype='float32')\n",
    "        embeddings_index[word] = coefs\n",
    "\n",
    "print(\"len(embeddings_index) = {}\".format(len(embeddings_index)))\n",
    "print(\"embeddings_index['the'] = \\n{}\".format(embeddings_index['the']))\n",
    "print(\"embeddings_index['the'].shape = {}\".format(embeddings_index['the'].shape))"
   ]
  },
  {
   "cell_type": "code",
   "execution_count": 10,
   "metadata": {},
   "outputs": [
    {
     "name": "stdout",
     "output_type": "stream",
     "text": [
      "embedding_matrix.shape = (10000, 100)\n"
     ]
    }
   ],
   "source": [
    "embedding_matrix = np.zeros((MAX_WORDS, EMBEDDING_DIM))\n",
    "\n",
    "for word, i in word_index.items():\n",
    "    if i < MAX_WORDS:\n",
    "        embedding_vector = embeddings_index.get(word)\n",
    "        if embedding_vector is not None:\n",
    "            embedding_matrix[i] = embedding_vector\n",
    "            \n",
    "print(\"embedding_matrix.shape = {}\".format(embedding_matrix.shape))"
   ]
  },
  {
   "cell_type": "markdown",
   "metadata": {},
   "source": [
    "## Training with GloVe word embeddings"
   ]
  },
  {
   "cell_type": "code",
   "execution_count": 11,
   "metadata": {},
   "outputs": [
    {
     "name": "stdout",
     "output_type": "stream",
     "text": [
      "WARNING:tensorflow:From /home/nex3z/dev/miniconda3/envs/tf/lib/python3.6/site-packages/tensorflow/python/framework/op_def_library.py:263: colocate_with (from tensorflow.python.framework.ops) is deprecated and will be removed in a future version.\n",
      "Instructions for updating:\n",
      "Colocations handled automatically by placer.\n",
      "_________________________________________________________________\n",
      "Layer (type)                 Output Shape              Param #   \n",
      "=================================================================\n",
      "embedding_1 (Embedding)      (None, 100, 100)          1000000   \n",
      "_________________________________________________________________\n",
      "flatten_1 (Flatten)          (None, 10000)             0         \n",
      "_________________________________________________________________\n",
      "dense_1 (Dense)              (None, 32)                320032    \n",
      "_________________________________________________________________\n",
      "dense_2 (Dense)              (None, 1)                 33        \n",
      "=================================================================\n",
      "Total params: 1,320,065\n",
      "Trainable params: 320,065\n",
      "Non-trainable params: 1,000,000\n",
      "_________________________________________________________________\n"
     ]
    }
   ],
   "source": [
    "model = Sequential()\n",
    "model.add(Embedding(MAX_WORDS, EMBEDDING_DIM, input_length=MAXLEN))\n",
    "model.add(Flatten())\n",
    "model.add(Dense(32, activation='relu'))\n",
    "model.add(Dense(1, activation='sigmoid'))\n",
    "\n",
    "model.layers[0].set_weights([embedding_matrix])\n",
    "model.layers[0].trainable = False\n",
    "\n",
    "model.summary()\n",
    "\n",
    "model.compile(optimizer='rmsprop', loss='binary_crossentropy', metrics=['acc'])"
   ]
  },
  {
   "cell_type": "code",
   "execution_count": 12,
   "metadata": {},
   "outputs": [
    {
     "name": "stdout",
     "output_type": "stream",
     "text": [
      "WARNING:tensorflow:From /home/nex3z/dev/miniconda3/envs/tf/lib/python3.6/site-packages/tensorflow/python/ops/math_ops.py:3066: to_int32 (from tensorflow.python.ops.math_ops) is deprecated and will be removed in a future version.\n",
      "Instructions for updating:\n",
      "Use tf.cast instead.\n",
      "Train on 200 samples, validate on 10000 samples\n",
      "Epoch 1/10\n",
      " - 1s - loss: 2.9523 - acc: 0.4850 - val_loss: 0.7074 - val_acc: 0.5141\n",
      "Epoch 2/10\n",
      " - 0s - loss: 0.6243 - acc: 0.6350 - val_loss: 0.7875 - val_acc: 0.5030\n",
      "Epoch 3/10\n",
      " - 0s - loss: 0.4580 - acc: 0.8200 - val_loss: 0.8649 - val_acc: 0.5113\n",
      "Epoch 4/10\n",
      " - 0s - loss: 0.4035 - acc: 0.8050 - val_loss: 0.7147 - val_acc: 0.5581\n",
      "Epoch 5/10\n",
      " - 0s - loss: 0.4006 - acc: 0.8100 - val_loss: 0.7178 - val_acc: 0.5734\n",
      "Epoch 6/10\n",
      " - 0s - loss: 0.1660 - acc: 0.9900 - val_loss: 0.9750 - val_acc: 0.5244\n",
      "Epoch 7/10\n",
      " - 0s - loss: 0.1400 - acc: 0.9550 - val_loss: 2.1586 - val_acc: 0.4983\n",
      "Epoch 8/10\n",
      " - 0s - loss: 0.1918 - acc: 0.9300 - val_loss: 0.7203 - val_acc: 0.6030\n",
      "Epoch 9/10\n",
      " - 0s - loss: 0.0429 - acc: 1.0000 - val_loss: 0.9257 - val_acc: 0.5594\n",
      "Epoch 10/10\n",
      " - 0s - loss: 0.1860 - acc: 0.9150 - val_loss: 0.7626 - val_acc: 0.5842\n"
     ]
    }
   ],
   "source": [
    "history_with_glove = model.fit(\n",
    "    train_x, train_y, epochs=10, batch_size=32,\n",
    "    validation_data=(val_x, val_y),\n",
    "    verbose=2\n",
    ")"
   ]
  },
  {
   "cell_type": "code",
   "execution_count": 13,
   "metadata": {},
   "outputs": [
    {
     "data": {
      "image/png": "[encoded data removed]",
      "text/plain": [
       "<Figure size 432x288 with 1 Axes>"
      ]
     },
     "metadata": {
      "needs_background": "light"
     },
     "output_type": "display_data"
    },
    {
     "data": {
      "image/png": "[encoded data removed]",
      "text/plain": [
       "<Figure size 432x288 with 1 Axes>"
      ]
     },
     "metadata": {
      "needs_background": "light"
     },
     "output_type": "display_data"
    }
   ],
   "source": [
    "plot_history(history_with_glove, metrics=('acc', 'loss'))"
   ]
  },
  {
   "cell_type": "markdown",
   "metadata": {},
   "source": [
    "## Training without pretrained word embeddings"
   ]
  },
  {
   "cell_type": "code",
   "execution_count": 14,
   "metadata": {},
   "outputs": [
    {
     "name": "stdout",
     "output_type": "stream",
     "text": [
      "_________________________________________________________________\n",
      "Layer (type)                 Output Shape              Param #   \n",
      "=================================================================\n",
      "embedding_2 (Embedding)      (None, 100, 100)          1000000   \n",
      "_________________________________________________________________\n",
      "flatten_2 (Flatten)          (None, 10000)             0         \n",
      "_________________________________________________________________\n",
      "dense_3 (Dense)              (None, 32)                320032    \n",
      "_________________________________________________________________\n",
      "dense_4 (Dense)              (None, 1)                 33        \n",
      "=================================================================\n",
      "Total params: 1,320,065\n",
      "Trainable params: 1,320,065\n",
      "Non-trainable params: 0\n",
      "_________________________________________________________________\n"
     ]
    }
   ],
   "source": [
    "model = Sequential()\n",
    "model.add(Embedding(MAX_WORDS, EMBEDDING_DIM, input_length=MAXLEN))\n",
    "model.add(Flatten())\n",
    "model.add(Dense(32, activation='relu'))\n",
    "model.add(Dense(1, activation='sigmoid'))\n",
    "\n",
    "model.summary()\n",
    "\n",
    "model.compile(optimizer='rmsprop', loss='binary_crossentropy', metrics=['acc'])"
   ]
  },
  {
   "cell_type": "code",
   "execution_count": 15,
   "metadata": {},
   "outputs": [
    {
     "name": "stdout",
     "output_type": "stream",
     "text": [
      "Train on 200 samples, validate on 10000 samples\n",
      "Epoch 1/10\n",
      " - 1s - loss: 0.6935 - acc: 0.5250 - val_loss: 0.6939 - val_acc: 0.5044\n",
      "Epoch 2/10\n",
      " - 0s - loss: 0.5325 - acc: 0.9800 - val_loss: 0.6925 - val_acc: 0.5210\n",
      "Epoch 3/10\n",
      " - 0s - loss: 0.3151 - acc: 1.0000 - val_loss: 0.6919 - val_acc: 0.5296\n",
      "Epoch 4/10\n",
      " - 0s - loss: 0.1455 - acc: 1.0000 - val_loss: 0.6945 - val_acc: 0.5378\n",
      "Epoch 5/10\n",
      " - 0s - loss: 0.0682 - acc: 1.0000 - val_loss: 0.7002 - val_acc: 0.5342\n",
      "Epoch 6/10\n",
      " - 0s - loss: 0.0350 - acc: 1.0000 - val_loss: 0.7038 - val_acc: 0.5352\n",
      "Epoch 7/10\n",
      " - 0s - loss: 0.0192 - acc: 1.0000 - val_loss: 0.7110 - val_acc: 0.5421\n",
      "Epoch 8/10\n",
      " - 0s - loss: 0.0110 - acc: 1.0000 - val_loss: 0.7161 - val_acc: 0.5420\n",
      "Epoch 9/10\n",
      " - 0s - loss: 0.0064 - acc: 1.0000 - val_loss: 0.7227 - val_acc: 0.5364\n",
      "Epoch 10/10\n",
      " - 0s - loss: 0.0039 - acc: 1.0000 - val_loss: 0.7290 - val_acc: 0.5459\n"
     ]
    }
   ],
   "source": [
    "history_without_glove = model.fit(\n",
    "    train_x, train_y, epochs=10, batch_size=32,\n",
    "    validation_data=(val_x, val_y),\n",
    "    verbose=2\n",
    ")"
   ]
  },
  {
   "cell_type": "code",
   "execution_count": 16,
   "metadata": {},
   "outputs": [
    {
     "data": {
      "image/png": "[encoded data removed]",
      "text/plain": [
       "<Figure size 432x288 with 1 Axes>"
      ]
     },
     "metadata": {
      "needs_background": "light"
     },
     "output_type": "display_data"
    },
    {
     "data": {
      "image/png": "[encoded data removed]",
      "text/plain": [
       "<Figure size 432x288 with 1 Axes>"
      ]
     },
     "metadata": {
      "needs_background": "light"
     },
     "output_type": "display_data"
    }
   ],
   "source": [
    "plot_history(history_without_glove, metrics=('acc', 'loss'))"
   ]
  }
 ],
 "metadata": {
  "kernelspec": {
   "display_name": "Python 3",
   "language": "python",
   "name": "python3"
  },
  "language_info": {
   "codemirror_mode": {
    "name": "ipython",
    "version": 3
   },
   "file_extension": ".py",
   "mimetype": "text/x-python",
   "name": "python",
   "nbconvert_exporter": "python",
   "pygments_lexer": "ipython3",
   "version": "3.6.8"
  }
 },
 "nbformat": 4,
 "nbformat_minor": 2
}

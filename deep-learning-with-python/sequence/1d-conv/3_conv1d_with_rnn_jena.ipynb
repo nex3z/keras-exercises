{
 "cells": [
  {
   "cell_type": "code",
   "execution_count": 1,
   "metadata": {},
   "outputs": [
    {
     "name": "stderr",
     "output_type": "stream",
     "text": [
      "Using TensorFlow backend.\n"
     ]
    }
   ],
   "source": [
    "from keras.models import Sequential\n",
    "from keras.layers import Conv1D, MaxPooling1D, GRU, Dense\n",
    "from JenaClimate import JenaClimate\n",
    "from plot_util import plot_history"
   ]
  },
  {
   "cell_type": "code",
   "execution_count": 2,
   "metadata": {},
   "outputs": [],
   "source": [
    "jena_climate = JenaClimate()\n",
    "train_gen, val_gen, test_gen = jena_climate.build_generator()"
   ]
  },
  {
   "cell_type": "code",
   "execution_count": 3,
   "metadata": {},
   "outputs": [
    {
     "name": "stdout",
     "output_type": "stream",
     "text": [
      "WARNING:tensorflow:From /home/nex3z/dev/miniconda3/envs/tf/lib/python3.6/site-packages/tensorflow/python/framework/op_def_library.py:263: colocate_with (from tensorflow.python.framework.ops) is deprecated and will be removed in a future version.\n",
      "Instructions for updating:\n",
      "Colocations handled automatically by placer.\n",
      "WARNING:tensorflow:From /home/nex3z/dev/miniconda3/envs/tf/lib/python3.6/site-packages/keras/backend/tensorflow_backend.py:3445: calling dropout (from tensorflow.python.ops.nn_ops) with keep_prob is deprecated and will be removed in a future version.\n",
      "Instructions for updating:\n",
      "Please use `rate` instead of `keep_prob`. Rate should be set to `rate = 1 - keep_prob`.\n"
     ]
    }
   ],
   "source": [
    "model = Sequential()\n",
    "model.add(Conv1D(32, 5, activation='relu', input_shape=(None, 14)))\n",
    "model.add(MaxPooling1D(3))\n",
    "model.add(Conv1D(32, 5, activation='relu'))\n",
    "model.add(GRU(32, dropout=0.1, recurrent_dropout=0.5))\n",
    "model.add(Dense(1))\n",
    "\n",
    "model.compile(optimizer='rmsprop', loss='mae')"
   ]
  },
  {
   "cell_type": "code",
   "execution_count": 4,
   "metadata": {},
   "outputs": [
    {
     "name": "stdout",
     "output_type": "stream",
     "text": [
      "_________________________________________________________________\n",
      "Layer (type)                 Output Shape              Param #   \n",
      "=================================================================\n",
      "conv1d_1 (Conv1D)            (None, None, 32)          2272      \n",
      "_________________________________________________________________\n",
      "max_pooling1d_1 (MaxPooling1 (None, None, 32)          0         \n",
      "_________________________________________________________________\n",
      "conv1d_2 (Conv1D)            (None, None, 32)          5152      \n",
      "_________________________________________________________________\n",
      "gru_1 (GRU)                  (None, 32)                6240      \n",
      "_________________________________________________________________\n",
      "dense_1 (Dense)              (None, 1)                 33        \n",
      "=================================================================\n",
      "Total params: 13,697\n",
      "Trainable params: 13,697\n",
      "Non-trainable params: 0\n",
      "_________________________________________________________________\n"
     ]
    }
   ],
   "source": [
    "model.summary()"
   ]
  },
  {
   "cell_type": "code",
   "execution_count": 5,
   "metadata": {},
   "outputs": [
    {
     "name": "stdout",
     "output_type": "stream",
     "text": [
      "WARNING:tensorflow:From /home/nex3z/dev/miniconda3/envs/tf/lib/python3.6/site-packages/tensorflow/python/ops/math_ops.py:3066: to_int32 (from tensorflow.python.ops.math_ops) is deprecated and will be removed in a future version.\n",
      "Instructions for updating:\n",
      "Use tf.cast instead.\n",
      "Epoch 1/20\n",
      " - 43s - loss: 0.3417 - val_loss: 0.2903\n",
      "Epoch 2/20\n",
      " - 40s - loss: 0.3117 - val_loss: 0.2894\n",
      "Epoch 3/20\n",
      " - 40s - loss: 0.2976 - val_loss: 0.2871\n",
      "Epoch 4/20\n",
      " - 40s - loss: 0.2889 - val_loss: 0.2868\n",
      "Epoch 5/20\n",
      " - 40s - loss: 0.2806 - val_loss: 0.2874\n",
      "Epoch 6/20\n",
      " - 40s - loss: 0.2720 - val_loss: 0.2903\n",
      "Epoch 7/20\n",
      " - 40s - loss: 0.2655 - val_loss: 0.2942\n",
      "Epoch 8/20\n",
      " - 40s - loss: 0.2602 - val_loss: 0.3002\n",
      "Epoch 9/20\n",
      " - 40s - loss: 0.2551 - val_loss: 0.3059\n",
      "Epoch 10/20\n",
      " - 40s - loss: 0.2489 - val_loss: 0.2988\n",
      "Epoch 11/20\n",
      " - 40s - loss: 0.2455 - val_loss: 0.3078\n",
      "Epoch 12/20\n",
      " - 40s - loss: 0.2426 - val_loss: 0.3038\n",
      "Epoch 13/20\n",
      " - 40s - loss: 0.2378 - val_loss: 0.3109\n",
      "Epoch 14/20\n",
      " - 40s - loss: 0.2341 - val_loss: 0.3039\n",
      "Epoch 15/20\n",
      " - 40s - loss: 0.2321 - val_loss: 0.3091\n",
      "Epoch 16/20\n",
      " - 40s - loss: 0.2270 - val_loss: 0.3083\n",
      "Epoch 17/20\n",
      " - 40s - loss: 0.2258 - val_loss: 0.3170\n",
      "Epoch 18/20\n",
      " - 40s - loss: 0.2231 - val_loss: 0.3165\n",
      "Epoch 19/20\n",
      " - 40s - loss: 0.2206 - val_loss: 0.3117\n",
      "Epoch 20/20\n",
      " - 40s - loss: 0.2182 - val_loss: 0.3096\n"
     ]
    }
   ],
   "source": [
    "history = model.fit_generator(\n",
    "    train_gen, steps_per_epoch=500, epochs=20,\n",
    "    validation_data=val_gen, validation_steps=jena_climate.val_steps,\n",
    "    verbose=2\n",
    ")"
   ]
  },
  {
   "cell_type": "code",
   "execution_count": 6,
   "metadata": {},
   "outputs": [
    {
     "data": {
      "image/png": "[encoded data removed]",
      "text/plain": [
       "<Figure size 432x288 with 1 Axes>"
      ]
     },
     "metadata": {
      "needs_background": "light"
     },
     "output_type": "display_data"
    }
   ],
   "source": [
    "plot_history(history, metrics=['loss'])"
   ]
  }
 ],
 "metadata": {
  "kernelspec": {
   "display_name": "Python 3",
   "language": "python",
   "name": "python3"
  },
  "language_info": {
   "codemirror_mode": {
    "name": "ipython",
    "version": 3
   },
   "file_extension": ".py",
   "mimetype": "text/x-python",
   "name": "python",
   "nbconvert_exporter": "python",
   "pygments_lexer": "ipython3",
   "version": "3.6.8"
  }
 },
 "nbformat": 4,
 "nbformat_minor": 2
}

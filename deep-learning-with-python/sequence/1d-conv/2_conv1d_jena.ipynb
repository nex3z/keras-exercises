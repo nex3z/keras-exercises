{
 "cells": [
  {
   "cell_type": "code",
   "execution_count": 1,
   "metadata": {},
   "outputs": [
    {
     "name": "stderr",
     "output_type": "stream",
     "text": [
      "Using TensorFlow backend.\n"
     ]
    }
   ],
   "source": [
    "from keras.models import Sequential\n",
    "from keras.layers import Embedding, Conv1D, MaxPooling1D, GlobalMaxPooling1D, Dense\n",
    "from JenaClimate import JenaClimate\n",
    "from plot_util import plot_history"
   ]
  },
  {
   "cell_type": "code",
   "execution_count": 2,
   "metadata": {},
   "outputs": [],
   "source": [
    "jena_climate = JenaClimate()\n",
    "train_gen, val_gen, test_gen = jena_climate.build_generator()"
   ]
  },
  {
   "cell_type": "code",
   "execution_count": 3,
   "metadata": {},
   "outputs": [
    {
     "name": "stdout",
     "output_type": "stream",
     "text": [
      "WARNING:tensorflow:From /home/nex3z/dev/miniconda3/envs/tf/lib/python3.6/site-packages/tensorflow/python/framework/op_def_library.py:263: colocate_with (from tensorflow.python.framework.ops) is deprecated and will be removed in a future version.\n",
      "Instructions for updating:\n",
      "Colocations handled automatically by placer.\n"
     ]
    }
   ],
   "source": [
    "model = Sequential()\n",
    "model.add(Conv1D(32, 5, activation='relu', input_shape=(None, 14)))\n",
    "model.add(MaxPooling1D(3))\n",
    "model.add(Conv1D(32, 5, activation='relu'))\n",
    "model.add(GlobalMaxPooling1D())\n",
    "model.add(Dense(1))\n",
    "\n",
    "model.compile(optimizer='rmsprop', loss='mae')"
   ]
  },
  {
   "cell_type": "code",
   "execution_count": 4,
   "metadata": {},
   "outputs": [
    {
     "name": "stdout",
     "output_type": "stream",
     "text": [
      "_________________________________________________________________\n",
      "Layer (type)                 Output Shape              Param #   \n",
      "=================================================================\n",
      "conv1d_1 (Conv1D)            (None, None, 32)          2272      \n",
      "_________________________________________________________________\n",
      "max_pooling1d_1 (MaxPooling1 (None, None, 32)          0         \n",
      "_________________________________________________________________\n",
      "conv1d_2 (Conv1D)            (None, None, 32)          5152      \n",
      "_________________________________________________________________\n",
      "global_max_pooling1d_1 (Glob (None, 32)                0         \n",
      "_________________________________________________________________\n",
      "dense_1 (Dense)              (None, 1)                 33        \n",
      "=================================================================\n",
      "Total params: 7,457\n",
      "Trainable params: 7,457\n",
      "Non-trainable params: 0\n",
      "_________________________________________________________________\n"
     ]
    }
   ],
   "source": [
    "model.summary()"
   ]
  },
  {
   "cell_type": "code",
   "execution_count": 5,
   "metadata": {},
   "outputs": [
    {
     "name": "stdout",
     "output_type": "stream",
     "text": [
      "WARNING:tensorflow:From /home/nex3z/dev/miniconda3/envs/tf/lib/python3.6/site-packages/tensorflow/python/ops/math_ops.py:3066: to_int32 (from tensorflow.python.ops.math_ops) is deprecated and will be removed in a future version.\n",
      "Instructions for updating:\n",
      "Use tf.cast instead.\n",
      "WARNING:tensorflow:From /home/nex3z/dev/miniconda3/envs/tf/lib/python3.6/site-packages/tensorflow/python/ops/math_grad.py:102: div (from tensorflow.python.ops.math_ops) is deprecated and will be removed in a future version.\n",
      "Instructions for updating:\n",
      "Deprecated in favor of operator or tf.math.divide.\n",
      "Epoch 1/20\n",
      " - 14s - loss: 0.4380 - val_loss: 0.4530\n",
      "Epoch 2/20\n",
      " - 12s - loss: 0.3954 - val_loss: 0.4758\n",
      "Epoch 3/20\n",
      " - 12s - loss: 0.3793 - val_loss: 0.4519\n",
      "Epoch 4/20\n",
      " - 12s - loss: 0.3705 - val_loss: 0.4478\n",
      "Epoch 5/20\n",
      " - 12s - loss: 0.3599 - val_loss: 0.4561\n",
      "Epoch 6/20\n",
      " - 12s - loss: 0.3541 - val_loss: 0.4648\n",
      "Epoch 7/20\n",
      " - 12s - loss: 0.3497 - val_loss: 0.4505\n",
      "Epoch 8/20\n",
      " - 12s - loss: 0.3412 - val_loss: 0.4563\n",
      "Epoch 9/20\n",
      " - 12s - loss: 0.3385 - val_loss: 0.4454\n",
      "Epoch 10/20\n",
      " - 12s - loss: 0.3365 - val_loss: 0.4504\n",
      "Epoch 11/20\n",
      " - 12s - loss: 0.3307 - val_loss: 0.4542\n",
      "Epoch 12/20\n",
      " - 12s - loss: 0.3294 - val_loss: 0.4718\n",
      "Epoch 13/20\n",
      " - 12s - loss: 0.3256 - val_loss: 0.4619\n",
      "Epoch 14/20\n",
      " - 12s - loss: 0.3230 - val_loss: 0.4869\n",
      "Epoch 15/20\n",
      " - 12s - loss: 0.3222 - val_loss: 0.4568\n",
      "Epoch 16/20\n",
      " - 12s - loss: 0.3181 - val_loss: 0.4575\n",
      "Epoch 17/20\n",
      " - 12s - loss: 0.3157 - val_loss: 0.4697\n",
      "Epoch 18/20\n",
      " - 12s - loss: 0.3139 - val_loss: 0.4617\n",
      "Epoch 19/20\n",
      " - 12s - loss: 0.3133 - val_loss: 0.4705\n",
      "Epoch 20/20\n",
      " - 12s - loss: 0.3102 - val_loss: 0.4719\n"
     ]
    }
   ],
   "source": [
    "history = model.fit_generator(\n",
    "    train_gen, steps_per_epoch=500, epochs=20,\n",
    "    validation_data=val_gen, validation_steps=jena_climate.val_steps,\n",
    "    verbose=2\n",
    ")"
   ]
  },
  {
   "cell_type": "code",
   "execution_count": 6,
   "metadata": {},
   "outputs": [
    {
     "data": {
      "image/png": "[encoded data removed]",
      "text/plain": [
       "<Figure size 432x288 with 1 Axes>"
      ]
     },
     "metadata": {
      "needs_background": "light"
     },
     "output_type": "display_data"
    }
   ],
   "source": [
    "plot_history(history, metrics=['loss'])"
   ]
  }
 ],
 "metadata": {
  "kernelspec": {
   "display_name": "Python 3",
   "language": "python",
   "name": "python3"
  },
  "language_info": {
   "codemirror_mode": {
    "name": "ipython",
    "version": 3
   },
   "file_extension": ".py",
   "mimetype": "text/x-python",
   "name": "python",
   "nbconvert_exporter": "python",
   "pygments_lexer": "ipython3",
   "version": "3.6.8"
  }
 },
 "nbformat": 4,
 "nbformat_minor": 2
}

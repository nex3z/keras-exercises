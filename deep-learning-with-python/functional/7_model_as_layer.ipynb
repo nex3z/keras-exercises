{
 "cells": [
  {
   "cell_type": "code",
   "execution_count": 1,
   "metadata": {},
   "outputs": [
    {
     "name": "stderr",
     "output_type": "stream",
     "text": [
      "Using TensorFlow backend.\n"
     ]
    }
   ],
   "source": [
    "from keras.applications import Xception\n",
    "from keras import Input\n",
    "from keras.layers import concatenate\n",
    "from keras.models import Model\n",
    "from plot_util import show_model"
   ]
  },
  {
   "cell_type": "code",
   "execution_count": 2,
   "metadata": {},
   "outputs": [
    {
     "name": "stdout",
     "output_type": "stream",
     "text": [
      "WARNING:tensorflow:From /home/nex3z/dev/miniconda3/envs/tf/lib/python3.6/site-packages/tensorflow/python/framework/op_def_library.py:263: colocate_with (from tensorflow.python.framework.ops) is deprecated and will be removed in a future version.\n",
      "Instructions for updating:\n",
      "Colocations handled automatically by placer.\n"
     ]
    }
   ],
   "source": [
    "xception_base = Xception(weights=None, include_top=False)\n",
    "\n",
    "left_input = Input(shape=(250, 250, 3), name='left')\n",
    "left_features = xception_base(left_input)\n",
    "\n",
    "right_input = Input(shape=(250, 250, 3), name='right')\n",
    "right_features = xception_base(right_input)\n",
    "\n",
    "merged_features = concatenate([left_features, right_features], axis=-1)\n",
    "\n",
    "model = Model([left_input, right_input], merged_features)"
   ]
  },
  {
   "cell_type": "code",
   "execution_count": 3,
   "metadata": {},
   "outputs": [
    {
     "data": {
      "image/svg+xml": [
       "<svg height=\"221pt\" viewBox=\"0.00 0.00 598.00 221.00\" width=\"598pt\" xmlns=\"http://www.w3.org/2000/svg\" xmlns:xlink=\"http://www.w3.org/1999/xlink\">\n",
       "<g class=\"graph\" id=\"graph0\" transform=\"scale(1 1) rotate(0) translate(4 217)\">\n",
       "<title>G</title>\n",
       "<polygon fill=\"#ffffff\" points=\"-4,4 -4,-217 594,-217 594,4 -4,4\" stroke=\"transparent\"/>\n",
       "<!-- 140505433151920 -->\n",
       "<g class=\"node\" id=\"node1\">\n",
       "<title>140505433151920</title>\n",
       "<polygon fill=\"none\" points=\"0,-166.5 0,-212.5 282,-212.5 282,-166.5 0,-166.5\" stroke=\"#000000\"/>\n",
       "<text fill=\"#000000\" font-family=\"Times,serif\" font-size=\"14.00\" text-anchor=\"middle\" x=\"51\" y=\"-185.8\">left: InputLayer</text>\n",
       "<polyline fill=\"none\" points=\"102,-166.5 102,-212.5 \" stroke=\"#000000\"/>\n",
       "<text fill=\"#000000\" font-family=\"Times,serif\" font-size=\"14.00\" text-anchor=\"middle\" x=\"129.5\" y=\"-197.3\">input:</text>\n",
       "<polyline fill=\"none\" points=\"102,-189.5 157,-189.5 \" stroke=\"#000000\"/>\n",
       "<text fill=\"#000000\" font-family=\"Times,serif\" font-size=\"14.00\" text-anchor=\"middle\" x=\"129.5\" y=\"-174.3\">output:</text>\n",
       "<polyline fill=\"none\" points=\"157,-166.5 157,-212.5 \" stroke=\"#000000\"/>\n",
       "<text fill=\"#000000\" font-family=\"Times,serif\" font-size=\"14.00\" text-anchor=\"middle\" x=\"219.5\" y=\"-197.3\">(None, 250, 250, 3)</text>\n",
       "<polyline fill=\"none\" points=\"157,-189.5 282,-189.5 \" stroke=\"#000000\"/>\n",
       "<text fill=\"#000000\" font-family=\"Times,serif\" font-size=\"14.00\" text-anchor=\"middle\" x=\"219.5\" y=\"-174.3\">(None, 250, 250, 3)</text>\n",
       "</g>\n",
       "<!-- 140501980347192 -->\n",
       "<g class=\"node\" id=\"node3\">\n",
       "<title>140501980347192</title>\n",
       "<polygon fill=\"none\" points=\"181,-83.5 181,-129.5 405,-129.5 405,-83.5 181,-83.5\" stroke=\"#000000\"/>\n",
       "<text fill=\"#000000\" font-family=\"Times,serif\" font-size=\"14.00\" text-anchor=\"middle\" x=\"234.5\" y=\"-102.8\">xception: Model</text>\n",
       "<polyline fill=\"none\" points=\"288,-83.5 288,-129.5 \" stroke=\"#000000\"/>\n",
       "<text fill=\"#000000\" font-family=\"Times,serif\" font-size=\"14.00\" text-anchor=\"middle\" x=\"315.5\" y=\"-114.3\">input:</text>\n",
       "<polyline fill=\"none\" points=\"288,-106.5 343,-106.5 \" stroke=\"#000000\"/>\n",
       "<text fill=\"#000000\" font-family=\"Times,serif\" font-size=\"14.00\" text-anchor=\"middle\" x=\"315.5\" y=\"-91.3\">output:</text>\n",
       "<polyline fill=\"none\" points=\"343,-83.5 343,-129.5 \" stroke=\"#000000\"/>\n",
       "<text fill=\"#000000\" font-family=\"Times,serif\" font-size=\"14.00\" text-anchor=\"middle\" x=\"374\" y=\"-114.3\">multiple</text>\n",
       "<polyline fill=\"none\" points=\"343,-106.5 405,-106.5 \" stroke=\"#000000\"/>\n",
       "<text fill=\"#000000\" font-family=\"Times,serif\" font-size=\"14.00\" text-anchor=\"middle\" x=\"374\" y=\"-91.3\">multiple</text>\n",
       "</g>\n",
       "<!-- 140505433151920&#45;&gt;140501980347192 -->\n",
       "<g class=\"edge\" id=\"edge1\">\n",
       "<title>140505433151920-&gt;140501980347192</title>\n",
       "<path d=\"M183.3405,-166.3799C201.4646,-156.4832 222.7892,-144.8388 241.7916,-134.4625\" fill=\"none\" stroke=\"#000000\"/>\n",
       "<polygon fill=\"#000000\" points=\"243.5239,-137.5044 250.6232,-129.6399 240.1691,-131.3607 243.5239,-137.5044\" stroke=\"#000000\"/>\n",
       "</g>\n",
       "<!-- 140501979548192 -->\n",
       "<g class=\"node\" id=\"node2\">\n",
       "<title>140501979548192</title>\n",
       "<polygon fill=\"none\" points=\"300,-166.5 300,-212.5 590,-212.5 590,-166.5 300,-166.5\" stroke=\"#000000\"/>\n",
       "<text fill=\"#000000\" font-family=\"Times,serif\" font-size=\"14.00\" text-anchor=\"middle\" x=\"355\" y=\"-185.8\">right: InputLayer</text>\n",
       "<polyline fill=\"none\" points=\"410,-166.5 410,-212.5 \" stroke=\"#000000\"/>\n",
       "<text fill=\"#000000\" font-family=\"Times,serif\" font-size=\"14.00\" text-anchor=\"middle\" x=\"437.5\" y=\"-197.3\">input:</text>\n",
       "<polyline fill=\"none\" points=\"410,-189.5 465,-189.5 \" stroke=\"#000000\"/>\n",
       "<text fill=\"#000000\" font-family=\"Times,serif\" font-size=\"14.00\" text-anchor=\"middle\" x=\"437.5\" y=\"-174.3\">output:</text>\n",
       "<polyline fill=\"none\" points=\"465,-166.5 465,-212.5 \" stroke=\"#000000\"/>\n",
       "<text fill=\"#000000\" font-family=\"Times,serif\" font-size=\"14.00\" text-anchor=\"middle\" x=\"527.5\" y=\"-197.3\">(None, 250, 250, 3)</text>\n",
       "<polyline fill=\"none\" points=\"465,-189.5 590,-189.5 \" stroke=\"#000000\"/>\n",
       "<text fill=\"#000000\" font-family=\"Times,serif\" font-size=\"14.00\" text-anchor=\"middle\" x=\"527.5\" y=\"-174.3\">(None, 250, 250, 3)</text>\n",
       "</g>\n",
       "<!-- 140501979548192&#45;&gt;140501980347192 -->\n",
       "<g class=\"edge\" id=\"edge2\">\n",
       "<title>140501979548192-&gt;140501980347192</title>\n",
       "<path d=\"M402.6595,-166.3799C384.5354,-156.4832 363.2108,-144.8388 344.2084,-134.4625\" fill=\"none\" stroke=\"#000000\"/>\n",
       "<polygon fill=\"#000000\" points=\"345.8309,-131.3607 335.3768,-129.6399 342.4761,-137.5044 345.8309,-131.3607\" stroke=\"#000000\"/>\n",
       "</g>\n",
       "<!-- 140501980749896 -->\n",
       "<g class=\"node\" id=\"node4\">\n",
       "<title>140501980749896</title>\n",
       "<polygon fill=\"none\" points=\"63.5,-.5 63.5,-46.5 522.5,-46.5 522.5,-.5 63.5,-.5\" stroke=\"#000000\"/>\n",
       "<text fill=\"#000000\" font-family=\"Times,serif\" font-size=\"14.00\" text-anchor=\"middle\" x=\"147.5\" y=\"-19.8\">concatenate_1: Concatenate</text>\n",
       "<polyline fill=\"none\" points=\"231.5,-.5 231.5,-46.5 \" stroke=\"#000000\"/>\n",
       "<text fill=\"#000000\" font-family=\"Times,serif\" font-size=\"14.00\" text-anchor=\"middle\" x=\"259\" y=\"-31.3\">input:</text>\n",
       "<polyline fill=\"none\" points=\"231.5,-23.5 286.5,-23.5 \" stroke=\"#000000\"/>\n",
       "<text fill=\"#000000\" font-family=\"Times,serif\" font-size=\"14.00\" text-anchor=\"middle\" x=\"259\" y=\"-8.3\">output:</text>\n",
       "<polyline fill=\"none\" points=\"286.5,-.5 286.5,-46.5 \" stroke=\"#000000\"/>\n",
       "<text fill=\"#000000\" font-family=\"Times,serif\" font-size=\"14.00\" text-anchor=\"middle\" x=\"404.5\" y=\"-31.3\">[(None, 8, 8, 2048), (None, 8, 8, 2048)]</text>\n",
       "<polyline fill=\"none\" points=\"286.5,-23.5 522.5,-23.5 \" stroke=\"#000000\"/>\n",
       "<text fill=\"#000000\" font-family=\"Times,serif\" font-size=\"14.00\" text-anchor=\"middle\" x=\"404.5\" y=\"-8.3\">(None, 8, 8, 4096)</text>\n",
       "</g>\n",
       "<!-- 140501980347192&#45;&gt;140501980749896 -->\n",
       "<g class=\"edge\" id=\"edge3\">\n",
       "<title>140501980347192-&gt;140501980749896</title>\n",
       "<path d=\"M293,-83.3799C293,-75.1745 293,-65.7679 293,-56.8786\" fill=\"none\" stroke=\"#000000\"/>\n",
       "<polygon fill=\"#000000\" points=\"296.5001,-56.784 293,-46.784 289.5001,-56.784 296.5001,-56.784\" stroke=\"#000000\"/>\n",
       "</g>\n",
       "</g>\n",
       "</svg>"
      ],
      "text/plain": [
       "<IPython.core.display.SVG object>"
      ]
     },
     "metadata": {},
     "output_type": "display_data"
    }
   ],
   "source": [
    "show_model(model)"
   ]
  }
 ],
 "metadata": {
  "kernelspec": {
   "display_name": "Python 3",
   "language": "python",
   "name": "python3"
  },
  "language_info": {
   "codemirror_mode": {
    "name": "ipython",
    "version": 3
   },
   "file_extension": ".py",
   "mimetype": "text/x-python",
   "name": "python",
   "nbconvert_exporter": "python",
   "pygments_lexer": "ipython3",
   "version": "3.6.8"
  }
 },
 "nbformat": 4,
 "nbformat_minor": 2
}

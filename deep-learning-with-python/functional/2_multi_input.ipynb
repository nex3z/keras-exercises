{
 "cells": [
  {
   "cell_type": "code",
   "execution_count": 1,
   "metadata": {},
   "outputs": [
    {
     "name": "stderr",
     "output_type": "stream",
     "text": [
      "Using TensorFlow backend.\n"
     ]
    }
   ],
   "source": [
    "import numpy as np\n",
    "from keras import Input\n",
    "from keras.layers import Embedding, LSTM, Dense, concatenate\n",
    "from keras.models import Model\n",
    "from keras.utils import to_categorical\n",
    "from plot_util import show_model"
   ]
  },
  {
   "cell_type": "code",
   "execution_count": 2,
   "metadata": {},
   "outputs": [],
   "source": [
    "TEXT_VOCAB_SIZE = 10000\n",
    "QUESTION_VOCAB_SIZE = 10000\n",
    "ANSWER_VOCAB_SIZE = 500"
   ]
  },
  {
   "cell_type": "code",
   "execution_count": 3,
   "metadata": {},
   "outputs": [
    {
     "name": "stdout",
     "output_type": "stream",
     "text": [
      "WARNING:tensorflow:From /home/nex3z/dev/miniconda3/envs/tf/lib/python3.6/site-packages/tensorflow/python/framework/op_def_library.py:263: colocate_with (from tensorflow.python.framework.ops) is deprecated and will be removed in a future version.\n",
      "Instructions for updating:\n",
      "Colocations handled automatically by placer.\n"
     ]
    }
   ],
   "source": [
    "text_input = Input(shape=(None, ), dtype='int32', name='text')\n",
    "embedded_text = Embedding(TEXT_VOCAB_SIZE, 64)(text_input)\n",
    "encoded_text = LSTM(32)(embedded_text)\n",
    "\n",
    "question_input = Input(shape=(None, ), dtype='int32', name='question')\n",
    "embedded_question = Embedding(QUESTION_VOCAB_SIZE, 32)(question_input)\n",
    "encoded_question = LSTM(16)(embedded_question)\n",
    "\n",
    "concatenated = concatenate([encoded_text, encoded_question], axis=-1)\n",
    "answer = Dense(ANSWER_VOCAB_SIZE, activation='sigmoid')(concatenated)\n",
    "\n",
    "model = Model([text_input, question_input], answer)\n",
    "\n",
    "model.compile(optimizer='rmsprop', loss='categorical_crossentropy', metrics=['acc'])"
   ]
  },
  {
   "cell_type": "code",
   "execution_count": 4,
   "metadata": {},
   "outputs": [
    {
     "name": "stdout",
     "output_type": "stream",
     "text": [
      "__________________________________________________________________________________________________\n",
      "Layer (type)                    Output Shape         Param #     Connected to                     \n",
      "==================================================================================================\n",
      "text (InputLayer)               (None, None)         0                                            \n",
      "__________________________________________________________________________________________________\n",
      "question (InputLayer)           (None, None)         0                                            \n",
      "__________________________________________________________________________________________________\n",
      "embedding_1 (Embedding)         (None, None, 64)     640000      text[0][0]                       \n",
      "__________________________________________________________________________________________________\n",
      "embedding_2 (Embedding)         (None, None, 32)     320000      question[0][0]                   \n",
      "__________________________________________________________________________________________________\n",
      "lstm_1 (LSTM)                   (None, 32)           12416       embedding_1[0][0]                \n",
      "__________________________________________________________________________________________________\n",
      "lstm_2 (LSTM)                   (None, 16)           3136        embedding_2[0][0]                \n",
      "__________________________________________________________________________________________________\n",
      "concatenate_1 (Concatenate)     (None, 48)           0           lstm_1[0][0]                     \n",
      "                                                                 lstm_2[0][0]                     \n",
      "__________________________________________________________________________________________________\n",
      "dense_1 (Dense)                 (None, 500)          24500       concatenate_1[0][0]              \n",
      "==================================================================================================\n",
      "Total params: 1,000,052\n",
      "Trainable params: 1,000,052\n",
      "Non-trainable params: 0\n",
      "__________________________________________________________________________________________________\n"
     ]
    }
   ],
   "source": [
    "model.summary()"
   ]
  },
  {
   "cell_type": "code",
   "execution_count": 5,
   "metadata": {},
   "outputs": [
    {
     "data": {
      "image/svg+xml": [
       "<svg height=\"387pt\" viewBox=\"0.00 0.00 684.00 387.00\" width=\"684pt\" xmlns=\"http://www.w3.org/2000/svg\" xmlns:xlink=\"http://www.w3.org/1999/xlink\">\n",
       "<g class=\"graph\" id=\"graph0\" transform=\"scale(1 1) rotate(0) translate(4 383)\">\n",
       "<title>G</title>\n",
       "<polygon fill=\"#ffffff\" points=\"-4,4 -4,-383 680,-383 680,4 -4,4\" stroke=\"transparent\"/>\n",
       "<!-- 140578628792560 -->\n",
       "<g class=\"node\" id=\"node1\">\n",
       "<title>140578628792560</title>\n",
       "<polygon fill=\"none\" points=\"39,-332.5 39,-378.5 290,-378.5 290,-332.5 39,-332.5\" stroke=\"#000000\"/>\n",
       "<text fill=\"#000000\" font-family=\"Times,serif\" font-size=\"14.00\" text-anchor=\"middle\" x=\"91\" y=\"-351.8\">text: InputLayer</text>\n",
       "<polyline fill=\"none\" points=\"143,-332.5 143,-378.5 \" stroke=\"#000000\"/>\n",
       "<text fill=\"#000000\" font-family=\"Times,serif\" font-size=\"14.00\" text-anchor=\"middle\" x=\"170.5\" y=\"-363.3\">input:</text>\n",
       "<polyline fill=\"none\" points=\"143,-355.5 198,-355.5 \" stroke=\"#000000\"/>\n",
       "<text fill=\"#000000\" font-family=\"Times,serif\" font-size=\"14.00\" text-anchor=\"middle\" x=\"170.5\" y=\"-340.3\">output:</text>\n",
       "<polyline fill=\"none\" points=\"198,-332.5 198,-378.5 \" stroke=\"#000000\"/>\n",
       "<text fill=\"#000000\" font-family=\"Times,serif\" font-size=\"14.00\" text-anchor=\"middle\" x=\"244\" y=\"-363.3\">(None, None)</text>\n",
       "<polyline fill=\"none\" points=\"198,-355.5 290,-355.5 \" stroke=\"#000000\"/>\n",
       "<text fill=\"#000000\" font-family=\"Times,serif\" font-size=\"14.00\" text-anchor=\"middle\" x=\"244\" y=\"-340.3\">(None, None)</text>\n",
       "</g>\n",
       "<!-- 140578628792672 -->\n",
       "<g class=\"node\" id=\"node3\">\n",
       "<title>140578628792672</title>\n",
       "<polygon fill=\"none\" points=\"0,-249.5 0,-295.5 329,-295.5 329,-249.5 0,-249.5\" stroke=\"#000000\"/>\n",
       "<text fill=\"#000000\" font-family=\"Times,serif\" font-size=\"14.00\" text-anchor=\"middle\" x=\"80.5\" y=\"-268.8\">embedding_1: Embedding</text>\n",
       "<polyline fill=\"none\" points=\"161,-249.5 161,-295.5 \" stroke=\"#000000\"/>\n",
       "<text fill=\"#000000\" font-family=\"Times,serif\" font-size=\"14.00\" text-anchor=\"middle\" x=\"188.5\" y=\"-280.3\">input:</text>\n",
       "<polyline fill=\"none\" points=\"161,-272.5 216,-272.5 \" stroke=\"#000000\"/>\n",
       "<text fill=\"#000000\" font-family=\"Times,serif\" font-size=\"14.00\" text-anchor=\"middle\" x=\"188.5\" y=\"-257.3\">output:</text>\n",
       "<polyline fill=\"none\" points=\"216,-249.5 216,-295.5 \" stroke=\"#000000\"/>\n",
       "<text fill=\"#000000\" font-family=\"Times,serif\" font-size=\"14.00\" text-anchor=\"middle\" x=\"272.5\" y=\"-280.3\">(None, None)</text>\n",
       "<polyline fill=\"none\" points=\"216,-272.5 329,-272.5 \" stroke=\"#000000\"/>\n",
       "<text fill=\"#000000\" font-family=\"Times,serif\" font-size=\"14.00\" text-anchor=\"middle\" x=\"272.5\" y=\"-257.3\">(None, None, 64)</text>\n",
       "</g>\n",
       "<!-- 140578628792560&#45;&gt;140578628792672 -->\n",
       "<g class=\"edge\" id=\"edge1\">\n",
       "<title>140578628792560-&gt;140578628792672</title>\n",
       "<path d=\"M164.5,-332.3799C164.5,-324.1745 164.5,-314.7679 164.5,-305.8786\" fill=\"none\" stroke=\"#000000\"/>\n",
       "<polygon fill=\"#000000\" points=\"168.0001,-305.784 164.5,-295.784 161.0001,-305.784 168.0001,-305.784\" stroke=\"#000000\"/>\n",
       "</g>\n",
       "<!-- 140581119383704 -->\n",
       "<g class=\"node\" id=\"node2\">\n",
       "<title>140581119383704</title>\n",
       "<polygon fill=\"none\" points=\"373,-332.5 373,-378.5 650,-378.5 650,-332.5 373,-332.5\" stroke=\"#000000\"/>\n",
       "<text fill=\"#000000\" font-family=\"Times,serif\" font-size=\"14.00\" text-anchor=\"middle\" x=\"438\" y=\"-351.8\">question: InputLayer</text>\n",
       "<polyline fill=\"none\" points=\"503,-332.5 503,-378.5 \" stroke=\"#000000\"/>\n",
       "<text fill=\"#000000\" font-family=\"Times,serif\" font-size=\"14.00\" text-anchor=\"middle\" x=\"530.5\" y=\"-363.3\">input:</text>\n",
       "<polyline fill=\"none\" points=\"503,-355.5 558,-355.5 \" stroke=\"#000000\"/>\n",
       "<text fill=\"#000000\" font-family=\"Times,serif\" font-size=\"14.00\" text-anchor=\"middle\" x=\"530.5\" y=\"-340.3\">output:</text>\n",
       "<polyline fill=\"none\" points=\"558,-332.5 558,-378.5 \" stroke=\"#000000\"/>\n",
       "<text fill=\"#000000\" font-family=\"Times,serif\" font-size=\"14.00\" text-anchor=\"middle\" x=\"604\" y=\"-363.3\">(None, None)</text>\n",
       "<polyline fill=\"none\" points=\"558,-355.5 650,-355.5 \" stroke=\"#000000\"/>\n",
       "<text fill=\"#000000\" font-family=\"Times,serif\" font-size=\"14.00\" text-anchor=\"middle\" x=\"604\" y=\"-340.3\">(None, None)</text>\n",
       "</g>\n",
       "<!-- 140578628795808 -->\n",
       "<g class=\"node\" id=\"node4\">\n",
       "<title>140578628795808</title>\n",
       "<polygon fill=\"none\" points=\"347,-249.5 347,-295.5 676,-295.5 676,-249.5 347,-249.5\" stroke=\"#000000\"/>\n",
       "<text fill=\"#000000\" font-family=\"Times,serif\" font-size=\"14.00\" text-anchor=\"middle\" x=\"427.5\" y=\"-268.8\">embedding_2: Embedding</text>\n",
       "<polyline fill=\"none\" points=\"508,-249.5 508,-295.5 \" stroke=\"#000000\"/>\n",
       "<text fill=\"#000000\" font-family=\"Times,serif\" font-size=\"14.00\" text-anchor=\"middle\" x=\"535.5\" y=\"-280.3\">input:</text>\n",
       "<polyline fill=\"none\" points=\"508,-272.5 563,-272.5 \" stroke=\"#000000\"/>\n",
       "<text fill=\"#000000\" font-family=\"Times,serif\" font-size=\"14.00\" text-anchor=\"middle\" x=\"535.5\" y=\"-257.3\">output:</text>\n",
       "<polyline fill=\"none\" points=\"563,-249.5 563,-295.5 \" stroke=\"#000000\"/>\n",
       "<text fill=\"#000000\" font-family=\"Times,serif\" font-size=\"14.00\" text-anchor=\"middle\" x=\"619.5\" y=\"-280.3\">(None, None)</text>\n",
       "<polyline fill=\"none\" points=\"563,-272.5 676,-272.5 \" stroke=\"#000000\"/>\n",
       "<text fill=\"#000000\" font-family=\"Times,serif\" font-size=\"14.00\" text-anchor=\"middle\" x=\"619.5\" y=\"-257.3\">(None, None, 32)</text>\n",
       "</g>\n",
       "<!-- 140581119383704&#45;&gt;140578628795808 -->\n",
       "<g class=\"edge\" id=\"edge2\">\n",
       "<title>140581119383704-&gt;140578628795808</title>\n",
       "<path d=\"M511.5,-332.3799C511.5,-324.1745 511.5,-314.7679 511.5,-305.8786\" fill=\"none\" stroke=\"#000000\"/>\n",
       "<polygon fill=\"#000000\" points=\"515.0001,-305.784 511.5,-295.784 508.0001,-305.784 515.0001,-305.784\" stroke=\"#000000\"/>\n",
       "</g>\n",
       "<!-- 140578628793904 -->\n",
       "<g class=\"node\" id=\"node5\">\n",
       "<title>140578628793904</title>\n",
       "<polygon fill=\"none\" points=\"62.5,-166.5 62.5,-212.5 328.5,-212.5 328.5,-166.5 62.5,-166.5\" stroke=\"#000000\"/>\n",
       "<text fill=\"#000000\" font-family=\"Times,serif\" font-size=\"14.00\" text-anchor=\"middle\" x=\"111.5\" y=\"-185.8\">lstm_1: LSTM</text>\n",
       "<polyline fill=\"none\" points=\"160.5,-166.5 160.5,-212.5 \" stroke=\"#000000\"/>\n",
       "<text fill=\"#000000\" font-family=\"Times,serif\" font-size=\"14.00\" text-anchor=\"middle\" x=\"188\" y=\"-197.3\">input:</text>\n",
       "<polyline fill=\"none\" points=\"160.5,-189.5 215.5,-189.5 \" stroke=\"#000000\"/>\n",
       "<text fill=\"#000000\" font-family=\"Times,serif\" font-size=\"14.00\" text-anchor=\"middle\" x=\"188\" y=\"-174.3\">output:</text>\n",
       "<polyline fill=\"none\" points=\"215.5,-166.5 215.5,-212.5 \" stroke=\"#000000\"/>\n",
       "<text fill=\"#000000\" font-family=\"Times,serif\" font-size=\"14.00\" text-anchor=\"middle\" x=\"272\" y=\"-197.3\">(None, None, 64)</text>\n",
       "<polyline fill=\"none\" points=\"215.5,-189.5 328.5,-189.5 \" stroke=\"#000000\"/>\n",
       "<text fill=\"#000000\" font-family=\"Times,serif\" font-size=\"14.00\" text-anchor=\"middle\" x=\"272\" y=\"-174.3\">(None, 32)</text>\n",
       "</g>\n",
       "<!-- 140578628792672&#45;&gt;140578628793904 -->\n",
       "<g class=\"edge\" id=\"edge3\">\n",
       "<title>140578628792672-&gt;140578628793904</title>\n",
       "<path d=\"M173.1352,-249.3799C176.2665,-240.9962 179.8662,-231.3584 183.2495,-222.2996\" fill=\"none\" stroke=\"#000000\"/>\n",
       "<polygon fill=\"#000000\" points=\"186.5834,-223.3766 186.8036,-212.784 180.0259,-220.9273 186.5834,-223.3766\" stroke=\"#000000\"/>\n",
       "</g>\n",
       "<!-- 140578628795752 -->\n",
       "<g class=\"node\" id=\"node6\">\n",
       "<title>140578628795752</title>\n",
       "<polygon fill=\"none\" points=\"362.5,-166.5 362.5,-212.5 628.5,-212.5 628.5,-166.5 362.5,-166.5\" stroke=\"#000000\"/>\n",
       "<text fill=\"#000000\" font-family=\"Times,serif\" font-size=\"14.00\" text-anchor=\"middle\" x=\"411.5\" y=\"-185.8\">lstm_2: LSTM</text>\n",
       "<polyline fill=\"none\" points=\"460.5,-166.5 460.5,-212.5 \" stroke=\"#000000\"/>\n",
       "<text fill=\"#000000\" font-family=\"Times,serif\" font-size=\"14.00\" text-anchor=\"middle\" x=\"488\" y=\"-197.3\">input:</text>\n",
       "<polyline fill=\"none\" points=\"460.5,-189.5 515.5,-189.5 \" stroke=\"#000000\"/>\n",
       "<text fill=\"#000000\" font-family=\"Times,serif\" font-size=\"14.00\" text-anchor=\"middle\" x=\"488\" y=\"-174.3\">output:</text>\n",
       "<polyline fill=\"none\" points=\"515.5,-166.5 515.5,-212.5 \" stroke=\"#000000\"/>\n",
       "<text fill=\"#000000\" font-family=\"Times,serif\" font-size=\"14.00\" text-anchor=\"middle\" x=\"572\" y=\"-197.3\">(None, None, 32)</text>\n",
       "<polyline fill=\"none\" points=\"515.5,-189.5 628.5,-189.5 \" stroke=\"#000000\"/>\n",
       "<text fill=\"#000000\" font-family=\"Times,serif\" font-size=\"14.00\" text-anchor=\"middle\" x=\"572\" y=\"-174.3\">(None, 16)</text>\n",
       "</g>\n",
       "<!-- 140578628795808&#45;&gt;140578628795752 -->\n",
       "<g class=\"edge\" id=\"edge4\">\n",
       "<title>140578628795808-&gt;140578628795752</title>\n",
       "<path d=\"M507.0431,-249.3799C505.4614,-241.1745 503.648,-231.7679 501.9344,-222.8786\" fill=\"none\" stroke=\"#000000\"/>\n",
       "<polygon fill=\"#000000\" points=\"505.3182,-221.9407 499.9885,-212.784 498.4447,-223.2658 505.3182,-221.9407\" stroke=\"#000000\"/>\n",
       "</g>\n",
       "<!-- 140578590535240 -->\n",
       "<g class=\"node\" id=\"node7\">\n",
       "<title>140578590535240</title>\n",
       "<polygon fill=\"none\" points=\"150,-83.5 150,-129.5 525,-129.5 525,-83.5 150,-83.5\" stroke=\"#000000\"/>\n",
       "<text fill=\"#000000\" font-family=\"Times,serif\" font-size=\"14.00\" text-anchor=\"middle\" x=\"234\" y=\"-102.8\">concatenate_1: Concatenate</text>\n",
       "<polyline fill=\"none\" points=\"318,-83.5 318,-129.5 \" stroke=\"#000000\"/>\n",
       "<text fill=\"#000000\" font-family=\"Times,serif\" font-size=\"14.00\" text-anchor=\"middle\" x=\"345.5\" y=\"-114.3\">input:</text>\n",
       "<polyline fill=\"none\" points=\"318,-106.5 373,-106.5 \" stroke=\"#000000\"/>\n",
       "<text fill=\"#000000\" font-family=\"Times,serif\" font-size=\"14.00\" text-anchor=\"middle\" x=\"345.5\" y=\"-91.3\">output:</text>\n",
       "<polyline fill=\"none\" points=\"373,-83.5 373,-129.5 \" stroke=\"#000000\"/>\n",
       "<text fill=\"#000000\" font-family=\"Times,serif\" font-size=\"14.00\" text-anchor=\"middle\" x=\"449\" y=\"-114.3\">[(None, 32), (None, 16)]</text>\n",
       "<polyline fill=\"none\" points=\"373,-106.5 525,-106.5 \" stroke=\"#000000\"/>\n",
       "<text fill=\"#000000\" font-family=\"Times,serif\" font-size=\"14.00\" text-anchor=\"middle\" x=\"449\" y=\"-91.3\">(None, 48)</text>\n",
       "</g>\n",
       "<!-- 140578628793904&#45;&gt;140578590535240 -->\n",
       "<g class=\"edge\" id=\"edge5\">\n",
       "<title>140578628793904-&gt;140578590535240</title>\n",
       "<path d=\"M235.0549,-166.3799C251.6869,-156.6583 271.2039,-145.2505 288.7158,-135.0147\" fill=\"none\" stroke=\"#000000\"/>\n",
       "<polygon fill=\"#000000\" points=\"290.7975,-137.852 297.6647,-129.784 287.2651,-131.8086 290.7975,-137.852\" stroke=\"#000000\"/>\n",
       "</g>\n",
       "<!-- 140578628795752&#45;&gt;140578590535240 -->\n",
       "<g class=\"edge\" id=\"edge6\">\n",
       "<title>140578628795752-&gt;140578590535240</title>\n",
       "<path d=\"M451.4882,-166.3799C432.5634,-156.4384 410.2816,-144.7334 390.4618,-134.3217\" fill=\"none\" stroke=\"#000000\"/>\n",
       "<polygon fill=\"#000000\" points=\"392.0301,-131.192 381.5495,-129.6399 388.7747,-137.389 392.0301,-131.192\" stroke=\"#000000\"/>\n",
       "</g>\n",
       "<!-- 140578590786952 -->\n",
       "<g class=\"node\" id=\"node8\">\n",
       "<title>140578590786952</title>\n",
       "<polygon fill=\"none\" points=\"217.5,-.5 217.5,-46.5 457.5,-46.5 457.5,-.5 217.5,-.5\" stroke=\"#000000\"/>\n",
       "<text fill=\"#000000\" font-family=\"Times,serif\" font-size=\"14.00\" text-anchor=\"middle\" x=\"268.5\" y=\"-19.8\">dense_1: Dense</text>\n",
       "<polyline fill=\"none\" points=\"319.5,-.5 319.5,-46.5 \" stroke=\"#000000\"/>\n",
       "<text fill=\"#000000\" font-family=\"Times,serif\" font-size=\"14.00\" text-anchor=\"middle\" x=\"347\" y=\"-31.3\">input:</text>\n",
       "<polyline fill=\"none\" points=\"319.5,-23.5 374.5,-23.5 \" stroke=\"#000000\"/>\n",
       "<text fill=\"#000000\" font-family=\"Times,serif\" font-size=\"14.00\" text-anchor=\"middle\" x=\"347\" y=\"-8.3\">output:</text>\n",
       "<polyline fill=\"none\" points=\"374.5,-.5 374.5,-46.5 \" stroke=\"#000000\"/>\n",
       "<text fill=\"#000000\" font-family=\"Times,serif\" font-size=\"14.00\" text-anchor=\"middle\" x=\"416\" y=\"-31.3\">(None, 48)</text>\n",
       "<polyline fill=\"none\" points=\"374.5,-23.5 457.5,-23.5 \" stroke=\"#000000\"/>\n",
       "<text fill=\"#000000\" font-family=\"Times,serif\" font-size=\"14.00\" text-anchor=\"middle\" x=\"416\" y=\"-8.3\">(None, 500)</text>\n",
       "</g>\n",
       "<!-- 140578590535240&#45;&gt;140578590786952 -->\n",
       "<g class=\"edge\" id=\"edge7\">\n",
       "<title>140578590535240-&gt;140578590786952</title>\n",
       "<path d=\"M337.5,-83.3799C337.5,-75.1745 337.5,-65.7679 337.5,-56.8786\" fill=\"none\" stroke=\"#000000\"/>\n",
       "<polygon fill=\"#000000\" points=\"341.0001,-56.784 337.5,-46.784 334.0001,-56.784 341.0001,-56.784\" stroke=\"#000000\"/>\n",
       "</g>\n",
       "</g>\n",
       "</svg>"
      ],
      "text/plain": [
       "<IPython.core.display.SVG object>"
      ]
     },
     "metadata": {},
     "output_type": "display_data"
    }
   ],
   "source": [
    "show_model(model)"
   ]
  },
  {
   "cell_type": "code",
   "execution_count": 6,
   "metadata": {},
   "outputs": [],
   "source": [
    "NUM_SAMPLES = 1000\n",
    "MAXLEN = 100\n",
    "\n",
    "text = np.random.randint(1, TEXT_VOCAB_SIZE, size=(NUM_SAMPLES, MAXLEN))\n",
    "question = np.random.randint(1, QUESTION_VOCAB_SIZE, size=(NUM_SAMPLES, MAXLEN))\n",
    "answers = np.random.randint(ANSWER_VOCAB_SIZE, size=(NUM_SAMPLES))\n",
    "answers = to_categorical(answers, ANSWER_VOCAB_SIZE)"
   ]
  },
  {
   "cell_type": "code",
   "execution_count": 7,
   "metadata": {},
   "outputs": [
    {
     "name": "stdout",
     "output_type": "stream",
     "text": [
      "WARNING:tensorflow:From /home/nex3z/dev/miniconda3/envs/tf/lib/python3.6/site-packages/tensorflow/python/ops/math_ops.py:3066: to_int32 (from tensorflow.python.ops.math_ops) is deprecated and will be removed in a future version.\n",
      "Instructions for updating:\n",
      "Use tf.cast instead.\n",
      "Epoch 1/5\n",
      " - 3s - loss: 6.2145 - acc: 1.0000e-03\n",
      "Epoch 2/5\n",
      " - 1s - loss: 6.2066 - acc: 0.0370\n",
      "Epoch 3/5\n",
      " - 1s - loss: 6.1666 - acc: 0.0060\n",
      "Epoch 4/5\n",
      " - 1s - loss: 6.1050 - acc: 0.0040\n",
      "Epoch 5/5\n",
      " - 1s - loss: 6.0586 - acc: 0.0040\n"
     ]
    }
   ],
   "source": [
    "# history = model.fit([text, question], answers, epochs=10, batch_size=128)\n",
    "history = model.fit(\n",
    "    {'text': text, 'question': question}, answers, \n",
    "    epochs=5, batch_size=128, verbose=2\n",
    ")"
   ]
  }
 ],
 "metadata": {
  "kernelspec": {
   "display_name": "Python 3",
   "language": "python",
   "name": "python3"
  },
  "language_info": {
   "codemirror_mode": {
    "name": "ipython",
    "version": 3
   },
   "file_extension": ".py",
   "mimetype": "text/x-python",
   "name": "python",
   "nbconvert_exporter": "python",
   "pygments_lexer": "ipython3",
   "version": "3.6.8"
  }
 },
 "nbformat": 4,
 "nbformat_minor": 2
}

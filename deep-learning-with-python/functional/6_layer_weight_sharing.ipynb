{
 "cells": [
  {
   "cell_type": "code",
   "execution_count": 1,
   "metadata": {},
   "outputs": [
    {
     "name": "stderr",
     "output_type": "stream",
     "text": [
      "Using TensorFlow backend.\n"
     ]
    }
   ],
   "source": [
    "from keras import Input\n",
    "from keras.layers import LSTM, Dense, concatenate\n",
    "from keras.models import Model\n",
    "from plot_util import show_model"
   ]
  },
  {
   "cell_type": "code",
   "execution_count": 2,
   "metadata": {},
   "outputs": [
    {
     "name": "stdout",
     "output_type": "stream",
     "text": [
      "WARNING:tensorflow:From /home/nex3z/dev/miniconda3/envs/tf/lib/python3.6/site-packages/tensorflow/python/framework/op_def_library.py:263: colocate_with (from tensorflow.python.framework.ops) is deprecated and will be removed in a future version.\n",
      "Instructions for updating:\n",
      "Colocations handled automatically by placer.\n"
     ]
    }
   ],
   "source": [
    "lstm = LSTM(32)\n",
    "\n",
    "left_input = Input(shape=(None, 128))\n",
    "left_output = lstm(left_input)\n",
    "\n",
    "right_input = Input(shape=(None, 128))\n",
    "right_output = lstm(right_input)\n",
    "\n",
    "merged = concatenate([left_output, right_output], axis=-1)\n",
    "predictions = Dense(1, activation='sigmoid')(merged)\n",
    "\n",
    "model = Model([left_input, right_input], predictions)"
   ]
  },
  {
   "cell_type": "code",
   "execution_count": 3,
   "metadata": {},
   "outputs": [
    {
     "data": {
      "image/svg+xml": [
       "<svg height=\"304pt\" viewBox=\"0.00 0.00 624.00 304.00\" width=\"624pt\" xmlns=\"http://www.w3.org/2000/svg\" xmlns:xlink=\"http://www.w3.org/1999/xlink\">\n",
       "<g class=\"graph\" id=\"graph0\" transform=\"scale(1 1) rotate(0) translate(4 300)\">\n",
       "<title>G</title>\n",
       "<polygon fill=\"#ffffff\" points=\"-4,4 -4,-300 620,-300 620,4 -4,4\" stroke=\"transparent\"/>\n",
       "<!-- 140147015473360 -->\n",
       "<g class=\"node\" id=\"node1\">\n",
       "<title>140147015473360</title>\n",
       "<polygon fill=\"none\" points=\"0,-249.5 0,-295.5 299,-295.5 299,-249.5 0,-249.5\" stroke=\"#000000\"/>\n",
       "<text fill=\"#000000\" font-family=\"Times,serif\" font-size=\"14.00\" text-anchor=\"middle\" x=\"62.5\" y=\"-268.8\">input_1: InputLayer</text>\n",
       "<polyline fill=\"none\" points=\"125,-249.5 125,-295.5 \" stroke=\"#000000\"/>\n",
       "<text fill=\"#000000\" font-family=\"Times,serif\" font-size=\"14.00\" text-anchor=\"middle\" x=\"152.5\" y=\"-280.3\">input:</text>\n",
       "<polyline fill=\"none\" points=\"125,-272.5 180,-272.5 \" stroke=\"#000000\"/>\n",
       "<text fill=\"#000000\" font-family=\"Times,serif\" font-size=\"14.00\" text-anchor=\"middle\" x=\"152.5\" y=\"-257.3\">output:</text>\n",
       "<polyline fill=\"none\" points=\"180,-249.5 180,-295.5 \" stroke=\"#000000\"/>\n",
       "<text fill=\"#000000\" font-family=\"Times,serif\" font-size=\"14.00\" text-anchor=\"middle\" x=\"239.5\" y=\"-280.3\">(None, None, 128)</text>\n",
       "<polyline fill=\"none\" points=\"180,-272.5 299,-272.5 \" stroke=\"#000000\"/>\n",
       "<text fill=\"#000000\" font-family=\"Times,serif\" font-size=\"14.00\" text-anchor=\"middle\" x=\"239.5\" y=\"-257.3\">(None, None, 128)</text>\n",
       "</g>\n",
       "<!-- 140147015473416 -->\n",
       "<g class=\"node\" id=\"node3\">\n",
       "<title>140147015473416</title>\n",
       "<polygon fill=\"none\" points=\"171.5,-166.5 171.5,-212.5 443.5,-212.5 443.5,-166.5 171.5,-166.5\" stroke=\"#000000\"/>\n",
       "<text fill=\"#000000\" font-family=\"Times,serif\" font-size=\"14.00\" text-anchor=\"middle\" x=\"220.5\" y=\"-185.8\">lstm_1: LSTM</text>\n",
       "<polyline fill=\"none\" points=\"269.5,-166.5 269.5,-212.5 \" stroke=\"#000000\"/>\n",
       "<text fill=\"#000000\" font-family=\"Times,serif\" font-size=\"14.00\" text-anchor=\"middle\" x=\"297\" y=\"-197.3\">input:</text>\n",
       "<polyline fill=\"none\" points=\"269.5,-189.5 324.5,-189.5 \" stroke=\"#000000\"/>\n",
       "<text fill=\"#000000\" font-family=\"Times,serif\" font-size=\"14.00\" text-anchor=\"middle\" x=\"297\" y=\"-174.3\">output:</text>\n",
       "<polyline fill=\"none\" points=\"324.5,-166.5 324.5,-212.5 \" stroke=\"#000000\"/>\n",
       "<text fill=\"#000000\" font-family=\"Times,serif\" font-size=\"14.00\" text-anchor=\"middle\" x=\"384\" y=\"-197.3\">(None, None, 128)</text>\n",
       "<polyline fill=\"none\" points=\"324.5,-189.5 443.5,-189.5 \" stroke=\"#000000\"/>\n",
       "<text fill=\"#000000\" font-family=\"Times,serif\" font-size=\"14.00\" text-anchor=\"middle\" x=\"384\" y=\"-174.3\">(None, 32)</text>\n",
       "</g>\n",
       "<!-- 140147015473360&#45;&gt;140147015473416 -->\n",
       "<g class=\"edge\" id=\"edge1\">\n",
       "<title>140147015473360-&gt;140147015473416</title>\n",
       "<path d=\"M193.5118,-249.3799C212.4366,-239.4384 234.7184,-227.7334 254.5382,-217.3217\" fill=\"none\" stroke=\"#000000\"/>\n",
       "<polygon fill=\"#000000\" points=\"256.2253,-220.389 263.4505,-212.6399 252.9699,-214.192 256.2253,-220.389\" stroke=\"#000000\"/>\n",
       "</g>\n",
       "<!-- 140147015474648 -->\n",
       "<g class=\"node\" id=\"node2\">\n",
       "<title>140147015474648</title>\n",
       "<polygon fill=\"none\" points=\"317,-249.5 317,-295.5 616,-295.5 616,-249.5 317,-249.5\" stroke=\"#000000\"/>\n",
       "<text fill=\"#000000\" font-family=\"Times,serif\" font-size=\"14.00\" text-anchor=\"middle\" x=\"379.5\" y=\"-268.8\">input_2: InputLayer</text>\n",
       "<polyline fill=\"none\" points=\"442,-249.5 442,-295.5 \" stroke=\"#000000\"/>\n",
       "<text fill=\"#000000\" font-family=\"Times,serif\" font-size=\"14.00\" text-anchor=\"middle\" x=\"469.5\" y=\"-280.3\">input:</text>\n",
       "<polyline fill=\"none\" points=\"442,-272.5 497,-272.5 \" stroke=\"#000000\"/>\n",
       "<text fill=\"#000000\" font-family=\"Times,serif\" font-size=\"14.00\" text-anchor=\"middle\" x=\"469.5\" y=\"-257.3\">output:</text>\n",
       "<polyline fill=\"none\" points=\"497,-249.5 497,-295.5 \" stroke=\"#000000\"/>\n",
       "<text fill=\"#000000\" font-family=\"Times,serif\" font-size=\"14.00\" text-anchor=\"middle\" x=\"556.5\" y=\"-280.3\">(None, None, 128)</text>\n",
       "<polyline fill=\"none\" points=\"497,-272.5 616,-272.5 \" stroke=\"#000000\"/>\n",
       "<text fill=\"#000000\" font-family=\"Times,serif\" font-size=\"14.00\" text-anchor=\"middle\" x=\"556.5\" y=\"-257.3\">(None, None, 128)</text>\n",
       "</g>\n",
       "<!-- 140147015474648&#45;&gt;140147015473416 -->\n",
       "<g class=\"edge\" id=\"edge2\">\n",
       "<title>140147015474648-&gt;140147015473416</title>\n",
       "<path d=\"M422.2096,-249.3799C403.1651,-239.4384 380.7423,-227.7334 360.797,-217.3217\" fill=\"none\" stroke=\"#000000\"/>\n",
       "<polygon fill=\"#000000\" points=\"362.3129,-214.1649 351.8283,-212.6399 359.0735,-220.3703 362.3129,-214.1649\" stroke=\"#000000\"/>\n",
       "</g>\n",
       "<!-- 140147002672464 -->\n",
       "<g class=\"node\" id=\"node4\">\n",
       "<title>140147002672464</title>\n",
       "<polygon fill=\"none\" points=\"120,-83.5 120,-129.5 495,-129.5 495,-83.5 120,-83.5\" stroke=\"#000000\"/>\n",
       "<text fill=\"#000000\" font-family=\"Times,serif\" font-size=\"14.00\" text-anchor=\"middle\" x=\"204\" y=\"-102.8\">concatenate_1: Concatenate</text>\n",
       "<polyline fill=\"none\" points=\"288,-83.5 288,-129.5 \" stroke=\"#000000\"/>\n",
       "<text fill=\"#000000\" font-family=\"Times,serif\" font-size=\"14.00\" text-anchor=\"middle\" x=\"315.5\" y=\"-114.3\">input:</text>\n",
       "<polyline fill=\"none\" points=\"288,-106.5 343,-106.5 \" stroke=\"#000000\"/>\n",
       "<text fill=\"#000000\" font-family=\"Times,serif\" font-size=\"14.00\" text-anchor=\"middle\" x=\"315.5\" y=\"-91.3\">output:</text>\n",
       "<polyline fill=\"none\" points=\"343,-83.5 343,-129.5 \" stroke=\"#000000\"/>\n",
       "<text fill=\"#000000\" font-family=\"Times,serif\" font-size=\"14.00\" text-anchor=\"middle\" x=\"419\" y=\"-114.3\">[(None, 32), (None, 32)]</text>\n",
       "<polyline fill=\"none\" points=\"343,-106.5 495,-106.5 \" stroke=\"#000000\"/>\n",
       "<text fill=\"#000000\" font-family=\"Times,serif\" font-size=\"14.00\" text-anchor=\"middle\" x=\"419\" y=\"-91.3\">(None, 64)</text>\n",
       "</g>\n",
       "<!-- 140147015473416&#45;&gt;140147002672464 -->\n",
       "<g class=\"edge\" id=\"edge3\">\n",
       "<title>140147015473416-&gt;140147002672464</title>\n",
       "<path d=\"M307.5,-166.3799C307.5,-158.1745 307.5,-148.7679 307.5,-139.8786\" fill=\"none\" stroke=\"#000000\"/>\n",
       "<polygon fill=\"#000000\" points=\"311.0001,-139.784 307.5,-129.784 304.0001,-139.784 311.0001,-139.784\" stroke=\"#000000\"/>\n",
       "</g>\n",
       "<!-- 140147003065232 -->\n",
       "<g class=\"node\" id=\"node5\">\n",
       "<title>140147003065232</title>\n",
       "<polygon fill=\"none\" points=\"191,-.5 191,-46.5 424,-46.5 424,-.5 191,-.5\" stroke=\"#000000\"/>\n",
       "<text fill=\"#000000\" font-family=\"Times,serif\" font-size=\"14.00\" text-anchor=\"middle\" x=\"242\" y=\"-19.8\">dense_1: Dense</text>\n",
       "<polyline fill=\"none\" points=\"293,-.5 293,-46.5 \" stroke=\"#000000\"/>\n",
       "<text fill=\"#000000\" font-family=\"Times,serif\" font-size=\"14.00\" text-anchor=\"middle\" x=\"320.5\" y=\"-31.3\">input:</text>\n",
       "<polyline fill=\"none\" points=\"293,-23.5 348,-23.5 \" stroke=\"#000000\"/>\n",
       "<text fill=\"#000000\" font-family=\"Times,serif\" font-size=\"14.00\" text-anchor=\"middle\" x=\"320.5\" y=\"-8.3\">output:</text>\n",
       "<polyline fill=\"none\" points=\"348,-.5 348,-46.5 \" stroke=\"#000000\"/>\n",
       "<text fill=\"#000000\" font-family=\"Times,serif\" font-size=\"14.00\" text-anchor=\"middle\" x=\"386\" y=\"-31.3\">(None, 64)</text>\n",
       "<polyline fill=\"none\" points=\"348,-23.5 424,-23.5 \" stroke=\"#000000\"/>\n",
       "<text fill=\"#000000\" font-family=\"Times,serif\" font-size=\"14.00\" text-anchor=\"middle\" x=\"386\" y=\"-8.3\">(None, 1)</text>\n",
       "</g>\n",
       "<!-- 140147002672464&#45;&gt;140147003065232 -->\n",
       "<g class=\"edge\" id=\"edge5\">\n",
       "<title>140147002672464-&gt;140147003065232</title>\n",
       "<path d=\"M307.5,-83.3799C307.5,-75.1745 307.5,-65.7679 307.5,-56.8786\" fill=\"none\" stroke=\"#000000\"/>\n",
       "<polygon fill=\"#000000\" points=\"311.0001,-56.784 307.5,-46.784 304.0001,-56.784 311.0001,-56.784\" stroke=\"#000000\"/>\n",
       "</g>\n",
       "</g>\n",
       "</svg>"
      ],
      "text/plain": [
       "<IPython.core.display.SVG object>"
      ]
     },
     "metadata": {},
     "output_type": "display_data"
    }
   ],
   "source": [
    "show_model(model)"
   ]
  }
 ],
 "metadata": {
  "kernelspec": {
   "display_name": "Python 3",
   "language": "python",
   "name": "python3"
  },
  "language_info": {
   "codemirror_mode": {
    "name": "ipython",
    "version": 3
   },
   "file_extension": ".py",
   "mimetype": "text/x-python",
   "name": "python",
   "nbconvert_exporter": "python",
   "pygments_lexer": "ipython3",
   "version": "3.6.8"
  }
 },
 "nbformat": 4,
 "nbformat_minor": 2
}

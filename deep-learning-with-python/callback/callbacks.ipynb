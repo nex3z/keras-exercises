{
 "cells": [
  {
   "cell_type": "code",
   "execution_count": 1,
   "metadata": {},
   "outputs": [
    {
     "name": "stderr",
     "output_type": "stream",
     "text": [
      "Using TensorFlow backend.\n"
     ]
    }
   ],
   "source": [
    "import numpy as np\n",
    "from keras.datasets import mnist\n",
    "from keras.utils import to_categorical\n",
    "from keras.layers import Dense\n",
    "from keras.regularizers import l2\n",
    "from keras.models import Sequential, Model\n",
    "from keras.callbacks import EarlyStopping, ModelCheckpoint, ReduceLROnPlateau, Callback"
   ]
  },
  {
   "cell_type": "code",
   "execution_count": 2,
   "metadata": {},
   "outputs": [],
   "source": [
    "NUM_CLASSES = 10"
   ]
  },
  {
   "cell_type": "code",
   "execution_count": 3,
   "metadata": {},
   "outputs": [],
   "source": [
    "(train_x, train_y), (test_x, test_y) = mnist.load_data()"
   ]
  },
  {
   "cell_type": "code",
   "execution_count": 4,
   "metadata": {},
   "outputs": [
    {
     "data": {
      "text/plain": [
       "(60000, 28, 28)"
      ]
     },
     "execution_count": 4,
     "metadata": {},
     "output_type": "execute_result"
    }
   ],
   "source": [
    "train_x.shape"
   ]
  },
  {
   "cell_type": "code",
   "execution_count": 5,
   "metadata": {},
   "outputs": [],
   "source": [
    "train_x = train_x.reshape(train_x.shape[0], -1)\n",
    "train_x = train_x / 255.0\n",
    "train_y = to_categorical(train_y, NUM_CLASSES)"
   ]
  },
  {
   "cell_type": "code",
   "execution_count": 6,
   "metadata": {},
   "outputs": [],
   "source": [
    "def build_model():\n",
    "    model = Sequential()\n",
    "    model.add(Dense(500, activation='relu', kernel_regularizer=l2(0.001), input_shape=(784,)))\n",
    "    model.add(Dense(NUM_CLASSES, activation='softmax'))\n",
    "    model.compile(optimizer='rmsprop', loss='categorical_crossentropy', metrics=['accuracy'])\n",
    "    return model"
   ]
  },
  {
   "cell_type": "code",
   "execution_count": 7,
   "metadata": {},
   "outputs": [
    {
     "name": "stdout",
     "output_type": "stream",
     "text": [
      "WARNING:tensorflow:From /home/nex3z/dev/miniconda3/envs/tf/lib/python3.6/site-packages/tensorflow/python/framework/op_def_library.py:263: colocate_with (from tensorflow.python.framework.ops) is deprecated and will be removed in a future version.\n",
      "Instructions for updating:\n",
      "Colocations handled automatically by placer.\n",
      "WARNING:tensorflow:From /home/nex3z/dev/miniconda3/envs/tf/lib/python3.6/site-packages/tensorflow/python/ops/math_ops.py:3066: to_int32 (from tensorflow.python.ops.math_ops) is deprecated and will be removed in a future version.\n",
      "Instructions for updating:\n",
      "Use tf.cast instead.\n",
      "Train on 48000 samples, validate on 12000 samples\n",
      "Epoch 1/20\n",
      " - 2s - loss: 0.5309 - acc: 0.9123 - val_loss: 0.3094 - val_acc: 0.9510\n",
      "Epoch 2/20\n",
      " - 1s - loss: 0.2664 - acc: 0.9547 - val_loss: 0.2185 - val_acc: 0.9637\n",
      "Epoch 3/20\n",
      " - 1s - loss: 0.2115 - acc: 0.9642 - val_loss: 0.1979 - val_acc: 0.9659\n",
      "Epoch 4/20\n",
      " - 1s - loss: 0.1881 - acc: 0.9675 - val_loss: 0.1864 - val_acc: 0.9672\n",
      "Epoch 5/20\n",
      " - 1s - loss: 0.1731 - acc: 0.9703 - val_loss: 0.1837 - val_acc: 0.9658\n",
      "Epoch 6/20\n",
      " - 1s - loss: 0.1638 - acc: 0.9718 - val_loss: 0.1905 - val_acc: 0.9628\n",
      "Epoch 7/20\n",
      " - 1s - loss: 0.1585 - acc: 0.9726 - val_loss: 0.1566 - val_acc: 0.9740\n",
      "Epoch 8/20\n",
      " - 1s - loss: 0.1506 - acc: 0.9744 - val_loss: 0.1618 - val_acc: 0.9716\n",
      "Epoch 9/20\n",
      " - 1s - loss: 0.1464 - acc: 0.9754 - val_loss: 0.1522 - val_acc: 0.9733\n",
      "Epoch 10/20\n",
      " - 1s - loss: 0.1421 - acc: 0.9757 - val_loss: 0.1515 - val_acc: 0.9744\n",
      "Epoch 11/20\n",
      " - 1s - loss: 0.1387 - acc: 0.9762 - val_loss: 0.1647 - val_acc: 0.9687\n",
      "Epoch 12/20\n",
      " - 1s - loss: 0.1359 - acc: 0.9770 - val_loss: 0.1867 - val_acc: 0.9608\n",
      "Epoch 13/20\n",
      " - 1s - loss: 0.1345 - acc: 0.9776 - val_loss: 0.1845 - val_acc: 0.9613\n",
      "Epoch 14/20\n",
      " - 1s - loss: 0.1312 - acc: 0.9783 - val_loss: 0.1461 - val_acc: 0.9740\n",
      "Epoch 15/20\n",
      " - 1s - loss: 0.1273 - acc: 0.9792 - val_loss: 0.1419 - val_acc: 0.9746\n",
      "Epoch 16/20\n",
      " - 1s - loss: 0.1257 - acc: 0.9789 - val_loss: 0.1540 - val_acc: 0.9718\n"
     ]
    }
   ],
   "source": [
    "model = build_model()\n",
    "\n",
    "callbacks = [\n",
    "    EarlyStopping(monitor='acc', patience=1),\n",
    "    ModelCheckpoint(filepath='model.h5', monitor='val_loss', save_best_only=True)\n",
    "]\n",
    "\n",
    "history = model.fit(\n",
    "    train_x, train_y, batch_size=128, epochs=20, validation_split=0.2, \n",
    "    callbacks=callbacks, verbose=2\n",
    ")"
   ]
  },
  {
   "cell_type": "code",
   "execution_count": 8,
   "metadata": {},
   "outputs": [
    {
     "name": "stdout",
     "output_type": "stream",
     "text": [
      "Train on 48000 samples, validate on 12000 samples\n",
      "Epoch 1/20\n",
      " - 1s - loss: 0.5294 - acc: 0.9109 - val_loss: 0.3112 - val_acc: 0.9488\n",
      "Epoch 2/20\n",
      " - 1s - loss: 0.2684 - acc: 0.9547 - val_loss: 0.2411 - val_acc: 0.9582\n",
      "Epoch 3/20\n",
      " - 1s - loss: 0.2124 - acc: 0.9621 - val_loss: 0.2013 - val_acc: 0.9642\n",
      "Epoch 4/20\n",
      " - 1s - loss: 0.1878 - acc: 0.9678 - val_loss: 0.1769 - val_acc: 0.9682\n",
      "Epoch 5/20\n",
      " - 1s - loss: 0.1737 - acc: 0.9695 - val_loss: 0.1742 - val_acc: 0.9684\n",
      "Epoch 6/20\n",
      " - 1s - loss: 0.1642 - acc: 0.9712 - val_loss: 0.1873 - val_acc: 0.9621\n",
      "Epoch 7/20\n",
      " - 1s - loss: 0.1574 - acc: 0.9732 - val_loss: 0.1626 - val_acc: 0.9692\n",
      "Epoch 8/20\n",
      " - 1s - loss: 0.1514 - acc: 0.9741 - val_loss: 0.1592 - val_acc: 0.9724\n",
      "Epoch 9/20\n",
      " - 1s - loss: 0.1467 - acc: 0.9755 - val_loss: 0.1589 - val_acc: 0.9715\n",
      "Epoch 10/20\n",
      " - 1s - loss: 0.1418 - acc: 0.9758 - val_loss: 0.1523 - val_acc: 0.9725\n",
      "Epoch 11/20\n",
      " - 1s - loss: 0.1386 - acc: 0.9765 - val_loss: 0.1619 - val_acc: 0.9712\n",
      "Epoch 12/20\n",
      " - 1s - loss: 0.1356 - acc: 0.9768 - val_loss: 0.1444 - val_acc: 0.9748\n",
      "Epoch 13/20\n",
      " - 1s - loss: 0.1335 - acc: 0.9774 - val_loss: 0.1370 - val_acc: 0.9759\n",
      "Epoch 14/20\n",
      " - 1s - loss: 0.1301 - acc: 0.9783 - val_loss: 0.1467 - val_acc: 0.9743\n",
      "Epoch 15/20\n",
      " - 1s - loss: 0.1270 - acc: 0.9792 - val_loss: 0.1538 - val_acc: 0.9720\n",
      "\n",
      "Epoch 00015: ReduceLROnPlateau reducing learning rate to 0.00010000000474974513.\n",
      "Epoch 16/20\n",
      " - 1s - loss: 0.0899 - acc: 0.9903 - val_loss: 0.1156 - val_acc: 0.9814\n",
      "Epoch 17/20\n",
      " - 1s - loss: 0.0804 - acc: 0.9922 - val_loss: 0.1104 - val_acc: 0.9824\n",
      "Epoch 18/20\n",
      " - 1s - loss: 0.0761 - acc: 0.9933 - val_loss: 0.1066 - val_acc: 0.9823\n",
      "Epoch 19/20\n",
      " - 1s - loss: 0.0735 - acc: 0.9938 - val_loss: 0.1058 - val_acc: 0.9820\n",
      "Epoch 20/20\n",
      " - 1s - loss: 0.0716 - acc: 0.9940 - val_loss: 0.1027 - val_acc: 0.9817\n"
     ]
    }
   ],
   "source": [
    "model = build_model()\n",
    "\n",
    "callbacks = [\n",
    "    ReduceLROnPlateau(monitor='val_loss', factor=0.1, patience=2, verbose=1),\n",
    "]\n",
    "\n",
    "history = model.fit(\n",
    "    train_x, train_y, batch_size=128, epochs=20, validation_split=0.2, \n",
    "    callbacks=callbacks, verbose=2\n",
    ")"
   ]
  },
  {
   "cell_type": "code",
   "execution_count": 9,
   "metadata": {},
   "outputs": [
    {
     "name": "stdout",
     "output_type": "stream",
     "text": [
      "Train on 48000 samples, validate on 12000 samples\n",
      "Epoch 1/10\n",
      " - 1s - loss: 0.5379 - acc: 0.9092 - val_loss: 0.3223 - val_acc: 0.9469\n",
      "Epoch 2/10\n",
      " - 1s - loss: 0.2708 - acc: 0.9541 - val_loss: 0.2339 - val_acc: 0.9593\n",
      "Epoch 3/10\n",
      " - 1s - loss: 0.2126 - acc: 0.9634 - val_loss: 0.1920 - val_acc: 0.9658\n",
      "Epoch 4/10\n",
      " - 1s - loss: 0.1874 - acc: 0.9672 - val_loss: 0.1766 - val_acc: 0.9681\n",
      "Epoch 5/10\n",
      " - 1s - loss: 0.1723 - acc: 0.9704 - val_loss: 0.1778 - val_acc: 0.9685\n",
      "Epoch 6/10\n",
      " - 1s - loss: 0.1637 - acc: 0.9720 - val_loss: 0.1638 - val_acc: 0.9704\n",
      "Epoch 7/10\n",
      " - 1s - loss: 0.1563 - acc: 0.9729 - val_loss: 0.1609 - val_acc: 0.9715\n",
      "Epoch 8/10\n",
      " - 1s - loss: 0.1503 - acc: 0.9751 - val_loss: 0.1709 - val_acc: 0.9659\n",
      "Epoch 9/10\n",
      " - 1s - loss: 0.1458 - acc: 0.9755 - val_loss: 0.1507 - val_acc: 0.9736\n",
      "Epoch 10/10\n",
      " - 1s - loss: 0.1415 - acc: 0.9760 - val_loss: 0.1625 - val_acc: 0.9714\n"
     ]
    }
   ],
   "source": [
    "class ActivationLogger(Callback):\n",
    "    def set_model(self, model):\n",
    "        self.model = model\n",
    "        layer_outputs = [layer.output for layer in model.layers]\n",
    "        self.activations_model = Model(model.input, layer_outputs)\n",
    "        \n",
    "    def on_epoch_end(self, epoch, logs=None):\n",
    "        if self.validation_data is None:\n",
    "            raise RuntimeError('Requires valid validation_data.')\n",
    "        validation_sample = self.validation_data[0][0:1]\n",
    "        activations = self.activations_model.predict(validation_sample)\n",
    "        with open('activations_at_epohc_{}.npz'.format(epoch), 'wb') as f:\n",
    "            np.savez(f, *activations)\n",
    "\n",
    "model = build_model()\n",
    "\n",
    "callbacks = [\n",
    "    ActivationLogger(),\n",
    "]\n",
    "\n",
    "history = model.fit(\n",
    "    train_x, train_y, batch_size=128, epochs=10, validation_split=0.2, \n",
    "    callbacks=callbacks, verbose=2\n",
    ")"
   ]
  }
 ],
 "metadata": {
  "kernelspec": {
   "display_name": "Python 3",
   "language": "python",
   "name": "python3"
  },
  "language_info": {
   "codemirror_mode": {
    "name": "ipython",
    "version": 3
   },
   "file_extension": ".py",
   "mimetype": "text/x-python",
   "name": "python",
   "nbconvert_exporter": "python",
   "pygments_lexer": "ipython3",
   "version": "3.6.8"
  }
 },
 "nbformat": 4,
 "nbformat_minor": 2
}

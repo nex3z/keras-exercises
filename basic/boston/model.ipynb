{
 "cells": [
  {
   "cell_type": "code",
   "execution_count": 1,
   "metadata": {},
   "outputs": [
    {
     "name": "stderr",
     "output_type": "stream",
     "text": [
      "Using TensorFlow backend.\n"
     ]
    }
   ],
   "source": [
    "import numpy as np\n",
    "from keras.datasets import boston_housing\n",
    "from keras.datasets import reuters\n",
    "from keras.models import Sequential\n",
    "from keras.layers import Dense\n",
    "import matplotlib.pyplot as plt"
   ]
  },
  {
   "cell_type": "code",
   "execution_count": 2,
   "metadata": {},
   "outputs": [],
   "source": [
    "NUM_FOLD = 4"
   ]
  },
  {
   "cell_type": "code",
   "execution_count": 3,
   "metadata": {},
   "outputs": [
    {
     "name": "stdout",
     "output_type": "stream",
     "text": [
      "train_x.shape = (404, 13), train_y.shape = (404,)\n",
      "test_x.shape = (102, 13), test_y.shape = (102,)\n"
     ]
    }
   ],
   "source": [
    "(train_data, train_targets), (test_data, test_targets) = boston_housing.load_data()\n",
    "\n",
    "mean = train_data.mean(axis=0)\n",
    "std = train_data.std(axis=0)\n",
    "\n",
    "train_x = (train_data - mean) / std\n",
    "train_y = train_targets.copy()\n",
    "\n",
    "test_x = (test_data - mean) / std\n",
    "test_y = test_targets.copy()\n",
    "\n",
    "print(\"train_x.shape = {}, train_y.shape = {}\".format(train_x.shape, train_y.shape))\n",
    "print(\"test_x.shape = {}, test_y.shape = {}\".format(test_x.shape, test_y.shape))"
   ]
  },
  {
   "cell_type": "code",
   "execution_count": 4,
   "metadata": {},
   "outputs": [],
   "source": [
    "def build_model():\n",
    "    model = Sequential()\n",
    "    model.add(Dense(64, activation='relu', input_shape=(13, )))\n",
    "    model.add(Dense(1))\n",
    "    model.compile(optimizer='rmsprop', loss='mse', metrics=['mae'])\n",
    "    return model"
   ]
  },
  {
   "cell_type": "code",
   "execution_count": 5,
   "metadata": {},
   "outputs": [
    {
     "name": "stdout",
     "output_type": "stream",
     "text": [
      "processing fold 0\n",
      "WARNING:tensorflow:From /home/nex3z/dev/miniconda3/envs/tf/lib/python3.6/site-packages/tensorflow/python/framework/op_def_library.py:263: colocate_with (from tensorflow.python.framework.ops) is deprecated and will be removed in a future version.\n",
      "Instructions for updating:\n",
      "Colocations handled automatically by placer.\n",
      "WARNING:tensorflow:From /home/nex3z/dev/miniconda3/envs/tf/lib/python3.6/site-packages/tensorflow/python/ops/math_ops.py:3066: to_int32 (from tensorflow.python.ops.math_ops) is deprecated and will be removed in a future version.\n",
      "Instructions for updating:\n",
      "Use tf.cast instead.\n",
      "processing fold 1\n",
      "processing fold 2\n",
      "processing fold 3\n"
     ]
    }
   ],
   "source": [
    "mae_history = []\n",
    "num_val = len(train_x) // NUM_FOLD\n",
    "\n",
    "for i in range(NUM_FOLD):\n",
    "    print(\"processing fold {}\".format(i))\n",
    "    val_x = train_x[i * num_val:(i + 1) * num_val]\n",
    "    val_y = train_y[i * num_val:(i + 1) * num_val]\n",
    "    \n",
    "    train_x_partial = np.concatenate([train_x[:i*num_val], train_x[(i + 1) * num_val:]], axis=0)\n",
    "    train_y_partial = np.concatenate([train_y[:i*num_val], train_y[(i + 1) * num_val:]], axis=0)\n",
    "    \n",
    "    model = build_model()\n",
    "    history = model.fit(train_x_partial, train_y_partial, epochs=50, batch_size=1,\n",
    "                        validation_data=(val_x, val_y), verbose=0)\n",
    "    mae_history.append(history.history['val_mean_absolute_error'])"
   ]
  },
  {
   "cell_type": "code",
   "execution_count": 6,
   "metadata": {},
   "outputs": [],
   "source": [
    "ave_mae_history = np.mean(mae_history, axis=0)"
   ]
  },
  {
   "cell_type": "code",
   "execution_count": 7,
   "metadata": {},
   "outputs": [
    {
     "data": {
      "image/png": "[encoded data removed]",
      "text/plain": [
       "<Figure size 432x288 with 1 Axes>"
      ]
     },
     "metadata": {
      "needs_background": "light"
     },
     "output_type": "display_data"
    }
   ],
   "source": [
    "plt.figure()\n",
    "epochs = range(1, len(ave_mae_history) + 1)\n",
    "plt.plot(epochs, ave_mae_history)\n",
    "plt.xlabel('Epochs')\n",
    "plt.ylabel('Validation MAE')\n",
    "\n",
    "plt.show()"
   ]
  },
  {
   "cell_type": "code",
   "execution_count": 8,
   "metadata": {},
   "outputs": [
    {
     "data": {
      "image/png": "[encoded data removed]",
      "text/plain": [
       "<Figure size 432x288 with 1 Axes>"
      ]
     },
     "metadata": {
      "needs_background": "light"
     },
     "output_type": "display_data"
    }
   ],
   "source": [
    "smoothed = []\n",
    "factor = 0.9\n",
    "num_exclude = 3\n",
    "for value in ave_mae_history[num_exclude:]:\n",
    "    if smoothed:\n",
    "        prev = smoothed[-1]\n",
    "        smoothed.append(prev * factor + value * (1 - factor))\n",
    "    else:\n",
    "        smoothed.append(value)\n",
    "\n",
    "plt.figure()\n",
    "epochs = range(num_exclude + 1, len(ave_mae_history) + 1)\n",
    "plt.plot(epochs, smoothed)\n",
    "plt.xlabel('Epochs')\n",
    "plt.ylabel('Smoothed validation MAE')\n",
    "\n",
    "plt.show()"
   ]
  },
  {
   "cell_type": "code",
   "execution_count": 9,
   "metadata": {},
   "outputs": [
    {
     "name": "stdout",
     "output_type": "stream",
     "text": [
      "102/102 [==============================] - 0s 458us/step\n",
      "test_mse = 19.906439986883424, test_mae = 2.7713561619029328\n"
     ]
    }
   ],
   "source": [
    "model = build_model()\n",
    "history = model.fit(train_x, train_y, epochs=30, batch_size=1, verbose=0)\n",
    "\n",
    "test_mse, test_mae = model.evaluate(test_x, test_y)\n",
    "print(\"test_mse = {}, test_mae = {}\".format(test_mse, test_mae))"
   ]
  },
  {
   "cell_type": "code",
   "execution_count": null,
   "metadata": {},
   "outputs": [],
   "source": []
  }
 ],
 "metadata": {
  "kernelspec": {
   "display_name": "Python 3",
   "language": "python",
   "name": "python3"
  },
  "language_info": {
   "codemirror_mode": {
    "name": "ipython",
    "version": 3
   },
   "file_extension": ".py",
   "mimetype": "text/x-python",
   "name": "python",
   "nbconvert_exporter": "python",
   "pygments_lexer": "ipython3",
   "version": "3.6.8"
  }
 },
 "nbformat": 4,
 "nbformat_minor": 2
}
